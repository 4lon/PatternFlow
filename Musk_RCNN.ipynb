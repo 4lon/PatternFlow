{
  "nbformat": 4,
  "nbformat_minor": 0,
  "metadata": {
    "colab": {
      "name": "Musk-RCNN.ipynb",
      "provenance": [],
      "collapsed_sections": [],
      "mount_file_id": "1sn2UhFSOZZoyAj5L2RL8YS_7_cthikKn",
      "authorship_tag": "ABX9TyPugfeUj1s/MDTpavLUB9ID"
    },
    "kernelspec": {
      "name": "python3",
      "display_name": "Python 3"
    },
    "language_info": {
      "name": "python"
    },
    "accelerator": "GPU"
  },
  "cells": [
    {
      "cell_type": "markdown",
      "metadata": {
        "id": "t84bc17tKTmU"
      },
      "source": [
        "test"
      ]
    },
    {
      "cell_type": "code",
      "metadata": {
        "id": "PzblyaBIFZqB"
      },
      "source": [
        ""
      ],
      "execution_count": null,
      "outputs": []
    },
    {
      "cell_type": "code",
      "metadata": {
        "id": "AQNtK-9zKSTc"
      },
      "source": [
        ""
      ],
      "execution_count": null,
      "outputs": []
    }
  ]
}