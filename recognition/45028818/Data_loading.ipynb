{
 "cells": [
  {
   "cell_type": "code",
   "execution_count": 1,
   "id": "f51cf76c",
   "metadata": {},
   "outputs": [],
   "source": [
    "import tensorflow as tf\n",
    "from tensorflow import keras \n",
    "import os\n",
    "import model as unet_model\n",
    "\n",
    "# Data Display \n",
    "import matplotlib.pylab as pl\n",
    "import matplotlib.gridspec as gridspec\n",
    "import matplotlib.pyplot as plt"
   ]
  },
  {
   "cell_type": "code",
   "execution_count": 2,
   "id": "bbd87afd",
   "metadata": {},
   "outputs": [],
   "source": [
    "# Global Constants\n",
    "IMAGE_HEIGHT = 512\n",
    "IMAGE_WIDTH = 512\n",
    "CHANNELS = 3\n",
    "BATCH_SIZE = 2\n",
    "IMAGE_HEIGHT = 512\n",
    "IMAGE_WIDTH = 512\n",
    "\n",
    "# File Paths\n",
    "image_path = os.path.join(\"data\", \"images\")\n",
    "mask_path = os.path.join(\"data\", \"masks\")\n",
    "\n",
    "## The arguments for keras image data generator functions\n",
    "# For the training and validation sets\n",
    "TRAIN_ARGS = dict(\n",
    "    rescale=1.0/255,        # Rescaling factor, applied after all other transformations\n",
    "    shear_range=0.1,        # Shear the Image by 10%\n",
    "    zoom_range=0.1,         # Zoom in or out by 10%\n",
    "    horizontal_flip=True,   # Randomly flip horizontally\n",
    "    vertical_flip=True,     # Randomly flip vertically\n",
    "    fill_mode='nearest',    # Fill gaps with nears pixel\n",
    "    validation_split=0.2)   # Reserve 20% for 'validation'\n",
    "\n",
    "# For the testing split\n",
    "TEST_ARGS = dict(\n",
    "    rescale=1.0/255,        # Rescaling factor, applied after all other transformations\n",
    "    validation_split=0.8)   # Reserve 80% for 'validation' (training)\n",
    "\n",
    "# Arguments for the flow from directory function call\n",
    "IMAGE_LOAD_ARGS = dict(\n",
    "    target_size=(IMAGE_HEIGHT, IMAGE_WIDTH),\n",
    "    batch_size=BATCH_SIZE,\n",
    "    interpolation=\"nearest\",\n",
    "    subset='training',\n",
    "    class_mode=None,\n",
    "    seed=42\n",
    "    ) "
   ]
  },
  {
   "cell_type": "code",
   "execution_count": 12,
   "id": "a31db126",
   "metadata": {},
   "outputs": [],
   "source": [
    "# A function that loads the images, splits into train/test segments, applies transformations detail in constants above\n",
    "# It returns a joined and batched version of the training data (image,mask) and a joined version of the test data (image,mask)\n",
    "# Each 'image' in image_train, mask_train, image_test, and mask_test will contain the number of images specified in BATCH_SIZE\n",
    "def pre_processing():\n",
    "    # Create image data generator that applies the data augmentation detailed in constants\n",
    "    train_image_generator = keras.preprocessing.image.ImageDataGenerator(**TRAIN_ARGS)\n",
    "    train_mask_generator = keras.preprocessing.image.ImageDataGenerator(**TRAIN_ARGS)\n",
    "    test_image_generator = keras.preprocessing.image.ImageDataGenerator(**TEST_ARGS)\n",
    "    test_mask_generator = keras.preprocessing.image.ImageDataGenerator(**TEST_ARGS)\n",
    "    \n",
    "    # Load test/train data through the respective data generator\n",
    "    # Training data \n",
    "    image_train = train_image_generator.flow_from_directory(\n",
    "        directory=image_path,\n",
    "        color_mode=\"rgb\",\n",
    "        **IMAGE_LOAD_ARGS)\n",
    "    \n",
    "    # Training Mask Data\n",
    "    mask_train = train_mask_generator.flow_from_directory(\n",
    "        directory=mask_path,\n",
    "        color_mode=\"grayscale\",\n",
    "        **IMAGE_LOAD_ARGS)\n",
    "    \n",
    "    \n",
    "    # Test Data\n",
    "    image_test = test_image_generator.flow_from_directory(\n",
    "        directory=image_path,\n",
    "        color_mode=\"rgb\",\n",
    "        **IMAGE_LOAD_ARGS)\n",
    "    \n",
    "    # Test Mask Data\n",
    "    mask_test = test_mask_generator.flow_from_directory(\n",
    "        directory=mask_path,\n",
    "        color_mode=\"grayscale\",\n",
    "        **IMAGE_LOAD_ARGS)\n",
    "\n",
    "    # Return a joined version of the training data (image,mask) and a joined version of the test data (image,mask)\n",
    "    return zip(image_train, mask_train), zip(image_test, mask_test)\n",
    "    \n",
    "# Dice coefficent (sorensen), smooth value is to prevent 0 division errors\n",
    "def dice_coefficient(truth, predicted, smooth=1e-5):\n",
    "    union = tf.reduce_sum(predicted * truth)\n",
    "    numerator = 2.0 * union + smooth\n",
    "    denominator = tf.reduce_sum(predicted) + tf.reduce_sum(truth) + smooth\n",
    "    \n",
    "    dice = tf.reduce_mean(numerator/denominator)\n",
    "    return dice\n",
    "\n",
    "# Finds dice coefficent and turns it into a loss value\n",
    "def dice_error(truth, predicted):\n",
    "    return 1.0 - dice_coefficient(truth, predicted)\n",
    "    \n",
    "# Threshold function that takes a predicted mask and returns a thresholded mask based upon the predicted probabilities, threshold = 0.5\n",
    "def threshold_mask(predicted):\n",
    "    threshold = 0.5\n",
    "    \n",
    "    binary_predicted = predicted > threshold\n",
    "    return binary_predicted\n",
    "\n",
    "# Function that takes a training set of data and a compiled model -> Then runs the model, it returns the trained model and tracked data\n",
    "def train_model(train, model, epoch_count):\n",
    "    trained = model.fit(\n",
    "        train,\n",
    "        steps_per_epoch=1039,\n",
    "        epochs=epoch_count,\n",
    "        shuffle=True,\n",
    "        verbose=1,\n",
    "        use_multiprocessing=False)\n",
    "    \n",
    "    return trained, model\n",
    "\n",
    "# Takes the data from a trained model and plots the accuracy, loss, and dice_coefficent over epochs\n",
    "def display_training_data(trained):\n",
    "    # Create 2x2 sub plots\n",
    "    gs = gridspec.GridSpec(3, 2)\n",
    "    \n",
    "    pl.figure()\n",
    "    ax = pl.subplot(gs[0, 0]) # row 0, col 0\n",
    "    pl.plot(trained.history['accuracy'])\n",
    "    pl.title(\"Accuracy\")\n",
    "\n",
    "    ax = pl.subplot(gs[0, 1]) # row 0, col 1\n",
    "    pl.plot(trained.history['loss'])\n",
    "    pl.title(\"Loss\")\n",
    "\n",
    "    ax = pl.subplot(gs[2, :]) # row 1, span all columns\n",
    "    pl.plot(trained.history['dice_coefficient'])\n",
    "    pl.title(\"dice_coefficient\")\n",
    "    "
   ]
  },
  {
   "cell_type": "code",
   "execution_count": 4,
   "id": "c2812f87",
   "metadata": {},
   "outputs": [],
   "source": [
    "# for batch in test:\n",
    "#     prediction = model.predict(batch[0])\n",
    "#     fig, axs = plt.subplots(2, 2)\n",
    "#     axs[0,0].imshow(batch[0][0])\n",
    "#     axs[0,1].imshow(batch[1][0], cmap='gray')\n",
    "#     binary_predict = threshold_mask(prediction[0])\n",
    "#     axs[1,0].imshow(binary_predict, cmap='gray')\n",
    "#     plt.show()\n",
    "#     break"
   ]
  },
  {
   "cell_type": "code",
   "execution_count": 5,
   "id": "b0aa4ed6",
   "metadata": {},
   "outputs": [],
   "source": [
    "# truth = batch[1][0]\n",
    "# pred = prediction[0]\n",
    "# dice_error(truth, binary_predict)"
   ]
  },
  {
   "cell_type": "code",
   "execution_count": 6,
   "id": "49b05b5c",
   "metadata": {},
   "outputs": [],
   "source": [
    "def main():\n",
    "    # Retrieve training and test data\n",
    "    train,test = pre_processing()\n",
    "    \n",
    "    # Build model from model.py\n",
    "    model = unet_model.improved_unet()\n",
    "    # Compile built model\n",
    "    model.compile(optimizer=keras.optimizers.Adam(learning_rate=1e-4), loss=dice_error, metrics=['Accuracy', dice_coefficient])\n",
    "    \n",
    "    # Train Model\n",
    "    trained, model = train_model(train, model, epoch_count=10)\n",
    "    # Plot training data\n",
    "    return trained, model, train, test"
   ]
  },
  {
   "cell_type": "code",
   "execution_count": 7,
   "id": "2fecfef2",
   "metadata": {},
   "outputs": [
    {
     "name": "stdout",
     "output_type": "stream",
     "text": [
      "Found 2076 images belonging to 1 classes.\n",
      "Found 2076 images belonging to 1 classes.\n",
      "Found 519 images belonging to 1 classes.\n",
      "Found 519 images belonging to 1 classes.\n",
      "Epoch 1/10\n",
      "1039/1039 [==============================] - 182s 165ms/step - loss: 0.6878 - accuracy: 0.0000e+00 - dice_coefficient: 0.3122\n",
      "Epoch 2/10\n",
      "1039/1039 [==============================] - 169s 163ms/step - loss: 0.4810 - accuracy: 0.0000e+00 - dice_coefficient: 0.5190\n",
      "Epoch 3/10\n",
      "1039/1039 [==============================] - 170s 163ms/step - loss: 0.3277 - accuracy: 0.0000e+00 - dice_coefficient: 0.6723\n",
      "Epoch 4/10\n",
      "1039/1039 [==============================] - 168s 162ms/step - loss: 0.2502 - accuracy: 7.0280e-05 - dice_coefficient: 0.7498\n",
      "Epoch 5/10\n",
      "1039/1039 [==============================] - 169s 162ms/step - loss: 0.2135 - accuracy: 4.6009e-04 - dice_coefficient: 0.7865\n",
      "Epoch 6/10\n",
      "1039/1039 [==============================] - 175s 168ms/step - loss: 0.1902 - accuracy: 0.0013 - dice_coefficient: 0.8098\n",
      "Epoch 7/10\n",
      "1039/1039 [==============================] - 181s 175ms/step - loss: 0.1731 - accuracy: 0.0027 - dice_coefficient: 0.8269\n",
      "Epoch 8/10\n",
      "1039/1039 [==============================] - 172s 165ms/step - loss: 0.1642 - accuracy: 0.0048 - dice_coefficient: 0.8358\n",
      "Epoch 9/10\n",
      "1039/1039 [==============================] - 169s 163ms/step - loss: 0.1607 - accuracy: 0.0071 - dice_coefficient: 0.8393\n",
      "Epoch 10/10\n",
      "1039/1039 [==============================] - 180s 174ms/step - loss: 0.1572 - accuracy: 0.0097 - dice_coefficient: 0.8428\n"
     ]
    }
   ],
   "source": [
    "trained, model, train, test = main()"
   ]
  },
  {
   "cell_type": "code",
   "execution_count": 13,
   "id": "fbaad7a9",
   "metadata": {},
   "outputs": [
    {
     "data": {
      "image/png": "[encoded data removed]",
      "text/plain": [
       "<Figure size 432x288 with 3 Axes>"
      ]
     },
     "metadata": {
      "needs_background": "light"
     },
     "output_type": "display_data"
    }
   ],
   "source": [
    "display_training_data(trained)\n"
   ]
  },
  {
   "cell_type": "code",
   "execution_count": null,
   "id": "406a28c6",
   "metadata": {},
   "outputs": [],
   "source": []
  }
 ],
 "metadata": {
  "kernelspec": {
   "display_name": "TensorFlow-GPU",
   "language": "python",
   "name": "tf-gpu0"
  },
  "language_info": {
   "codemirror_mode": {
    "name": "ipython",
    "version": 3
   },
   "file_extension": ".py",
   "mimetype": "text/x-python",
   "name": "python",
   "nbconvert_exporter": "python",
   "pygments_lexer": "ipython3",
   "version": "3.9.7"
  }
 },
 "nbformat": 4,
 "nbformat_minor": 5
}
