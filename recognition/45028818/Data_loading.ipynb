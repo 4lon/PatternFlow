{
 "cells": [
  {
   "cell_type": "code",
   "execution_count": 11,
   "id": "293e78d4",
   "metadata": {},
   "outputs": [],
   "source": [
    "import tensorflow as tf\n",
    "import matplotlib.pyplot as pls\n",
    "import os\n",
    "\n",
    "from tensorflow import keras "
   ]
  },
  {
   "cell_type": "code",
   "execution_count": 26,
   "id": "4d5b912e",
   "metadata": {},
   "outputs": [],
   "source": [
    "# Global Constants\n",
    "IMAGE_HEIGHT = 512\n",
    "IMAGE_WIDTH = 512\n",
    "CHANNELS = 3\n",
    "BATCH_SIZE = 2\n",
    "IMAGE_HEIGHT = 512\n",
    "IMAGE_WIDTH = 512\n",
    "\n",
    "# File Paths\n",
    "image_path = os.path.join(\"data\", \"images\")\n",
    "mask_path = os.path.join(\"data\", \"masks\")\n",
    "\n",
    "## The arguments for keras image data generator functions\n",
    "# For the training and validation sets\n",
    "TRAIN_ARGS = dict(\n",
    "    rescale=1.0/255,        # Rescaling factor, applied after all other transformations\n",
    "    shear_range=0.1,        # Shear the Image by 10%\n",
    "    zoom_range=0.1,         # Zoom in or out by 10%\n",
    "    horizontal_flip=True,   # Randomly flip horizontally\n",
    "    vertical_flip=True,     # Randomly flip vertically\n",
    "    fill_mode='nearest',    # Fill gaps with nears pixel\n",
    "    validation_split=0.2)   # Reserve 20% for 'validation'\n",
    "\n",
    "# For the testing split\n",
    "TEST_ARGS = dict(\n",
    "    rescale=1.0/255,        # Rescaling factor, applied after all other transformations\n",
    "    validation_split=0.8)   # Reserve 80% for 'validation' (training)\n",
    "\n",
    "# Arguments for the flow from directory function call\n",
    "IMAGE_LOAD_ARGS = dict(\n",
    "    target_size=(IMAGE_HEIGHT, IMAGE_WIDTH),\n",
    "    batch_size=BATCH_SIZE,\n",
    "    interpolation=\"nearest\",\n",
    "    subset='training',\n",
    "    class_mode=None,\n",
    "    seed=42\n",
    "    ) "
   ]
  },
  {
   "cell_type": "code",
   "execution_count": 38,
   "id": "31e90da4",
   "metadata": {},
   "outputs": [],
   "source": [
    "def pre_processing():\n",
    "    # Create image data generator that applies the data augmentation detailed in constants\n",
    "    train_image_generator = keras.preprocessing.image.ImageDataGenerator(**TRAIN_ARGS)\n",
    "    train_mask_generator = keras.preprocessing.image.ImageDataGenerator(**TRAIN_ARGS)\n",
    "    test_image_generator = keras.preprocessing.image.ImageDataGenerator(**TEST_ARGS)\n",
    "    test_mask_generator = keras.preprocessing.image.ImageDataGenerator(**TEST_ARGS)\n",
    "    \n",
    "    # Load test/train data through the respective data generator\n",
    "    # Training data \n",
    "    image_train = train_image_generator.flow_from_directory(\n",
    "        directory=image_path,\n",
    "        color_mode=\"rgb\",\n",
    "        **IMAGE_LOAD_ARGS)\n",
    "    \n",
    "    # Training Mask Data\n",
    "    mask_train = train_mask_generator.flow_from_directory(\n",
    "        directory=mask_path,\n",
    "        color_mode=\"grayscale\",\n",
    "        **IMAGE_LOAD_ARGS)\n",
    "    \n",
    "    \n",
    "    # Test Data\n",
    "    image_test = test_image_generator.flow_from_directory(\n",
    "        directory=image_path,\n",
    "        color_mode=\"rgb\",\n",
    "        **IMAGE_LOAD_ARGS)\n",
    "    \n",
    "    # Test Mask Data\n",
    "    mask_test = test_mask_generator.flow_from_directory(\n",
    "        directory=mask_path,\n",
    "        color_mode=\"grayscale\",\n",
    "        **IMAGE_LOAD_ARGS)\n",
    "    \n",
    "    # Return a joined version of the training data (image,mask) and a joined version of the test data (image,mask)\n",
    "    return zip(image_train, mask_train), zip(image_test, mask_test)\n",
    "    "
   ]
  },
  {
   "cell_type": "code",
   "execution_count": 39,
   "id": "f75dffc9",
   "metadata": {},
   "outputs": [
    {
     "name": "stdout",
     "output_type": "stream",
     "text": [
      "Found 2076 images belonging to 1 classes.\n",
      "Found 2076 images belonging to 1 classes.\n",
      "Found 519 images belonging to 1 classes.\n",
      "Found 519 images belonging to 1 classes.\n"
     ]
    },
    {
     "data": {
      "text/plain": [
       "(<zip at 0x1d089a06100>, <zip at 0x1d08b0f5880>)"
      ]
     },
     "execution_count": 39,
     "metadata": {},
     "output_type": "execute_result"
    }
   ],
   "source": [
    "pre_processing()"
   ]
  },
  {
   "cell_type": "code",
   "execution_count": null,
   "id": "0bb61684",
   "metadata": {},
   "outputs": [],
   "source": [
    "\n"
   ]
  },
  {
   "cell_type": "code",
   "execution_count": null,
   "id": "b9785f3f",
   "metadata": {},
   "outputs": [],
   "source": []
  }
 ],
 "metadata": {
  "kernelspec": {
   "display_name": "TensorFlow-GPU",
   "language": "python",
   "name": "tf-gpu0"
  },
  "language_info": {
   "codemirror_mode": {
    "name": "ipython",
    "version": 3
   },
   "file_extension": ".py",
   "mimetype": "text/x-python",
   "name": "python",
   "nbconvert_exporter": "python",
   "pygments_lexer": "ipython3",
   "version": "3.9.6"
  }
 },
 "nbformat": 4,
 "nbformat_minor": 5
}
