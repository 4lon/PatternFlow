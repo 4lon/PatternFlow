{
 "cells": [
  {
   "cell_type": "code",
   "execution_count": 1,
   "id": "cd6e06f2",
   "metadata": {},
   "outputs": [],
   "source": [
    "import tensorflow as tf\n",
    "from tensorflow import keras \n",
    "import matplotlib.pyplot as plt\n",
    "import os\n",
    "import model as unet_model\n"
   ]
  },
  {
   "cell_type": "code",
   "execution_count": 2,
   "id": "8daa866a",
   "metadata": {},
   "outputs": [],
   "source": [
    "# Global Constants\n",
    "IMAGE_HEIGHT = 512\n",
    "IMAGE_WIDTH = 512\n",
    "CHANNELS = 3\n",
    "BATCH_SIZE = 2\n",
    "IMAGE_HEIGHT = 512\n",
    "IMAGE_WIDTH = 512\n",
    "\n",
    "# File Paths\n",
    "image_path = os.path.join(\"data\", \"images\")\n",
    "mask_path = os.path.join(\"data\", \"masks\")\n",
    "\n",
    "## The arguments for keras image data generator functions\n",
    "# For the training and validation sets\n",
    "TRAIN_ARGS = dict(\n",
    "    rescale=1.0/255,        # Rescaling factor, applied after all other transformations\n",
    "    shear_range=0.1,        # Shear the Image by 10%\n",
    "    zoom_range=0.1,         # Zoom in or out by 10%\n",
    "    horizontal_flip=True,   # Randomly flip horizontally\n",
    "    vertical_flip=True,     # Randomly flip vertically\n",
    "    fill_mode='nearest',    # Fill gaps with nears pixel\n",
    "    validation_split=0.2)   # Reserve 20% for 'validation'\n",
    "\n",
    "# For the testing split\n",
    "TEST_ARGS = dict(\n",
    "    rescale=1.0/255,        # Rescaling factor, applied after all other transformations\n",
    "    validation_split=0.8)   # Reserve 80% for 'validation' (training)\n",
    "\n",
    "# Arguments for the flow from directory function call\n",
    "IMAGE_LOAD_ARGS = dict(\n",
    "    target_size=(IMAGE_HEIGHT, IMAGE_WIDTH),\n",
    "    batch_size=BATCH_SIZE,\n",
    "    interpolation=\"nearest\",\n",
    "    subset='training',\n",
    "    class_mode=None,\n",
    "    seed=42\n",
    "    ) "
   ]
  },
  {
   "cell_type": "code",
   "execution_count": 3,
   "id": "9c38385e",
   "metadata": {},
   "outputs": [],
   "source": [
    "# A function that loads the images, splits into train/test segments, applies transformations detail in constants above\n",
    "# It returns a joined and batched version of the training data (image,mask) and a joined version of the test data (image,mask)\n",
    "# Each 'image' in image_train, mask_train, image_test, and mask_test will contain the number of images specified in BATCH_SIZE\n",
    "def pre_processing():\n",
    "    # Create image data generator that applies the data augmentation detailed in constants\n",
    "    train_image_generator = keras.preprocessing.image.ImageDataGenerator(**TRAIN_ARGS)\n",
    "    train_mask_generator = keras.preprocessing.image.ImageDataGenerator(**TRAIN_ARGS)\n",
    "    test_image_generator = keras.preprocessing.image.ImageDataGenerator(**TEST_ARGS)\n",
    "    test_mask_generator = keras.preprocessing.image.ImageDataGenerator(**TEST_ARGS)\n",
    "    \n",
    "    # Load test/train data through the respective data generator\n",
    "    # Training data \n",
    "    image_train = train_image_generator.flow_from_directory(\n",
    "        directory=image_path,\n",
    "        color_mode=\"rgb\",\n",
    "        **IMAGE_LOAD_ARGS)\n",
    "    \n",
    "    # Training Mask Data\n",
    "    mask_train = train_mask_generator.flow_from_directory(\n",
    "        directory=mask_path,\n",
    "        color_mode=\"grayscale\",\n",
    "        **IMAGE_LOAD_ARGS)\n",
    "    \n",
    "    \n",
    "    # Test Data\n",
    "    image_test = test_image_generator.flow_from_directory(\n",
    "        directory=image_path,\n",
    "        color_mode=\"rgb\",\n",
    "        **IMAGE_LOAD_ARGS)\n",
    "    \n",
    "    # Test Mask Data\n",
    "    mask_test = test_mask_generator.flow_from_directory(\n",
    "        directory=mask_path,\n",
    "        color_mode=\"grayscale\",\n",
    "        **IMAGE_LOAD_ARGS)\n",
    "\n",
    "    # Return a joined version of the training data (image,mask) and a joined version of the test data (image,mask)\n",
    "    return zip(image_train, mask_train), zip(image_test, mask_test)\n",
    "    \n",
    "# Dice coefficent (sorensen), smooth value is to prevent 0 division errors\n",
    "def dice_coefficient(truth, predicted, smooth=1e-5):\n",
    "    union = tf.reduce_sum(predicted * truth)\n",
    "    numerator = 2.0 * union + smooth\n",
    "    denominator = tf.reduce_sum(predicted) + tf.reduce_sum(truth) + smooth\n",
    "    \n",
    "    dice = tf.reduce_mean(numerator/denominator)\n",
    "    return dice\n",
    "\n",
    "# Finds dice coefficent and turns it into a loss value\n",
    "def dice_error(truth, predicted):\n",
    "    return 1.0 - dice_coefficient(truth, predicted)\n",
    "    \n",
    "# Threshold function that takes a predicted mask and returns a thresholded mask based upon the predicted probabilities, threshold = 0.5\n",
    "def threshold_mask(predicted):\n",
    "    threshold = 0.5\n",
    "    \n",
    "    binary_predicted = predicted > threshold\n",
    "    return binary_predicted"
   ]
  },
  {
   "cell_type": "code",
   "execution_count": 4,
   "id": "93131ef1",
   "metadata": {},
   "outputs": [
    {
     "name": "stdout",
     "output_type": "stream",
     "text": [
      "Found 2076 images belonging to 1 classes.\n",
      "Found 2076 images belonging to 1 classes.\n",
      "Found 519 images belonging to 1 classes.\n",
      "Found 519 images belonging to 1 classes.\n"
     ]
    }
   ],
   "source": [
    "train,test = pre_processing()"
   ]
  },
  {
   "cell_type": "code",
   "execution_count": 6,
   "id": "6073e103",
   "metadata": {},
   "outputs": [],
   "source": [
    "model = unet_model.improved_unet()\n",
    "model.compile(optimizer=keras.optimizers.Adam(learning_rate=1e-4), loss=dice_error, metrics=['Accuracy', dice_coefficient])\n"
   ]
  },
  {
   "cell_type": "code",
   "execution_count": 7,
   "id": "79b2dc63",
   "metadata": {},
   "outputs": [
    {
     "name": "stdout",
     "output_type": "stream",
     "text": [
      "Epoch 1/5\n",
      "1039/1039 [==============================] - 187s 169ms/step - loss: 0.6777 - accuracy: 0.0000e+00 - dice_coefficient: 0.3223\n",
      "Epoch 2/5\n",
      "1039/1039 [==============================] - 169s 162ms/step - loss: 0.4984 - accuracy: 0.0000e+00 - dice_coefficient: 0.5016\n",
      "Epoch 3/5\n",
      "1039/1039 [==============================] - 170s 163ms/step - loss: 0.3322 - accuracy: 3.1667e-06 - dice_coefficient: 0.6678\n",
      "Epoch 4/5\n",
      "1039/1039 [==============================] - 167s 161ms/step - loss: 0.2485 - accuracy: 1.4277e-04 - dice_coefficient: 0.7515\n",
      "Epoch 5/5\n",
      "1039/1039 [==============================] - 166s 159ms/step - loss: 0.2115 - accuracy: 8.1118e-04 - dice_coefficient: 0.7885\n"
     ]
    }
   ],
   "source": [
    "training = model.fit(\n",
    "    train,\n",
    "    steps_per_epoch=1039,\n",
    "    epochs=5,\n",
    "    shuffle=True,\n",
    "    verbose=1,\n",
    "    use_multiprocessing=False)"
   ]
  },
  {
   "cell_type": "code",
   "execution_count": 8,
   "id": "f80e4c96",
   "metadata": {},
   "outputs": [
    {
     "data": {
      "image/png": "[encoded data removed]",
      "text/plain": [
       "<Figure size 432x288 with 4 Axes>"
      ]
     },
     "metadata": {
      "needs_background": "light"
     },
     "output_type": "display_data"
    }
   ],
   "source": [
    "for batch in test:\n",
    "    prediction = model.predict(batch[0])\n",
    "    fig, axs = plt.subplots(2, 2)\n",
    "    axs[0,0].imshow(batch[0][0])\n",
    "    axs[0,1].imshow(batch[1][0], cmap='gray')\n",
    "    binary_predict = threshold_mask(prediction[0])\n",
    "    axs[1,0].imshow(binary_predict, cmap='gray')\n",
    "    plt.show()\n",
    "    break"
   ]
  },
  {
   "cell_type": "code",
   "execution_count": null,
   "id": "3de1e84e",
   "metadata": {},
   "outputs": [],
   "source": [
    "truth = batch[1][0]\n",
    "pred = prediction[0]\n",
    "dice_error(truth, binary_predict)"
   ]
  },
  {
   "cell_type": "code",
   "execution_count": null,
   "id": "f12a3d6a",
   "metadata": {},
   "outputs": [],
   "source": []
  },
  {
   "cell_type": "code",
   "execution_count": null,
   "id": "066cfb8c",
   "metadata": {},
   "outputs": [],
   "source": []
  }
 ],
 "metadata": {
  "kernelspec": {
   "display_name": "TensorFlow-GPU",
   "language": "python",
   "name": "tf-gpu0"
  },
  "language_info": {
   "codemirror_mode": {
    "name": "ipython",
    "version": 3
   },
   "file_extension": ".py",
   "mimetype": "text/x-python",
   "name": "python",
   "nbconvert_exporter": "python",
   "pygments_lexer": "ipython3",
   "version": "3.9.7"
  }
 },
 "nbformat": 4,
 "nbformat_minor": 5
}
