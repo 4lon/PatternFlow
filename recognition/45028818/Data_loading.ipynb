{
 "cells": [
  {
   "cell_type": "code",
   "execution_count": 1,
   "id": "4c1dcc0e",
   "metadata": {},
   "outputs": [],
   "source": [
    "import tensorflow as tf\n",
    "import matplotlib.pyplot as pls"
   ]
  },
  {
   "cell_type": "code",
   "execution_count": 2,
   "id": "4c924309",
   "metadata": {},
   "outputs": [],
   "source": [
    "# Global Constants\n",
    "IMAGE_HEIGHT = 512\n",
    "IMAGE_WIDTH = 512\n",
    "CHANNELS = 3\n",
    "\n",
    "## The arguments for keras image data generator functions\n",
    "TRAIN_ARGS = dict(\n",
    "    rescale=1.0/255,        # Rescaling factor, applied after all other transformations\n",
    "    shear_range=0.1,        # Shear the Image by 10%\n",
    "    zoom_range=0.1,         # Zoom in or out by 10%\n",
    "    horizontal_flip=True,   # Randomly flip horizontally\n",
    "    vertical_flip=True,     # Randomly flip vertically\n",
    "    fill_mode='nearest',    # Fill gaps with nears pixel\n",
    "    validation_split=0.2)   # Reserve 20% for 'validation'\n",
    "\n",
    "TEST_ARGS = dict(\n",
    "    rescale=1.0/255,        # Rescaling factor, applied after all other transformations\n",
    "    validation_split=0.8)   # Reserve 80% for 'validation' (training)\n",
    "\n",
    "\n"
   ]
  },
  {
   "cell_type": "code",
   "execution_count": null,
   "id": "2ee53f86",
   "metadata": {},
   "outputs": [],
   "source": [
    "def pre_processing():\n",
    "    "
   ]
  }
 ],
 "metadata": {
  "kernelspec": {
   "display_name": "TensorFlow-GPU",
   "language": "python",
   "name": "tf-gpu0"
  },
  "language_info": {
   "codemirror_mode": {
    "name": "ipython",
    "version": 3
   },
   "file_extension": ".py",
   "mimetype": "text/x-python",
   "name": "python",
   "nbconvert_exporter": "python",
   "pygments_lexer": "ipython3",
   "version": "3.9.6"
  }
 },
 "nbformat": 4,
 "nbformat_minor": 5
}
