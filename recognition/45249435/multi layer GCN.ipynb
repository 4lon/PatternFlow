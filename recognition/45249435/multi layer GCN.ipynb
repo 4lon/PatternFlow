{
 "cells": [
  {
   "cell_type": "code",
   "execution_count": 52,
   "id": "5ff6e597",
   "metadata": {},
   "outputs": [],
   "source": [
    "import tensorflow as tf\n",
    "import pandas as pd\n",
    "import numpy as np\n",
    "import stellargraph as sg\n",
    "from sklearn.model_selection import train_test_split\n",
    "from sklearn import preprocessing as pre\n",
    "from stellargraph.layer.gcn import GraphConvolution, GatherIndices\n",
    "import scipy.sparse as sp\n",
    "from tensorflow.keras.layers import Input, Layer, Lambda, Dropout, Reshape, Dense\n",
    "from tensorflow.keras import layers, optimizers, losses, metrics, Model\n",
    "from stellargraph.mapper import FullBatchNodeGenerator\n",
    "from stellargraph.layer import GCN\n",
    "from tensorflow.keras.callbacks import EarlyStopping"
   ]
  },
  {
   "cell_type": "code",
   "execution_count": 53,
   "id": "5f9b5bdb",
   "metadata": {},
   "outputs": [],
   "source": [
    "# get the data into dataframes\n",
    "edges = pd.read_csv(\"musae_facebook_edges.csv\")\n",
    "target = pd.read_csv(\"musae_facebook_target.csv\")"
   ]
  },
  {
   "cell_type": "code",
   "execution_count": 54,
   "id": "f1ac2010",
   "metadata": {},
   "outputs": [
    {
     "data": {
      "text/html": [
       "<div>\n",
       "<style scoped>\n",
       "    .dataframe tbody tr th:only-of-type {\n",
       "        vertical-align: middle;\n",
       "    }\n",
       "\n",
       "    .dataframe tbody tr th {\n",
       "        vertical-align: top;\n",
       "    }\n",
       "\n",
       "    .dataframe thead th {\n",
       "        text-align: right;\n",
       "    }\n",
       "</style>\n",
       "<table border=\"1\" class=\"dataframe\">\n",
       "  <thead>\n",
       "    <tr style=\"text-align: right;\">\n",
       "      <th></th>\n",
       "      <th>id_1</th>\n",
       "      <th>id_2</th>\n",
       "    </tr>\n",
       "  </thead>\n",
       "  <tbody>\n",
       "    <tr>\n",
       "      <th>0</th>\n",
       "      <td>0</td>\n",
       "      <td>18427</td>\n",
       "    </tr>\n",
       "    <tr>\n",
       "      <th>1</th>\n",
       "      <td>1</td>\n",
       "      <td>21708</td>\n",
       "    </tr>\n",
       "    <tr>\n",
       "      <th>2</th>\n",
       "      <td>1</td>\n",
       "      <td>22208</td>\n",
       "    </tr>\n",
       "    <tr>\n",
       "      <th>3</th>\n",
       "      <td>1</td>\n",
       "      <td>22171</td>\n",
       "    </tr>\n",
       "    <tr>\n",
       "      <th>4</th>\n",
       "      <td>1</td>\n",
       "      <td>6829</td>\n",
       "    </tr>\n",
       "    <tr>\n",
       "      <th>...</th>\n",
       "      <td>...</td>\n",
       "      <td>...</td>\n",
       "    </tr>\n",
       "    <tr>\n",
       "      <th>170997</th>\n",
       "      <td>20188</td>\n",
       "      <td>20188</td>\n",
       "    </tr>\n",
       "    <tr>\n",
       "      <th>170998</th>\n",
       "      <td>22340</td>\n",
       "      <td>22383</td>\n",
       "    </tr>\n",
       "    <tr>\n",
       "      <th>170999</th>\n",
       "      <td>22348</td>\n",
       "      <td>22348</td>\n",
       "    </tr>\n",
       "    <tr>\n",
       "      <th>171000</th>\n",
       "      <td>5563</td>\n",
       "      <td>5563</td>\n",
       "    </tr>\n",
       "    <tr>\n",
       "      <th>171001</th>\n",
       "      <td>22425</td>\n",
       "      <td>22425</td>\n",
       "    </tr>\n",
       "  </tbody>\n",
       "</table>\n",
       "<p>171002 rows × 2 columns</p>\n",
       "</div>"
      ],
      "text/plain": [
       "         id_1   id_2\n",
       "0           0  18427\n",
       "1           1  21708\n",
       "2           1  22208\n",
       "3           1  22171\n",
       "4           1   6829\n",
       "...       ...    ...\n",
       "170997  20188  20188\n",
       "170998  22340  22383\n",
       "170999  22348  22348\n",
       "171000   5563   5563\n",
       "171001  22425  22425\n",
       "\n",
       "[171002 rows x 2 columns]"
      ]
     },
     "execution_count": 54,
     "metadata": {},
     "output_type": "execute_result"
    }
   ],
   "source": [
    "edges"
   ]
  },
  {
   "cell_type": "code",
   "execution_count": 55,
   "id": "149f8f64",
   "metadata": {},
   "outputs": [
    {
     "data": {
      "text/html": [
       "<div>\n",
       "<style scoped>\n",
       "    .dataframe tbody tr th:only-of-type {\n",
       "        vertical-align: middle;\n",
       "    }\n",
       "\n",
       "    .dataframe tbody tr th {\n",
       "        vertical-align: top;\n",
       "    }\n",
       "\n",
       "    .dataframe thead th {\n",
       "        text-align: right;\n",
       "    }\n",
       "</style>\n",
       "<table border=\"1\" class=\"dataframe\">\n",
       "  <thead>\n",
       "    <tr style=\"text-align: right;\">\n",
       "      <th></th>\n",
       "      <th>id</th>\n",
       "      <th>facebook_id</th>\n",
       "      <th>page_name</th>\n",
       "      <th>page_type</th>\n",
       "    </tr>\n",
       "  </thead>\n",
       "  <tbody>\n",
       "    <tr>\n",
       "      <th>0</th>\n",
       "      <td>0</td>\n",
       "      <td>145647315578475</td>\n",
       "      <td>The Voice of China 中国好声音</td>\n",
       "      <td>tvshow</td>\n",
       "    </tr>\n",
       "    <tr>\n",
       "      <th>1</th>\n",
       "      <td>1</td>\n",
       "      <td>191483281412</td>\n",
       "      <td>U.S. Consulate General Mumbai</td>\n",
       "      <td>government</td>\n",
       "    </tr>\n",
       "    <tr>\n",
       "      <th>2</th>\n",
       "      <td>2</td>\n",
       "      <td>144761358898518</td>\n",
       "      <td>ESET</td>\n",
       "      <td>company</td>\n",
       "    </tr>\n",
       "    <tr>\n",
       "      <th>3</th>\n",
       "      <td>3</td>\n",
       "      <td>568700043198473</td>\n",
       "      <td>Consulate General of Switzerland in Montreal</td>\n",
       "      <td>government</td>\n",
       "    </tr>\n",
       "    <tr>\n",
       "      <th>4</th>\n",
       "      <td>4</td>\n",
       "      <td>1408935539376139</td>\n",
       "      <td>Mark Bailey MP - Labor for Miller</td>\n",
       "      <td>politician</td>\n",
       "    </tr>\n",
       "    <tr>\n",
       "      <th>...</th>\n",
       "      <td>...</td>\n",
       "      <td>...</td>\n",
       "      <td>...</td>\n",
       "      <td>...</td>\n",
       "    </tr>\n",
       "    <tr>\n",
       "      <th>22465</th>\n",
       "      <td>22465</td>\n",
       "      <td>1379955382222841</td>\n",
       "      <td>Kurt Wiegel MdL</td>\n",
       "      <td>politician</td>\n",
       "    </tr>\n",
       "    <tr>\n",
       "      <th>22466</th>\n",
       "      <td>22466</td>\n",
       "      <td>1651527995097082</td>\n",
       "      <td>dubdub Stories</td>\n",
       "      <td>company</td>\n",
       "    </tr>\n",
       "    <tr>\n",
       "      <th>22467</th>\n",
       "      <td>22467</td>\n",
       "      <td>155369444540412</td>\n",
       "      <td>Ministerio del Interior - Paraguay</td>\n",
       "      <td>government</td>\n",
       "    </tr>\n",
       "    <tr>\n",
       "      <th>22468</th>\n",
       "      <td>22468</td>\n",
       "      <td>175067819212798</td>\n",
       "      <td>Tottus Perú</td>\n",
       "      <td>company</td>\n",
       "    </tr>\n",
       "    <tr>\n",
       "      <th>22469</th>\n",
       "      <td>22469</td>\n",
       "      <td>27208897877</td>\n",
       "      <td>SPORT1 Doppelpass</td>\n",
       "      <td>tvshow</td>\n",
       "    </tr>\n",
       "  </tbody>\n",
       "</table>\n",
       "<p>22470 rows × 4 columns</p>\n",
       "</div>"
      ],
      "text/plain": [
       "          id       facebook_id                                     page_name  \\\n",
       "0          0   145647315578475                      The Voice of China 中国好声音   \n",
       "1          1      191483281412                 U.S. Consulate General Mumbai   \n",
       "2          2   144761358898518                                          ESET   \n",
       "3          3   568700043198473  Consulate General of Switzerland in Montreal   \n",
       "4          4  1408935539376139             Mark Bailey MP - Labor for Miller   \n",
       "...      ...               ...                                           ...   \n",
       "22465  22465  1379955382222841                               Kurt Wiegel MdL   \n",
       "22466  22466  1651527995097082                                dubdub Stories   \n",
       "22467  22467   155369444540412            Ministerio del Interior - Paraguay   \n",
       "22468  22468   175067819212798                                   Tottus Perú   \n",
       "22469  22469       27208897877                             SPORT1 Doppelpass   \n",
       "\n",
       "        page_type  \n",
       "0          tvshow  \n",
       "1      government  \n",
       "2         company  \n",
       "3      government  \n",
       "4      politician  \n",
       "...           ...  \n",
       "22465  politician  \n",
       "22466     company  \n",
       "22467  government  \n",
       "22468     company  \n",
       "22469      tvshow  \n",
       "\n",
       "[22470 rows x 4 columns]"
      ]
     },
     "execution_count": 55,
     "metadata": {},
     "output_type": "execute_result"
    }
   ],
   "source": [
    "target"
   ]
  },
  {
   "cell_type": "code",
   "execution_count": 56,
   "id": "de65279c",
   "metadata": {},
   "outputs": [
    {
     "data": {
      "text/plain": [
       "array(['tvshow', 'government', 'company', 'politician'], dtype=object)"
      ]
     },
     "execution_count": 56,
     "metadata": {},
     "output_type": "execute_result"
    }
   ],
   "source": [
    "np_edges = np.load(\"edges.npy\")\n",
    "np_features = np.load(\"features.npy\")\n",
    "np_target = np.load(\"target.npy\")\n",
    "target.page_type.unique()"
   ]
  },
  {
   "cell_type": "code",
   "execution_count": 57,
   "id": "6559cafd",
   "metadata": {},
   "outputs": [
    {
     "name": "stdout",
     "output_type": "stream",
     "text": [
      "(342004, 2)\n",
      "(22470, 128)\n",
      "(22470,) [0 2 1 ... 2 1 0]\n"
     ]
    },
    {
     "data": {
      "text/plain": [
       "array([0, 2, 1, ..., 2, 1, 0])"
      ]
     },
     "execution_count": 57,
     "metadata": {},
     "output_type": "execute_result"
    }
   ],
   "source": [
    "print(np_edges.shape)\n",
    "print(np_features.shape)\n",
    "print(np_target.shape, np_target)\n",
    "np_target"
   ]
  },
  {
   "cell_type": "code",
   "execution_count": 58,
   "id": "3c6f7047",
   "metadata": {},
   "outputs": [
    {
     "name": "stdout",
     "output_type": "stream",
     "text": [
      "StellarGraph: Undirected multigraph\n",
      " Nodes: 22470, Edges: 342004\n",
      "\n",
      " Node types:\n",
      "  default: [22470]\n",
      "    Features: float32 vector, length 128\n",
      "    Edge types: default-default->default\n",
      "\n",
      " Edge types:\n",
      "    default-default->default: [342004]\n",
      "        Weights: all 1 (default)\n",
      "        Features: none\n"
     ]
    }
   ],
   "source": [
    "df_features = pd.DataFrame(np_features)\n",
    "df_edges = pd.DataFrame(np_edges)\n",
    "df_targets = pd.DataFrame(np_target)\n",
    "df_edges.columns = [\"source\", \"target\"]\n",
    "df_targets.columns = [\"target\"]\n",
    "mat = sg.StellarGraph(df_features, df_edges)\n",
    "print (mat.info())"
   ]
  },
  {
   "cell_type": "code",
   "execution_count": 59,
   "id": "7ae6e18e",
   "metadata": {},
   "outputs": [
    {
     "name": "stdout",
     "output_type": "stream",
     "text": [
      "train data:  (500, 1) validation data:  (500, 1) test data:  (21470, 1)\n"
     ]
    },
    {
     "data": {
      "text/plain": [
       "Int64Index([16685,  1028,  5240,  8011, 14283,  5489,  9481,  3615,  2639,\n",
       "               27,\n",
       "            ...\n",
       "            11689,  6267,   444,  7257, 18659, 15888, 15321,  1984, 12184,\n",
       "            21084],\n",
       "           dtype='int64', length=500)"
      ]
     },
     "execution_count": 59,
     "metadata": {},
     "output_type": "execute_result"
    }
   ],
   "source": [
    "train_data, test_data = train_test_split(df_targets, train_size=500)\n",
    "val_data, test_data = train_test_split(test_data, train_size=500)\n",
    "print(\"train data: \",train_data.shape, \"validation data: \",val_data.shape, \n",
    "      \"test data: \",test_data.shape)\n",
    "train_data.index"
   ]
  },
  {
   "cell_type": "code",
   "execution_count": 60,
   "id": "8fb244fe",
   "metadata": {},
   "outputs": [
    {
     "name": "stdout",
     "output_type": "stream",
     "text": [
      "(21470, 4) (500, 4) (500, 4)\n"
     ]
    }
   ],
   "source": [
    "one_hot_target = pre.LabelBinarizer()\n",
    "train_targets = one_hot_target.fit_transform(train_data['target'])\n",
    "val_targets = one_hot_target.transform(val_data['target'])\n",
    "test_targets = one_hot_target.transform(test_data['target'])\n",
    "\n",
    "print (test_targets.shape, val_targets.shape, train_targets.shape)\n"
   ]
  },
  {
   "cell_type": "code",
   "execution_count": 61,
   "id": "b0fc449a",
   "metadata": {},
   "outputs": [
    {
     "name": "stdout",
     "output_type": "stream",
     "text": [
      "Using GCN (local pooling) filters...\n"
     ]
    }
   ],
   "source": [
    "generator = FullBatchNodeGenerator(mat, method=\"gcn\")\n",
    "train_gen = generator.flow(train_data.index, train_targets)\n",
    "gcn = GCN(\n",
    "    layer_sizes=[32, 32], activations=[\"relu\", \"relu\"], generator=generator, dropout=0.2\n",
    ")\n",
    "x_inp, x_out = gcn.in_out_tensors()\n",
    "predictions = layers.Dense(units=train_targets.shape[1], activation=\"softmax\")(x_out)"
   ]
  },
  {
   "cell_type": "code",
   "execution_count": 62,
   "id": "35b5fc43",
   "metadata": {},
   "outputs": [],
   "source": [
    "model = Model(inputs=x_inp, outputs=predictions)\n",
    "model.compile(\n",
    "    optimizer=optimizers.Adam(learning_rate=0.01),\n",
    "    loss=losses.categorical_crossentropy,\n",
    "    metrics=[\"acc\"],\n",
    ")\n",
    "val_gen = generator.flow(val_data.index, val_targets)"
   ]
  },
  {
   "cell_type": "code",
   "execution_count": 63,
   "id": "7c8f21a2",
   "metadata": {},
   "outputs": [
    {
     "name": "stdout",
     "output_type": "stream",
     "text": [
      "Epoch 1/150\n",
      "1/1 - 1s - loss: 1.3755 - acc: 0.2920 - val_loss: 1.2702 - val_acc: 0.4420\n",
      "Epoch 2/150\n",
      "1/1 - 0s - loss: 1.2246 - acc: 0.4740 - val_loss: 1.1605 - val_acc: 0.5420\n",
      "Epoch 3/150\n",
      "1/1 - 0s - loss: 1.0982 - acc: 0.5600 - val_loss: 1.0668 - val_acc: 0.5620\n",
      "Epoch 4/150\n",
      "1/1 - 0s - loss: 0.9963 - acc: 0.6020 - val_loss: 0.9804 - val_acc: 0.6140\n",
      "Epoch 5/150\n",
      "1/1 - 0s - loss: 0.8942 - acc: 0.6500 - val_loss: 0.9012 - val_acc: 0.6440\n",
      "Epoch 6/150\n",
      "1/1 - 0s - loss: 0.8109 - acc: 0.6540 - val_loss: 0.8270 - val_acc: 0.6820\n",
      "Epoch 7/150\n",
      "1/1 - 0s - loss: 0.7428 - acc: 0.7080 - val_loss: 0.7565 - val_acc: 0.7060\n",
      "Epoch 8/150\n",
      "1/1 - 0s - loss: 0.6534 - acc: 0.7560 - val_loss: 0.6894 - val_acc: 0.7440\n",
      "Epoch 9/150\n",
      "1/1 - 0s - loss: 0.6008 - acc: 0.7880 - val_loss: 0.6289 - val_acc: 0.7740\n",
      "Epoch 10/150\n",
      "1/1 - 0s - loss: 0.5268 - acc: 0.8220 - val_loss: 0.5779 - val_acc: 0.8020\n",
      "Epoch 11/150\n",
      "1/1 - 0s - loss: 0.4895 - acc: 0.8260 - val_loss: 0.5381 - val_acc: 0.8200\n",
      "Epoch 12/150\n",
      "1/1 - 0s - loss: 0.4410 - acc: 0.8440 - val_loss: 0.5083 - val_acc: 0.8300\n",
      "Epoch 13/150\n",
      "1/1 - 0s - loss: 0.4134 - acc: 0.8540 - val_loss: 0.4871 - val_acc: 0.8340\n",
      "Epoch 14/150\n",
      "1/1 - 0s - loss: 0.3718 - acc: 0.8640 - val_loss: 0.4724 - val_acc: 0.8420\n",
      "Epoch 15/150\n",
      "1/1 - 0s - loss: 0.3411 - acc: 0.8860 - val_loss: 0.4647 - val_acc: 0.8460\n",
      "Epoch 16/150\n",
      "1/1 - 0s - loss: 0.3052 - acc: 0.8980 - val_loss: 0.4620 - val_acc: 0.8420\n",
      "Epoch 17/150\n",
      "1/1 - 0s - loss: 0.2997 - acc: 0.9060 - val_loss: 0.4591 - val_acc: 0.8460\n",
      "Epoch 18/150\n",
      "1/1 - 0s - loss: 0.2728 - acc: 0.9000 - val_loss: 0.4571 - val_acc: 0.8480\n",
      "Epoch 19/150\n",
      "1/1 - 0s - loss: 0.2500 - acc: 0.9140 - val_loss: 0.4559 - val_acc: 0.8540\n",
      "Epoch 20/150\n",
      "1/1 - 0s - loss: 0.2260 - acc: 0.9300 - val_loss: 0.4562 - val_acc: 0.8560\n",
      "Epoch 21/150\n",
      "1/1 - 0s - loss: 0.2362 - acc: 0.9200 - val_loss: 0.4557 - val_acc: 0.8600\n",
      "Epoch 22/150\n",
      "1/1 - 0s - loss: 0.2109 - acc: 0.9240 - val_loss: 0.4540 - val_acc: 0.8680\n",
      "Epoch 23/150\n",
      "1/1 - 0s - loss: 0.1954 - acc: 0.9380 - val_loss: 0.4535 - val_acc: 0.8680\n",
      "Epoch 24/150\n",
      "1/1 - 0s - loss: 0.1812 - acc: 0.9460 - val_loss: 0.4548 - val_acc: 0.8680\n",
      "Epoch 25/150\n",
      "1/1 - 0s - loss: 0.1577 - acc: 0.9440 - val_loss: 0.4595 - val_acc: 0.8720\n",
      "Epoch 26/150\n",
      "1/1 - 0s - loss: 0.1623 - acc: 0.9460 - val_loss: 0.4663 - val_acc: 0.8780\n",
      "Epoch 27/150\n",
      "1/1 - 0s - loss: 0.1471 - acc: 0.9580 - val_loss: 0.4744 - val_acc: 0.8780\n",
      "Epoch 28/150\n",
      "1/1 - 0s - loss: 0.1205 - acc: 0.9640 - val_loss: 0.4816 - val_acc: 0.8780\n",
      "Epoch 29/150\n",
      "1/1 - 0s - loss: 0.1322 - acc: 0.9640 - val_loss: 0.4904 - val_acc: 0.8780\n",
      "Epoch 30/150\n",
      "1/1 - 0s - loss: 0.1543 - acc: 0.9520 - val_loss: 0.4982 - val_acc: 0.8760\n",
      "Epoch 31/150\n",
      "1/1 - 0s - loss: 0.1094 - acc: 0.9700 - val_loss: 0.5049 - val_acc: 0.8800\n",
      "Epoch 32/150\n",
      "1/1 - 0s - loss: 0.0979 - acc: 0.9700 - val_loss: 0.5127 - val_acc: 0.8760\n",
      "Epoch 33/150\n",
      "1/1 - 0s - loss: 0.0967 - acc: 0.9660 - val_loss: 0.5194 - val_acc: 0.8760\n",
      "Epoch 34/150\n",
      "1/1 - 0s - loss: 0.0978 - acc: 0.9760 - val_loss: 0.5231 - val_acc: 0.8740\n",
      "Epoch 35/150\n",
      "1/1 - 0s - loss: 0.1134 - acc: 0.9660 - val_loss: 0.5274 - val_acc: 0.8740\n",
      "Epoch 36/150\n",
      "1/1 - 0s - loss: 0.0914 - acc: 0.9720 - val_loss: 0.5313 - val_acc: 0.8740\n",
      "Epoch 37/150\n",
      "1/1 - 0s - loss: 0.0816 - acc: 0.9740 - val_loss: 0.5332 - val_acc: 0.8740\n",
      "Epoch 38/150\n",
      "1/1 - 0s - loss: 0.0763 - acc: 0.9760 - val_loss: 0.5385 - val_acc: 0.8740\n",
      "Epoch 39/150\n",
      "1/1 - 0s - loss: 0.0791 - acc: 0.9740 - val_loss: 0.5517 - val_acc: 0.8800\n",
      "Epoch 40/150\n",
      "1/1 - 0s - loss: 0.0703 - acc: 0.9700 - val_loss: 0.5658 - val_acc: 0.8800\n",
      "Epoch 41/150\n",
      "1/1 - 0s - loss: 0.0742 - acc: 0.9720 - val_loss: 0.5713 - val_acc: 0.8780\n",
      "Epoch 42/150\n",
      "1/1 - 0s - loss: 0.0593 - acc: 0.9720 - val_loss: 0.5722 - val_acc: 0.8860\n",
      "Epoch 43/150\n",
      "1/1 - 0s - loss: 0.0576 - acc: 0.9780 - val_loss: 0.5777 - val_acc: 0.8840\n",
      "Epoch 44/150\n",
      "1/1 - 0s - loss: 0.0450 - acc: 0.9900 - val_loss: 0.5850 - val_acc: 0.8820\n",
      "Epoch 45/150\n",
      "1/1 - 0s - loss: 0.0566 - acc: 0.9780 - val_loss: 0.5964 - val_acc: 0.8820\n",
      "Epoch 46/150\n",
      "1/1 - 0s - loss: 0.0582 - acc: 0.9840 - val_loss: 0.6060 - val_acc: 0.8820\n",
      "Epoch 47/150\n",
      "1/1 - 0s - loss: 0.0633 - acc: 0.9800 - val_loss: 0.6103 - val_acc: 0.8820\n",
      "Epoch 48/150\n",
      "1/1 - 0s - loss: 0.0510 - acc: 0.9820 - val_loss: 0.6215 - val_acc: 0.8820\n",
      "Epoch 49/150\n",
      "1/1 - 0s - loss: 0.0474 - acc: 0.9860 - val_loss: 0.6327 - val_acc: 0.8840\n",
      "Epoch 50/150\n",
      "1/1 - 0s - loss: 0.0503 - acc: 0.9860 - val_loss: 0.6409 - val_acc: 0.8820\n",
      "Epoch 51/150\n",
      "1/1 - 0s - loss: 0.0696 - acc: 0.9700 - val_loss: 0.6548 - val_acc: 0.8820\n",
      "Epoch 52/150\n",
      "1/1 - 0s - loss: 0.0460 - acc: 0.9880 - val_loss: 0.6718 - val_acc: 0.8800\n",
      "Epoch 53/150\n",
      "1/1 - 0s - loss: 0.0440 - acc: 0.9860 - val_loss: 0.6761 - val_acc: 0.8800\n",
      "Epoch 54/150\n",
      "1/1 - 0s - loss: 0.0558 - acc: 0.9820 - val_loss: 0.6765 - val_acc: 0.8840\n",
      "Epoch 55/150\n",
      "1/1 - 0s - loss: 0.0319 - acc: 0.9920 - val_loss: 0.6795 - val_acc: 0.8840\n",
      "Epoch 56/150\n",
      "1/1 - 0s - loss: 0.0508 - acc: 0.9880 - val_loss: 0.6844 - val_acc: 0.8820\n",
      "Epoch 57/150\n",
      "1/1 - 0s - loss: 0.0414 - acc: 0.9840 - val_loss: 0.6942 - val_acc: 0.8820\n",
      "Epoch 58/150\n",
      "1/1 - 0s - loss: 0.0246 - acc: 0.9940 - val_loss: 0.7046 - val_acc: 0.8880\n",
      "Epoch 59/150\n",
      "1/1 - 0s - loss: 0.0526 - acc: 0.9880 - val_loss: 0.7061 - val_acc: 0.8860\n",
      "Epoch 60/150\n",
      "1/1 - 0s - loss: 0.0630 - acc: 0.9880 - val_loss: 0.7091 - val_acc: 0.8860\n",
      "Epoch 61/150\n",
      "1/1 - 0s - loss: 0.0461 - acc: 0.9920 - val_loss: 0.7228 - val_acc: 0.8840\n",
      "Epoch 62/150\n",
      "1/1 - 0s - loss: 0.0302 - acc: 0.9880 - val_loss: 0.7397 - val_acc: 0.8760\n",
      "Epoch 63/150\n",
      "1/1 - 0s - loss: 0.0389 - acc: 0.9880 - val_loss: 0.7465 - val_acc: 0.8720\n",
      "Epoch 64/150\n",
      "1/1 - 0s - loss: 0.0347 - acc: 0.9880 - val_loss: 0.7402 - val_acc: 0.8760\n",
      "Epoch 65/150\n",
      "1/1 - 0s - loss: 0.0260 - acc: 0.9940 - val_loss: 0.7414 - val_acc: 0.8780\n",
      "Epoch 66/150\n",
      "1/1 - 0s - loss: 0.0315 - acc: 0.9860 - val_loss: 0.7510 - val_acc: 0.8820\n",
      "Epoch 67/150\n",
      "1/1 - 0s - loss: 0.0343 - acc: 0.9880 - val_loss: 0.7561 - val_acc: 0.8800\n",
      "Epoch 68/150\n",
      "1/1 - 0s - loss: 0.0342 - acc: 0.9840 - val_loss: 0.7576 - val_acc: 0.8820\n",
      "Epoch 69/150\n",
      "1/1 - 0s - loss: 0.0352 - acc: 0.9900 - val_loss: 0.7533 - val_acc: 0.8780\n",
      "Epoch 70/150\n",
      "1/1 - 0s - loss: 0.0377 - acc: 0.9880 - val_loss: 0.7511 - val_acc: 0.8820\n",
      "Epoch 71/150\n",
      "1/1 - 0s - loss: 0.0264 - acc: 0.9940 - val_loss: 0.7529 - val_acc: 0.8800\n",
      "Epoch 72/150\n",
      "1/1 - 0s - loss: 0.0296 - acc: 0.9920 - val_loss: 0.7589 - val_acc: 0.8780\n",
      "Epoch 73/150\n",
      "1/1 - 0s - loss: 0.0230 - acc: 0.9960 - val_loss: 0.7645 - val_acc: 0.8780\n",
      "Epoch 74/150\n",
      "1/1 - 0s - loss: 0.0211 - acc: 0.9940 - val_loss: 0.7727 - val_acc: 0.8800\n",
      "Epoch 75/150\n",
      "1/1 - 0s - loss: 0.0189 - acc: 0.9960 - val_loss: 0.7797 - val_acc: 0.8860\n",
      "Epoch 76/150\n",
      "1/1 - 0s - loss: 0.0286 - acc: 0.9900 - val_loss: 0.7805 - val_acc: 0.8820\n",
      "Epoch 77/150\n",
      "1/1 - 0s - loss: 0.0487 - acc: 0.9880 - val_loss: 0.7834 - val_acc: 0.8820\n",
      "Epoch 78/150\n",
      "1/1 - 0s - loss: 0.0215 - acc: 0.9920 - val_loss: 0.7884 - val_acc: 0.8820\n",
      "Epoch 79/150\n",
      "1/1 - 0s - loss: 0.0236 - acc: 0.9940 - val_loss: 0.7888 - val_acc: 0.8820\n",
      "Epoch 80/150\n",
      "1/1 - 0s - loss: 0.0209 - acc: 0.9960 - val_loss: 0.7941 - val_acc: 0.8840\n",
      "Epoch 81/150\n",
      "1/1 - 0s - loss: 0.0356 - acc: 0.9880 - val_loss: 0.7985 - val_acc: 0.8860\n",
      "Epoch 82/150\n",
      "1/1 - 0s - loss: 0.0303 - acc: 0.9880 - val_loss: 0.8063 - val_acc: 0.8880\n",
      "Epoch 83/150\n",
      "1/1 - 0s - loss: 0.0232 - acc: 0.9940 - val_loss: 0.8134 - val_acc: 0.8840\n",
      "Epoch 84/150\n",
      "1/1 - 0s - loss: 0.0339 - acc: 0.9900 - val_loss: 0.8230 - val_acc: 0.8760\n",
      "Epoch 85/150\n",
      "1/1 - 0s - loss: 0.0333 - acc: 0.9900 - val_loss: 0.8372 - val_acc: 0.8720\n",
      "Epoch 86/150\n",
      "1/1 - 0s - loss: 0.0218 - acc: 0.9920 - val_loss: 0.8524 - val_acc: 0.8740\n",
      "Epoch 87/150\n",
      "1/1 - 0s - loss: 0.0269 - acc: 0.9940 - val_loss: 0.8663 - val_acc: 0.8720\n",
      "Epoch 88/150\n",
      "1/1 - 0s - loss: 0.0301 - acc: 0.9960 - val_loss: 0.8757 - val_acc: 0.8740\n",
      "Epoch 89/150\n",
      "1/1 - 0s - loss: 0.0179 - acc: 0.9940 - val_loss: 0.8883 - val_acc: 0.8740\n",
      "Epoch 90/150\n",
      "1/1 - 0s - loss: 0.0275 - acc: 0.9900 - val_loss: 0.8957 - val_acc: 0.8720\n",
      "Epoch 91/150\n",
      "1/1 - 0s - loss: 0.0258 - acc: 0.9860 - val_loss: 0.8939 - val_acc: 0.8700\n",
      "Epoch 92/150\n",
      "1/1 - 0s - loss: 0.0249 - acc: 0.9900 - val_loss: 0.8885 - val_acc: 0.8740\n",
      "Epoch 93/150\n",
      "1/1 - 0s - loss: 0.0218 - acc: 0.9920 - val_loss: 0.8855 - val_acc: 0.8740\n",
      "Epoch 94/150\n",
      "1/1 - 0s - loss: 0.0197 - acc: 0.9960 - val_loss: 0.8810 - val_acc: 0.8780\n"
     ]
    },
    {
     "name": "stdout",
     "output_type": "stream",
     "text": [
      "Epoch 95/150\n",
      "1/1 - 0s - loss: 0.0288 - acc: 0.9960 - val_loss: 0.8789 - val_acc: 0.8800\n",
      "Epoch 96/150\n",
      "1/1 - 0s - loss: 0.0112 - acc: 1.0000 - val_loss: 0.8788 - val_acc: 0.8800\n",
      "Epoch 97/150\n",
      "1/1 - 0s - loss: 0.0226 - acc: 0.9940 - val_loss: 0.8784 - val_acc: 0.8840\n",
      "Epoch 98/150\n",
      "1/1 - 0s - loss: 0.0202 - acc: 0.9920 - val_loss: 0.8769 - val_acc: 0.8800\n",
      "Epoch 99/150\n",
      "1/1 - 0s - loss: 0.0207 - acc: 0.9940 - val_loss: 0.8716 - val_acc: 0.8800\n",
      "Epoch 100/150\n",
      "1/1 - 0s - loss: 0.0217 - acc: 0.9940 - val_loss: 0.8709 - val_acc: 0.8760\n",
      "Epoch 101/150\n",
      "1/1 - 0s - loss: 0.0319 - acc: 0.9940 - val_loss: 0.8742 - val_acc: 0.8780\n",
      "Epoch 102/150\n",
      "1/1 - 0s - loss: 0.0068 - acc: 1.0000 - val_loss: 0.8786 - val_acc: 0.8820\n",
      "Epoch 103/150\n",
      "1/1 - 0s - loss: 0.0303 - acc: 0.9960 - val_loss: 0.8838 - val_acc: 0.8800\n",
      "Epoch 104/150\n",
      "1/1 - 0s - loss: 0.0171 - acc: 0.9900 - val_loss: 0.8862 - val_acc: 0.8780\n",
      "Epoch 105/150\n",
      "1/1 - 0s - loss: 0.0168 - acc: 0.9920 - val_loss: 0.8859 - val_acc: 0.8760\n",
      "Epoch 106/150\n",
      "1/1 - 0s - loss: 0.0142 - acc: 0.9960 - val_loss: 0.8851 - val_acc: 0.8740\n",
      "Epoch 107/150\n",
      "1/1 - 0s - loss: 0.0303 - acc: 0.9900 - val_loss: 0.8842 - val_acc: 0.8740\n",
      "Epoch 108/150\n",
      "1/1 - 0s - loss: 0.0188 - acc: 0.9960 - val_loss: 0.8853 - val_acc: 0.8760\n"
     ]
    }
   ],
   "source": [
    "es_callback = EarlyStopping(monitor=\"val_acc\", patience=50, restore_best_weights=True)\n",
    "history = model.fit(\n",
    "    train_gen,\n",
    "    epochs=150,\n",
    "    validation_data=val_gen,\n",
    "    verbose=2,\n",
    "    shuffle=False, \n",
    "    callbacks=[es_callback],\n",
    ")"
   ]
  },
  {
   "cell_type": "code",
   "execution_count": 64,
   "id": "bf89ff42",
   "metadata": {},
   "outputs": [
    {
     "data": {
      "image/png": "[encoded data removed]",
      "text/plain": [
       "<Figure size 504x576 with 2 Axes>"
      ]
     },
     "metadata": {
      "needs_background": "light"
     },
     "output_type": "display_data"
    }
   ],
   "source": [
    "sg.utils.plot_history(history)"
   ]
  },
  {
   "cell_type": "code",
   "execution_count": 66,
   "id": "7dc47698",
   "metadata": {},
   "outputs": [
    {
     "name": "stdout",
     "output_type": "stream",
     "text": [
      "1/1 [==============================] - 0s 113ms/step - loss: 0.6753 - acc: 0.8700\n",
      "\n",
      "Test Set Metrics:\n",
      "\tloss: 0.6753\n",
      "\tacc: 0.8700\n"
     ]
    }
   ],
   "source": [
    "test_gen = generator.flow(test_data.index, test_targets)\n",
    "test_metrics = model.evaluate(test_gen)\n",
    "print(\"\\nTest Set Metrics:\")\n",
    "for name, val in zip(model.metrics_names, test_metrics):\n",
    "    print(\"\\t{}: {:0.4f}\".format(name, val))"
   ]
  },
  {
   "cell_type": "code",
   "execution_count": null,
   "id": "716c76ef",
   "metadata": {},
   "outputs": [],
   "source": []
  }
 ],
 "metadata": {
  "kernelspec": {
   "display_name": "Python 3",
   "language": "python",
   "name": "python3"
  },
  "language_info": {
   "codemirror_mode": {
    "name": "ipython",
    "version": 3
   },
   "file_extension": ".py",
   "mimetype": "text/x-python",
   "name": "python",
   "nbconvert_exporter": "python",
   "pygments_lexer": "ipython3",
   "version": "3.8.8"
  }
 },
 "nbformat": 4,
 "nbformat_minor": 5
}
