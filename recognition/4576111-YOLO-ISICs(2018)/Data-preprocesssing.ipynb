{
 "cells": [
  {
   "cell_type": "code",
   "execution_count": 14,
   "id": "6dcbad61",
   "metadata": {},
   "outputs": [],
   "source": [
    "import tensorflow as tf\n",
    "import glob"
   ]
  },
  {
   "cell_type": "code",
   "execution_count": 19,
   "id": "561e6949",
   "metadata": {},
   "outputs": [],
   "source": [
    "# Get a list of image paths\n",
    "masks = glob.glob(\"C:/Users/e_gui/OneDrive/Desktop/data/ISIC2018_Task1_Training_GroundTruth_x2/*.png\").sort()\n",
    "images = glob.glob(\"C:/Users/e_gui/OneDrive/Desktop/data/ISIC2018_Task1-2_Training_Input_x2/*.png\").sort()"
   ]
  },
  {
   "cell_type": "code",
   "execution_count": 12,
   "id": "57edc634",
   "metadata": {},
   "outputs": [
    {
     "name": "stdout",
     "output_type": "stream",
     "text": [
      "None\n"
     ]
    }
   ],
   "source": [
    "def load_image(image):\n",
    "    # Load the image turn into png\n",
    "    image = tf.image.decode_png(tf.io.read_file(image_path))\n",
    "    image_class = tf.image.decode_png(tf.io.read_file(class_path))\n",
    "    \n",
    "    # Normalize the images, but not that classes (already between 0-4)\n",
    "    input_image = tf.cast(image, tf.float32) / 255.0\n",
    "    \n",
    "    return image, image_class"
   ]
  },
  {
   "cell_type": "code",
   "execution_count": null,
   "id": "e0766dec",
   "metadata": {},
   "outputs": [],
   "source": [
    "dataset_train = tf.data.Dataset.from_tensor_slices((train_images, train_classes))"
   ]
  }
 ],
 "metadata": {
  "kernelspec": {
   "display_name": "Python 3 (ipykernel)",
   "language": "python",
   "name": "python3"
  },
  "language_info": {
   "codemirror_mode": {
    "name": "ipython",
    "version": 3
   },
   "file_extension": ".py",
   "mimetype": "text/x-python",
   "name": "python",
   "nbconvert_exporter": "python",
   "pygments_lexer": "ipython3",
   "version": "3.8.12"
  }
 },
 "nbformat": 4,
 "nbformat_minor": 5
}
