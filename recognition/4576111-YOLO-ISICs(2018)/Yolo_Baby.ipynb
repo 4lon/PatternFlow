{
 "cells": [
  {
   "cell_type": "code",
   "execution_count": 9,
   "id": "03198a4d",
   "metadata": {},
   "outputs": [],
   "source": [
    "import tensorflow as tf\n",
    "from tensorflow.keras.layers import LeakyReLU\n",
    "import glob\n",
    "import matplotlib.pyplot as plt"
   ]
  },
  {
   "cell_type": "code",
   "execution_count": 6,
   "id": "da3b36ef",
   "metadata": {},
   "outputs": [],
   "source": [
    "# Import image paths\n",
    "imagesRaw = glob.glob(\"./new_images/*.jpg\")\n",
    "imagesRaw.sort()"
   ]
  },
  {
   "cell_type": "code",
   "execution_count": null,
   "id": "56aa8318",
   "metadata": {},
   "outputs": [],
   "source": [
    "imageDataset = tf.data.Dataset.from_tensor_slices(images)\n",
    "image"
   ]
  },
  {
   "cell_type": "code",
   "execution_count": null,
   "id": "cdeca617",
   "metadata": {},
   "outputs": [],
   "source": [
    "# Create Datasets\n",
    "dataset_train = tf.data.Dataset.from_tensor_slices((train_images, train_classes))\n",
    "dataset_test = tf.data.Dataset.from_tensor_slices((test_images, test_classes))\n",
    "dataset_validation = tf.data.Dataset.from_tensor_slices((validation_images, validation_classes))"
   ]
  },
  {
   "cell_type": "code",
   "execution_count": 1,
   "id": "164834d7",
   "metadata": {},
   "outputs": [],
   "source": [
    "def load_jpeg(image):\n",
    "    # Load the image turn into jpeg\n",
    "    decoded = tf.io.read_file(image)\n",
    "    imageTf = tf.image.decode_jpeg(decoded)\n",
    "    # Normalize the images\n",
    "    returnImage = tf.cast(imageTf, tf.float32) / 255.0\n",
    "    return returnImage"
   ]
  },
  {
   "cell_type": "code",
   "execution_count": null,
   "id": "acaf7708",
   "metadata": {},
   "outputs": [],
   "source": [
    "imagesTfImages = imagesTf.map(load_jpeg)"
   ]
  },
  {
   "cell_type": "code",
   "execution_count": 4,
   "id": "9f85e46c",
   "metadata": {},
   "outputs": [],
   "source": [
    "# Define the constants\n",
    "S = 3 # Divide the image to have S*S cells\n",
    "C = 1 # Number of classes \n",
    "B = 2 # Number of bounding boxes to be predicted per cell"
   ]
  },
  {
   "cell_type": "code",
   "execution_count": 19,
   "id": "da658688",
   "metadata": {},
   "outputs": [],
   "source": [
    "model = tf.keras.Sequential([\n",
    "    #First Layer\n",
    "    tf.keras.layers.Conv2D(64, (7,7), strides=(2, 2), activation=LeakyReLU(alpha=0.1),  input_shape=(488,488,3)), #padding=3?\n",
    "    tf.keras.layers.MaxPooling2D((2, 2), strides=(2,2)),\n",
    "    \n",
    "    #Second Layer\n",
    "    tf.keras.layers.Conv2D(192, (3,3), activation=LeakyReLU(alpha=0.1), padding=\"same\"),\n",
    "    tf.keras.layers.MaxPooling2D((2, 2), strides=(2,2)),\n",
    "    \n",
    "    #Third Layer\n",
    "    tf.keras.layers.Conv2D(128, (1,1), activation=LeakyReLU(alpha=0.1), padding=\"same\"),\n",
    "    tf.keras.layers.Conv2D(256, (3,3), activation=LeakyReLU(alpha=0.1), padding=\"same\"),\n",
    "    tf.keras.layers.Conv2D(256, (3,3), activation=LeakyReLU(alpha=0.1), padding=\"same\"),\n",
    "    tf.keras.layers.Conv2D(512, (3,3), activation=LeakyReLU(alpha=0.1), padding=\"same\"),\n",
    "    tf.keras.layers.MaxPooling2D((2, 2), strides=(2,2)),\n",
    "    \n",
    "    #Fourth Layer\n",
    "    # +++ Repeated block\n",
    "    tf.keras.layers.Conv2D(256, (1,1), activation=LeakyReLU(alpha=0.1), padding=\"same\"),\n",
    "    tf.keras.layers.Conv2D(512, (3,3), activation=LeakyReLU(alpha=0.1), padding=\"same\"),\n",
    "    \n",
    "    tf.keras.layers.Conv2D(256, (1,1), activation=LeakyReLU(alpha=0.1), padding=\"same\"),\n",
    "    tf.keras.layers.Conv2D(512, (3,3), activation=LeakyReLU(alpha=0.1), padding=\"same\"),\n",
    "\n",
    "    tf.keras.layers.Conv2D(256, (1,1), activation=LeakyReLU(alpha=0.1), padding=\"same\"),\n",
    "    tf.keras.layers.Conv2D(512, (3,3), activation=LeakyReLU(alpha=0.1), padding=\"same\"),\n",
    "\n",
    "    tf.keras.layers.Conv2D(256, (1,1), activation=LeakyReLU(alpha=0.1), padding=\"same\"),\n",
    "    tf.keras.layers.Conv2D(512, (3,3), activation=LeakyReLU(alpha=0.1), padding=\"same\"),\n",
    "    # +++ END BLOCK\n",
    "    tf.keras.layers.Conv2D(512, (1,1), activation=LeakyReLU(alpha=0.1), padding=\"same\"),\n",
    "    tf.keras.layers.Conv2D(1024, (3,3), activation=LeakyReLU(alpha=0.1), padding=\"same\"),\n",
    "    tf.keras.layers.MaxPooling2D((2, 2), strides=(2,2)),\n",
    "    \n",
    "    #Fifth layer\n",
    "    # +++ Repeated Block\n",
    "    tf.keras.layers.Conv2D(512, (1,1), activation=LeakyReLU(alpha=0.1), padding=\"same\"),\n",
    "    tf.keras.layers.Conv2D(1024, (3,3), activation=LeakyReLU(alpha=0.1), padding=\"same\"),\n",
    "    \n",
    "    tf.keras.layers.Conv2D(512, (1,1), activation=LeakyReLU(alpha=0.1), padding=\"same\"),\n",
    "    tf.keras.layers.Conv2D(1024, (3,3), activation=LeakyReLU(alpha=0.1), padding=\"same\"),\n",
    "    # +++ END BLOCK\n",
    "    tf.keras.layers.Conv2D(1024, (3,3), activation=LeakyReLU(alpha=0.1), padding=\"same\"),\n",
    "    tf.keras.layers.Conv2D(1024, (3,3), strides=(2, 2), activation=LeakyReLU(alpha=0.1), padding=\"same\"),\n",
    "    \n",
    "    #Sixth Layer\n",
    "    tf.keras.layers.Conv2D(1024, (3,3), activation=LeakyReLU(alpha=0.1), padding=\"same\"),\n",
    "    tf.keras.layers.Conv2D(1024, (3,3), activation=LeakyReLU(alpha=0.1), padding=\"same\"),\n",
    "    \n",
    "    # Final Output Layer\n",
    "    tf.keras.layers.Flatten(),\n",
    "    tf.keras.layers.Dense(4096, input_shape=(1024 * S * S,), activation=LeakyReLU(alpha=0.1)),\n",
    "    tf.keras.layers.Dense(S * S * (B*5+C), input_shape=(4096,), activation=None)\n",
    "])"
   ]
  },
  {
   "cell_type": "markdown",
   "id": "e2ad2dc1",
   "metadata": {},
   "source": [
    "The yoloLoss function is an adpation from here: https://blog.emmanuelcaradec.com/humble-yolo-implementation-in-keras/. All credit goes to Emmanuel Caradec"
   ]
  },
  {
   "cell_type": "code",
   "execution_count": 23,
   "id": "327769c8",
   "metadata": {},
   "outputs": [],
   "source": [
    "def yoloLoss(y_true, y_pred):\n",
    "    print(y_true)\n",
    "    grid = [ [[float(x),float(y)]]*B for y in range(S) for x in range(S)]\n",
    "\n",
    "    pred_boxes = tf.reshape(y_pred[...,3:], (-1,S*S,B,5))\n",
    "    true_boxes = tf.reshape(y_true[...,3:], (-1,S*S,B,5))\n",
    "    y_true_conf = true_boxes[...,4]\n",
    "\n",
    "    y_pred_xy   = pred_boxes[...,0:2] + tf.Variable(grid)\n",
    "    y_true_xy   = true_boxes[...,0:2]\n",
    "\n",
    "    xy_loss    = tf.math.reduce_sum(tf.math.reduce_sum(tf.math.square(y_true_xy - y_pred_xy),axis=-1)*y_true_conf, axis=-1)\n",
    "    \n",
    "    y_pred_wh   = pred_boxes[...,2:4]\n",
    "    y_true_wh   = pred_boxes[...,2:4]\n",
    "    y_true_conf = true_boxes[...,4]\n",
    "\n",
    "    wh_loss    = tf.math.reduce_sum(tf.math.reduce_sum(tf.math.square(tf.math.sqrt(y_true_wh) - tf.math.sqrt(y_pred_wh)), axis=-1)*y_true_conf, axis=-1)\n",
    "                                    \n",
    "    y_true_class = y_true[...,0:2]\n",
    "    y_pred_class = y_pred[...,0:2]\n",
    "    y_true_conf = true_boxes[...,4]\n",
    "\n",
    "    clss_loss  = tf.math.reduce_sum(tf.math.square(y_true_class - y_pred_class)*y_true_conf, axis=-1)\n",
    "                                    \n",
    "    intersect_wh = tf.math.maximum(tf.zeros_like(y_pred_wh), (y_pred_wh + y_true_wh)/2 - tf.math.abs(y_pred_xy - y_true_xy) )\n",
    "    intersect_area = intersect_wh[...,0] * intersect_wh[...,1]\n",
    "    true_area = y_true_wh[...,0] * y_true_wh[...,1]\n",
    "    pred_area = y_pred_wh[...,0] * y_pred_wh[...,1]\n",
    "    union_area = pred_area + true_area - intersect_area\n",
    "    iou = intersect_area / union_area\n",
    "\n",
    "    conf_loss = tf.math.reduce_sum(tf.math.square(y_true_conf*iou - y_pred_conf)*y_true_conf, axis=-1)\n",
    "    \n",
    "    loss =  clss_loss + xy_loss + wh_loss + conf_loss\n",
    "                                    \n",
    "    return loss\n"
   ]
  },
  {
   "cell_type": "code",
   "execution_count": null,
   "id": "a2b6ff95",
   "metadata": {},
   "outputs": [],
   "source": []
  }
 ],
 "metadata": {
  "kernelspec": {
   "display_name": "Python 3 (ipykernel)",
   "language": "python",
   "name": "python3"
  },
  "language_info": {
   "codemirror_mode": {
    "name": "ipython",
    "version": 3
   },
   "file_extension": ".py",
   "mimetype": "text/x-python",
   "name": "python",
   "nbconvert_exporter": "python",
   "pygments_lexer": "ipython3",
   "version": "3.8.12"
  }
 },
 "nbformat": 4,
 "nbformat_minor": 5
}
