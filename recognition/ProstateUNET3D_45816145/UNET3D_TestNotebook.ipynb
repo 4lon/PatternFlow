{
 "cells": [
  {
   "cell_type": "code",
   "execution_count": 1,
   "id": "a99951d6",
   "metadata": {},
   "outputs": [],
   "source": [
    "import os\n",
    "import numpy as np\n",
    "\n",
    "import nibabel as nib"
   ]
  },
  {
   "cell_type": "code",
   "execution_count": 8,
   "id": "1518553f",
   "metadata": {},
   "outputs": [
    {
     "name": "stdout",
     "output_type": "stream",
     "text": [
      "Raw Labelled Scans: 211\n"
     ]
    }
   ],
   "source": [
    "# Formulate train, val, test file paths for \"scans\" and \"labels\"\n",
    "# Stored as filepaths, as the generator will do the file reading\n",
    "def get_slices_in(directory):\n",
    "    paths = []\n",
    "    for file in os.listdir(directory):\n",
    "        if file.endswith(\".nii.gz\"):\n",
    "            paths.append(os.path.join(directory, file))\n",
    "    \n",
    "    # Sort so ordering is not file system order dependent\n",
    "    return sorted(paths)\n",
    "\n",
    "base_path = \"data\"\n",
    "data_dimensions = (256, 256, 128)\n",
    "\n",
    "# Background, Body, Bone, Bladder, Rectum, Prostate\n",
    "class_count = 6\n",
    "\n",
    "scans = get_slices_in(os.path.join(base_path, \"semantic_MRs_anon\"))\n",
    "labels = get_slices_in(os.path.join(base_path, \"semantic_labels_anon\"))\n",
    "\n",
    "print(\"Raw Labelled Scans: \" + str(len(scans)))\n",
    "assert len(scans) == len(labels)"
   ]
  }
 ],
 "metadata": {
  "kernelspec": {
   "display_name": "Python 3 (ipykernel)",
   "language": "python",
   "name": "python3"
  },
  "language_info": {
   "codemirror_mode": {
    "name": "ipython",
    "version": 3
   },
   "file_extension": ".py",
   "mimetype": "text/x-python",
   "name": "python",
   "nbconvert_exporter": "python",
   "pygments_lexer": "ipython3",
   "version": "3.9.6"
  }
 },
 "nbformat": 4,
 "nbformat_minor": 5
}
