{
 "cells": [
  {
   "cell_type": "code",
   "execution_count": 1,
   "id": "66ed281d",
   "metadata": {},
   "outputs": [],
   "source": [
    "#This file is to save models"
   ]
  },
  {
   "cell_type": "code",
   "execution_count": 2,
   "id": "42069a57",
   "metadata": {},
   "outputs": [],
   "source": [
    "import torch\n",
    "\n",
    "from torch import nn\n",
    "from torch.nn import init\n",
    "from torch.nn import functional as F\n",
    "from torch.autograd import Function\n",
    "\n",
    "from math import sqrt\n",
    "\n",
    "import random\n",
    "\n",
    "\n",
    "def init_linear(linear):\n",
    "    init.xavier_normal(linear.weight)\n",
    "    linear.bias.data.zero_()\n",
    "\n",
    "\n",
    "def init_conv(conv, glu=True):\n",
    "    init.kaiming_normal(conv.weight)\n",
    "    if conv.bias is not None:\n",
    "        conv.bias.data.zero_()"
   ]
  },
  {
   "cell_type": "code",
   "execution_count": null,
   "id": "94c7e2cb",
   "metadata": {},
   "outputs": [],
   "source": []
  }
 ],
 "metadata": {
  "kernelspec": {
   "display_name": "Python 3",
   "language": "python",
   "name": "python3"
  },
  "language_info": {
   "codemirror_mode": {
    "name": "ipython",
    "version": 3
   },
   "file_extension": ".py",
   "mimetype": "text/x-python",
   "name": "python",
   "nbconvert_exporter": "python",
   "pygments_lexer": "ipython3",
   "version": "3.8.8"
  }
 },
 "nbformat": 4,
 "nbformat_minor": 5
}
