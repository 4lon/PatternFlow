{
 "cells": [
  {
   "cell_type": "markdown",
   "metadata": {},
   "source": [
    "Messing about"
   ]
  },
  {
   "cell_type": "code",
   "execution_count": 1,
   "metadata": {},
   "outputs": [
    {
     "data": {
      "image/png": "[encoded data removed]",
      "text/plain": [
       "<Figure size 432x288 with 1 Axes>"
      ]
     },
     "metadata": {
      "needs_background": "light"
     },
     "output_type": "display_data"
    }
   ],
   "source": [
    "import matplotlib.pyplot as plt\n",
    "plt.plot([1,2],[2,1])\n",
    "plt.show()"
   ]
  },
  {
   "cell_type": "code",
   "execution_count": 4,
   "metadata": {},
   "outputs": [],
   "source": [
    "import vit_pytorch\n",
    "import torch\n",
    "import numpy as np\n",
    "import dataset\n",
    "import modules\n"
   ]
  },
  {
   "cell_type": "code",
   "execution_count": 6,
   "metadata": {},
   "outputs": [
    {
     "ename": "TypeError",
     "evalue": "empty() received an invalid combination of arguments - got (tuple, dtype=NoneType, device=NoneType), but expected one of:\n * (tuple of ints size, *, tuple of names names, torch.memory_format memory_format, torch.dtype dtype, torch.layout layout, torch.device device, bool pin_memory, bool requires_grad)\n * (tuple of ints size, *, torch.memory_format memory_format, Tensor out, torch.dtype dtype, torch.layout layout, torch.device device, bool pin_memory, bool requires_grad)\n",
     "output_type": "error",
     "traceback": [
      "\u001b[1;31m---------------------------------------------------------------------------\u001b[0m",
      "\u001b[1;31mTypeError\u001b[0m                                 Traceback (most recent call last)",
      "\u001b[1;32mf:\\Users\\Dan\\Desktop\\University\\Sem 2 2022\\Pattern Recog\\project\\PatternFlow\\recognition\\brain-transformer\\model.ipynb Cell 4\u001b[0m in \u001b[0;36m<cell line: 4>\u001b[1;34m()\u001b[0m\n\u001b[0;32m      <a href='vscode-notebook-cell:/f%3A/Users/Dan/Desktop/University/Sem%202%202022/Pattern%20Recog/project/PatternFlow/recognition/brain-transformer/model.ipynb#X41sZmlsZQ%3D%3D?line=0'>1</a>\u001b[0m train_data, valid_data \u001b[39m=\u001b[39m dataset\u001b[39m.\u001b[39mtorch_train(\u001b[39m'\u001b[39m\u001b[39mtrain\u001b[39m\u001b[39m'\u001b[39m)\n\u001b[0;32m      <a href='vscode-notebook-cell:/f%3A/Users/Dan/Desktop/University/Sem%202%202022/Pattern%20Recog/project/PatternFlow/recognition/brain-transformer/model.ipynb#X41sZmlsZQ%3D%3D?line=1'>2</a>\u001b[0m test_data \u001b[39m=\u001b[39m dataset\u001b[39m.\u001b[39mtorch_test(\u001b[39m'\u001b[39m\u001b[39mtest\u001b[39m\u001b[39m'\u001b[39m)\n\u001b[1;32m----> <a href='vscode-notebook-cell:/f%3A/Users/Dan/Desktop/University/Sem%202%202022/Pattern%20Recog/project/PatternFlow/recognition/brain-transformer/model.ipynb#X41sZmlsZQ%3D%3D?line=3'>4</a>\u001b[0m model, optimizer, criterion, scheduler \u001b[39m=\u001b[39m modules\u001b[39m.\u001b[39;49mbuild_model(\n\u001b[0;32m      <a href='vscode-notebook-cell:/f%3A/Users/Dan/Desktop/University/Sem%202%202022/Pattern%20Recog/project/PatternFlow/recognition/brain-transformer/model.ipynb#X41sZmlsZQ%3D%3D?line=4'>5</a>\u001b[0m     dim\u001b[39m=\u001b[39;49m\u001b[39m512\u001b[39;49m, \n\u001b[0;32m      <a href='vscode-notebook-cell:/f%3A/Users/Dan/Desktop/University/Sem%202%202022/Pattern%20Recog/project/PatternFlow/recognition/brain-transformer/model.ipynb#X41sZmlsZQ%3D%3D?line=5'>6</a>\u001b[0m     image_size\u001b[39m=\u001b[39;49m\u001b[39m256\u001b[39;49m, \n\u001b[0;32m      <a href='vscode-notebook-cell:/f%3A/Users/Dan/Desktop/University/Sem%202%202022/Pattern%20Recog/project/PatternFlow/recognition/brain-transformer/model.ipynb#X41sZmlsZQ%3D%3D?line=6'>7</a>\u001b[0m     patch_size\u001b[39m=\u001b[39;49m\u001b[39m32\u001b[39;49m,\n\u001b[0;32m      <a href='vscode-notebook-cell:/f%3A/Users/Dan/Desktop/University/Sem%202%202022/Pattern%20Recog/project/PatternFlow/recognition/brain-transformer/model.ipynb#X41sZmlsZQ%3D%3D?line=7'>8</a>\u001b[0m     num_classes\u001b[39m=\u001b[39;49m\u001b[39m2\u001b[39;49m,\n\u001b[0;32m      <a href='vscode-notebook-cell:/f%3A/Users/Dan/Desktop/University/Sem%202%202022/Pattern%20Recog/project/PatternFlow/recognition/brain-transformer/model.ipynb#X41sZmlsZQ%3D%3D?line=8'>9</a>\u001b[0m     depth\u001b[39m=\u001b[39;49m\u001b[39m6\u001b[39;49m,\n\u001b[0;32m     <a href='vscode-notebook-cell:/f%3A/Users/Dan/Desktop/University/Sem%202%202022/Pattern%20Recog/project/PatternFlow/recognition/brain-transformer/model.ipynb#X41sZmlsZQ%3D%3D?line=9'>10</a>\u001b[0m     heads\u001b[39m=\u001b[39;49m\u001b[39m12\u001b[39;49m,\n\u001b[0;32m     <a href='vscode-notebook-cell:/f%3A/Users/Dan/Desktop/University/Sem%202%202022/Pattern%20Recog/project/PatternFlow/recognition/brain-transformer/model.ipynb#X41sZmlsZQ%3D%3D?line=10'>11</a>\u001b[0m     mlp_dim\u001b[39m=\u001b[39;49m\u001b[39m2024\u001b[39;49m\u001b[39m/\u001b[39;49m\u001b[39m2\u001b[39;49m,\n\u001b[0;32m     <a href='vscode-notebook-cell:/f%3A/Users/Dan/Desktop/University/Sem%202%202022/Pattern%20Recog/project/PatternFlow/recognition/brain-transformer/model.ipynb#X41sZmlsZQ%3D%3D?line=11'>12</a>\u001b[0m     \u001b[39m# channels=1,\u001b[39;49;00m\n\u001b[0;32m     <a href='vscode-notebook-cell:/f%3A/Users/Dan/Desktop/University/Sem%202%202022/Pattern%20Recog/project/PatternFlow/recognition/brain-transformer/model.ipynb#X41sZmlsZQ%3D%3D?line=12'>13</a>\u001b[0m     \u001b[39m# dropout=0.5,\u001b[39;49;00m\n\u001b[0;32m     <a href='vscode-notebook-cell:/f%3A/Users/Dan/Desktop/University/Sem%202%202022/Pattern%20Recog/project/PatternFlow/recognition/brain-transformer/model.ipynb#X41sZmlsZQ%3D%3D?line=13'>14</a>\u001b[0m     \u001b[39m# emb_dropout=0.5,\u001b[39;49;00m\n\u001b[0;32m     <a href='vscode-notebook-cell:/f%3A/Users/Dan/Desktop/University/Sem%202%202022/Pattern%20Recog/project/PatternFlow/recognition/brain-transformer/model.ipynb#X41sZmlsZQ%3D%3D?line=14'>15</a>\u001b[0m     \u001b[39m# lr = 0.1\u001b[39;49;00m\n\u001b[0;32m     <a href='vscode-notebook-cell:/f%3A/Users/Dan/Desktop/University/Sem%202%202022/Pattern%20Recog/project/PatternFlow/recognition/brain-transformer/model.ipynb#X41sZmlsZQ%3D%3D?line=15'>16</a>\u001b[0m     )\n\u001b[0;32m     <a href='vscode-notebook-cell:/f%3A/Users/Dan/Desktop/University/Sem%202%202022/Pattern%20Recog/project/PatternFlow/recognition/brain-transformer/model.ipynb#X41sZmlsZQ%3D%3D?line=16'>17</a>\u001b[0m model \u001b[39m=\u001b[39m model\u001b[39m.\u001b[39mcuda()\n",
      "File \u001b[1;32mf:\\Users\\Dan\\Desktop\\University\\Sem 2 2022\\Pattern Recog\\project\\PatternFlow\\recognition\\brain-transformer\\modules.py:17\u001b[0m, in \u001b[0;36mbuild_model\u001b[1;34m(dim, image_size, patch_size, num_classes, depth, heads, mlp_dim, channels, dropout, emb_dropout, lr)\u001b[0m\n\u001b[0;32m      5\u001b[0m \u001b[39mdef\u001b[39;00m \u001b[39mbuild_model\u001b[39m(dim\u001b[39m=\u001b[39m\u001b[39m512\u001b[39m, \n\u001b[0;32m      6\u001b[0m     image_size\u001b[39m=\u001b[39m\u001b[39m256\u001b[39m, \n\u001b[0;32m      7\u001b[0m     patch_size\u001b[39m=\u001b[39m\u001b[39m32\u001b[39m,\n\u001b[1;32m   (...)\u001b[0m\n\u001b[0;32m     14\u001b[0m     emb_dropout\u001b[39m=\u001b[39m\u001b[39m0.3\u001b[39m,\n\u001b[0;32m     15\u001b[0m     lr\u001b[39m=\u001b[39m\u001b[39m0.0001\u001b[39m):\n\u001b[1;32m---> 17\u001b[0m     model \u001b[39m=\u001b[39m vit_pytorch\u001b[39m.\u001b[39;49mViT(\n\u001b[0;32m     18\u001b[0m     dim\u001b[39m=\u001b[39;49mdim, \n\u001b[0;32m     19\u001b[0m     image_size\u001b[39m=\u001b[39;49mimage_size, \n\u001b[0;32m     20\u001b[0m     patch_size\u001b[39m=\u001b[39;49mpatch_size,\n\u001b[0;32m     21\u001b[0m     num_classes\u001b[39m=\u001b[39;49mnum_classes,\n\u001b[0;32m     22\u001b[0m     depth\u001b[39m=\u001b[39;49mdepth,\n\u001b[0;32m     23\u001b[0m     heads\u001b[39m=\u001b[39;49mheads,\n\u001b[0;32m     24\u001b[0m     mlp_dim\u001b[39m=\u001b[39;49mmlp_dim,\n\u001b[0;32m     25\u001b[0m     channels\u001b[39m=\u001b[39;49mchannels,\n\u001b[0;32m     26\u001b[0m     dropout\u001b[39m=\u001b[39;49mdropout,\n\u001b[0;32m     27\u001b[0m     emb_dropout\u001b[39m=\u001b[39;49memb_dropout\n\u001b[0;32m     28\u001b[0m     )\n\u001b[0;32m     29\u001b[0m     criterion \u001b[39m=\u001b[39m torch\u001b[39m.\u001b[39mnn\u001b[39m.\u001b[39mCrossEntropyLoss()\n\u001b[0;32m     30\u001b[0m     optimizer \u001b[39m=\u001b[39m torch\u001b[39m.\u001b[39moptim\u001b[39m.\u001b[39mAdam(model\u001b[39m.\u001b[39mparameters(), lr \u001b[39m=\u001b[39m lr)\n",
      "File \u001b[1;32mc:\\Users\\Dan\\Anaconda3\\lib\\site-packages\\vit_pytorch\\vit.py:103\u001b[0m, in \u001b[0;36mViT.__init__\u001b[1;34m(self, image_size, patch_size, num_classes, dim, depth, heads, mlp_dim, pool, channels, dim_head, dropout, emb_dropout)\u001b[0m\n\u001b[0;32m    100\u001b[0m \u001b[39mself\u001b[39m\u001b[39m.\u001b[39mcls_token \u001b[39m=\u001b[39m nn\u001b[39m.\u001b[39mParameter(torch\u001b[39m.\u001b[39mrandn(\u001b[39m1\u001b[39m, \u001b[39m1\u001b[39m, dim))\n\u001b[0;32m    101\u001b[0m \u001b[39mself\u001b[39m\u001b[39m.\u001b[39mdropout \u001b[39m=\u001b[39m nn\u001b[39m.\u001b[39mDropout(emb_dropout)\n\u001b[1;32m--> 103\u001b[0m \u001b[39mself\u001b[39m\u001b[39m.\u001b[39mtransformer \u001b[39m=\u001b[39m Transformer(dim, depth, heads, dim_head, mlp_dim, dropout)\n\u001b[0;32m    105\u001b[0m \u001b[39mself\u001b[39m\u001b[39m.\u001b[39mpool \u001b[39m=\u001b[39m pool\n\u001b[0;32m    106\u001b[0m \u001b[39mself\u001b[39m\u001b[39m.\u001b[39mto_latent \u001b[39m=\u001b[39m nn\u001b[39m.\u001b[39mIdentity()\n",
      "File \u001b[1;32mc:\\Users\\Dan\\Anaconda3\\lib\\site-packages\\vit_pytorch\\vit.py:74\u001b[0m, in \u001b[0;36mTransformer.__init__\u001b[1;34m(self, dim, depth, heads, dim_head, mlp_dim, dropout)\u001b[0m\n\u001b[0;32m     70\u001b[0m \u001b[39mself\u001b[39m\u001b[39m.\u001b[39mlayers \u001b[39m=\u001b[39m nn\u001b[39m.\u001b[39mModuleList([])\n\u001b[0;32m     71\u001b[0m \u001b[39mfor\u001b[39;00m _ \u001b[39min\u001b[39;00m \u001b[39mrange\u001b[39m(depth):\n\u001b[0;32m     72\u001b[0m     \u001b[39mself\u001b[39m\u001b[39m.\u001b[39mlayers\u001b[39m.\u001b[39mappend(nn\u001b[39m.\u001b[39mModuleList([\n\u001b[0;32m     73\u001b[0m         PreNorm(dim, Attention(dim, heads \u001b[39m=\u001b[39m heads, dim_head \u001b[39m=\u001b[39m dim_head, dropout \u001b[39m=\u001b[39m dropout)),\n\u001b[1;32m---> 74\u001b[0m         PreNorm(dim, FeedForward(dim, mlp_dim, dropout \u001b[39m=\u001b[39;49m dropout))\n\u001b[0;32m     75\u001b[0m     ]))\n",
      "File \u001b[1;32mc:\\Users\\Dan\\Anaconda3\\lib\\site-packages\\vit_pytorch\\vit.py:26\u001b[0m, in \u001b[0;36mFeedForward.__init__\u001b[1;34m(self, dim, hidden_dim, dropout)\u001b[0m\n\u001b[0;32m     23\u001b[0m \u001b[39mdef\u001b[39;00m \u001b[39m__init__\u001b[39m(\u001b[39mself\u001b[39m, dim, hidden_dim, dropout \u001b[39m=\u001b[39m \u001b[39m0.\u001b[39m):\n\u001b[0;32m     24\u001b[0m     \u001b[39msuper\u001b[39m()\u001b[39m.\u001b[39m\u001b[39m__init__\u001b[39m()\n\u001b[0;32m     25\u001b[0m     \u001b[39mself\u001b[39m\u001b[39m.\u001b[39mnet \u001b[39m=\u001b[39m nn\u001b[39m.\u001b[39mSequential(\n\u001b[1;32m---> 26\u001b[0m         nn\u001b[39m.\u001b[39;49mLinear(dim, hidden_dim),\n\u001b[0;32m     27\u001b[0m         nn\u001b[39m.\u001b[39mGELU(),\n\u001b[0;32m     28\u001b[0m         nn\u001b[39m.\u001b[39mDropout(dropout),\n\u001b[0;32m     29\u001b[0m         nn\u001b[39m.\u001b[39mLinear(hidden_dim, dim),\n\u001b[0;32m     30\u001b[0m         nn\u001b[39m.\u001b[39mDropout(dropout)\n\u001b[0;32m     31\u001b[0m     )\n",
      "File \u001b[1;32mc:\\Users\\Dan\\Anaconda3\\lib\\site-packages\\torch\\nn\\modules\\linear.py:85\u001b[0m, in \u001b[0;36mLinear.__init__\u001b[1;34m(self, in_features, out_features, bias, device, dtype)\u001b[0m\n\u001b[0;32m     83\u001b[0m \u001b[39mself\u001b[39m\u001b[39m.\u001b[39min_features \u001b[39m=\u001b[39m in_features\n\u001b[0;32m     84\u001b[0m \u001b[39mself\u001b[39m\u001b[39m.\u001b[39mout_features \u001b[39m=\u001b[39m out_features\n\u001b[1;32m---> 85\u001b[0m \u001b[39mself\u001b[39m\u001b[39m.\u001b[39mweight \u001b[39m=\u001b[39m Parameter(torch\u001b[39m.\u001b[39mempty((out_features, in_features), \u001b[39m*\u001b[39m\u001b[39m*\u001b[39mfactory_kwargs))\n\u001b[0;32m     86\u001b[0m \u001b[39mif\u001b[39;00m bias:\n\u001b[0;32m     87\u001b[0m     \u001b[39mself\u001b[39m\u001b[39m.\u001b[39mbias \u001b[39m=\u001b[39m Parameter(torch\u001b[39m.\u001b[39mempty(out_features, \u001b[39m*\u001b[39m\u001b[39m*\u001b[39mfactory_kwargs))\n",
      "\u001b[1;31mTypeError\u001b[0m: empty() received an invalid combination of arguments - got (tuple, dtype=NoneType, device=NoneType), but expected one of:\n * (tuple of ints size, *, tuple of names names, torch.memory_format memory_format, torch.dtype dtype, torch.layout layout, torch.device device, bool pin_memory, bool requires_grad)\n * (tuple of ints size, *, torch.memory_format memory_format, Tensor out, torch.dtype dtype, torch.layout layout, torch.device device, bool pin_memory, bool requires_grad)\n"
     ]
    }
   ],
   "source": [
    "train_data, valid_data = dataset.torch_train('train')\n",
    "test_data = dataset.torch_test('test')\n",
    "\n",
    "model, optimizer, criterion, scheduler = modules.build_model(\n",
    "    dim=512, \n",
    "    image_size=256, \n",
    "    patch_size=32,\n",
    "    num_classes=2,\n",
    "    depth=6,\n",
    "    heads=12,\n",
    "    mlp_dim=2024/2,\n",
    "    channels=1,\n",
    "    dropout=0.5,\n",
    "    emb_dropout=0.5,\n",
    "    lr = 0.1\n",
    "    )\n",
    "model = model.cuda()\n",
    "\n"
   ]
  },
  {
   "cell_type": "code",
   "execution_count": 4,
   "metadata": {},
   "outputs": [
    {
     "name": "stdout",
     "output_type": "stream",
     "text": [
      "Epoch: 1\n",
      "Train loss: 0.9276467178390816\n",
      "Train Accuracy: 0.5090613382899628\n",
      "Valid Loss: 0.735219434291457\n",
      "Valid Accuracy: 0.48187732342007433\n",
      "\n",
      "Epoch: 2\n",
      "Train loss: 0.763005125921455\n",
      "Train Accuracy: 0.5038917286245354\n",
      "Valid Loss: 0.7046628667519436\n",
      "Valid Accuracy: 0.48187732342007433\n",
      "\n",
      "Epoch: 3\n",
      "Train loss: 0.7482389579475144\n",
      "Train Accuracy: 0.49883828996282525\n",
      "Valid Loss: 0.8164863683920367\n",
      "Valid Accuracy: 0.48187732342007433\n",
      "\n",
      "Epoch: 4\n",
      "Train loss: 0.7434720348248256\n",
      "Train Accuracy: 0.5015683085501859\n",
      "Valid Loss: 0.7184842598925734\n",
      "Valid Accuracy: 0.4816449814126394\n",
      "\n",
      "Epoch: 5\n",
      "Train loss: 0.7142655689920195\n",
      "Train Accuracy: 0.5049372676579925\n",
      "Valid Loss: 0.6926462355599527\n",
      "Valid Accuracy: 0.5181226765799256\n",
      "\n",
      "Epoch: 6\n",
      "Train loss: 0.7000546320220349\n",
      "Train Accuracy: 0.5113847583643123\n",
      "Valid Loss: 0.6909338898375131\n",
      "Valid Accuracy: 0.5181226765799256\n",
      "\n",
      "Epoch: 7\n",
      "Train loss: 0.7000568586654381\n",
      "Train Accuracy: 0.5115590148698885\n",
      "Valid Loss: 0.7220963190922507\n",
      "Valid Accuracy: 0.5181226765799256\n",
      "\n",
      "Epoch: 8\n",
      "Train loss: 0.702944622607036\n",
      "Train Accuracy: 0.5103973048327137\n",
      "Valid Loss: 0.6926030877797579\n",
      "Valid Accuracy: 0.5188197026022305\n",
      "\n",
      "Epoch: 9\n",
      "Train loss: 0.7022151986905638\n",
      "Train Accuracy: 0.5009874535315985\n",
      "Valid Loss: 0.6957385770450294\n",
      "Valid Accuracy: 0.48187732342007433\n",
      "\n"
     ]
    },
    {
     "ename": "KeyboardInterrupt",
     "evalue": "",
     "output_type": "error",
     "traceback": [
      "\u001b[1;31m---------------------------------------------------------------------------\u001b[0m",
      "\u001b[1;31mKeyboardInterrupt\u001b[0m                         Traceback (most recent call last)",
      "\u001b[1;32mf:\\Users\\Dan\\Desktop\\University\\Sem 2 2022\\Pattern Recog\\project\\PatternFlow\\recognition\\brain-transformer\\model.ipynb Cell 5\u001b[0m in \u001b[0;36m<cell line: 12>\u001b[1;34m()\u001b[0m\n\u001b[0;32m     <a href='vscode-notebook-cell:/f%3A/Users/Dan/Desktop/University/Sem%202%202022/Pattern%20Recog/project/PatternFlow/recognition/brain-transformer/model.ipynb#X22sZmlsZQ%3D%3D?line=20'>21</a>\u001b[0m loss \u001b[39m=\u001b[39m criterion(prediction, labels)\n\u001b[0;32m     <a href='vscode-notebook-cell:/f%3A/Users/Dan/Desktop/University/Sem%202%202022/Pattern%20Recog/project/PatternFlow/recognition/brain-transformer/model.ipynb#X22sZmlsZQ%3D%3D?line=21'>22</a>\u001b[0m loss\u001b[39m.\u001b[39mbackward()\n\u001b[1;32m---> <a href='vscode-notebook-cell:/f%3A/Users/Dan/Desktop/University/Sem%202%202022/Pattern%20Recog/project/PatternFlow/recognition/brain-transformer/model.ipynb#X22sZmlsZQ%3D%3D?line=22'>23</a>\u001b[0m optimizer\u001b[39m.\u001b[39;49mstep()\n\u001b[0;32m     <a href='vscode-notebook-cell:/f%3A/Users/Dan/Desktop/University/Sem%202%202022/Pattern%20Recog/project/PatternFlow/recognition/brain-transformer/model.ipynb#X22sZmlsZQ%3D%3D?line=23'>24</a>\u001b[0m acc \u001b[39m=\u001b[39m \u001b[39msum\u001b[39m(torch\u001b[39m.\u001b[39margmax(prediction,dim\u001b[39m=\u001b[39m\u001b[39m1\u001b[39m) \u001b[39m==\u001b[39m torch\u001b[39m.\u001b[39margmax(labels,dim\u001b[39m=\u001b[39m\u001b[39m1\u001b[39m))\u001b[39m.\u001b[39mcpu()\u001b[39m.\u001b[39mdetach()\u001b[39m.\u001b[39mnumpy()\n\u001b[0;32m     <a href='vscode-notebook-cell:/f%3A/Users/Dan/Desktop/University/Sem%202%202022/Pattern%20Recog/project/PatternFlow/recognition/brain-transformer/model.ipynb#X22sZmlsZQ%3D%3D?line=24'>25</a>\u001b[0m train_acc \u001b[39m+\u001b[39m\u001b[39m=\u001b[39m acc\n",
      "File \u001b[1;32mc:\\Users\\Dan\\Anaconda3\\lib\\site-packages\\torch\\optim\\lr_scheduler.py:65\u001b[0m, in \u001b[0;36m_LRScheduler.__init__.<locals>.with_counter.<locals>.wrapper\u001b[1;34m(*args, **kwargs)\u001b[0m\n\u001b[0;32m     63\u001b[0m instance\u001b[39m.\u001b[39m_step_count \u001b[39m+\u001b[39m\u001b[39m=\u001b[39m \u001b[39m1\u001b[39m\n\u001b[0;32m     64\u001b[0m wrapped \u001b[39m=\u001b[39m func\u001b[39m.\u001b[39m\u001b[39m__get__\u001b[39m(instance, \u001b[39mcls\u001b[39m)\n\u001b[1;32m---> 65\u001b[0m \u001b[39mreturn\u001b[39;00m wrapped(\u001b[39m*\u001b[39margs, \u001b[39m*\u001b[39m\u001b[39m*\u001b[39mkwargs)\n",
      "File \u001b[1;32mc:\\Users\\Dan\\Anaconda3\\lib\\site-packages\\torch\\optim\\optimizer.py:88\u001b[0m, in \u001b[0;36mOptimizer._hook_for_profile.<locals>.profile_hook_step.<locals>.wrapper\u001b[1;34m(*args, **kwargs)\u001b[0m\n\u001b[0;32m     86\u001b[0m profile_name \u001b[39m=\u001b[39m \u001b[39m\"\u001b[39m\u001b[39mOptimizer.step#\u001b[39m\u001b[39m{}\u001b[39;00m\u001b[39m.step\u001b[39m\u001b[39m\"\u001b[39m\u001b[39m.\u001b[39mformat(obj\u001b[39m.\u001b[39m\u001b[39m__class__\u001b[39m\u001b[39m.\u001b[39m\u001b[39m__name__\u001b[39m)\n\u001b[0;32m     87\u001b[0m \u001b[39mwith\u001b[39;00m torch\u001b[39m.\u001b[39mautograd\u001b[39m.\u001b[39mprofiler\u001b[39m.\u001b[39mrecord_function(profile_name):\n\u001b[1;32m---> 88\u001b[0m     \u001b[39mreturn\u001b[39;00m func(\u001b[39m*\u001b[39margs, \u001b[39m*\u001b[39m\u001b[39m*\u001b[39mkwargs)\n",
      "File \u001b[1;32mc:\\Users\\Dan\\Anaconda3\\lib\\site-packages\\torch\\autograd\\grad_mode.py:27\u001b[0m, in \u001b[0;36m_DecoratorContextManager.__call__.<locals>.decorate_context\u001b[1;34m(*args, **kwargs)\u001b[0m\n\u001b[0;32m     24\u001b[0m \u001b[39m@functools\u001b[39m\u001b[39m.\u001b[39mwraps(func)\n\u001b[0;32m     25\u001b[0m \u001b[39mdef\u001b[39;00m \u001b[39mdecorate_context\u001b[39m(\u001b[39m*\u001b[39margs, \u001b[39m*\u001b[39m\u001b[39m*\u001b[39mkwargs):\n\u001b[0;32m     26\u001b[0m     \u001b[39mwith\u001b[39;00m \u001b[39mself\u001b[39m\u001b[39m.\u001b[39mclone():\n\u001b[1;32m---> 27\u001b[0m         \u001b[39mreturn\u001b[39;00m func(\u001b[39m*\u001b[39margs, \u001b[39m*\u001b[39m\u001b[39m*\u001b[39mkwargs)\n",
      "File \u001b[1;32mc:\\Users\\Dan\\Anaconda3\\lib\\site-packages\\torch\\optim\\adam.py:141\u001b[0m, in \u001b[0;36mAdam.step\u001b[1;34m(self, closure)\u001b[0m\n\u001b[0;32m    138\u001b[0m             \u001b[39m# record the step after step update\u001b[39;00m\n\u001b[0;32m    139\u001b[0m             state_steps\u001b[39m.\u001b[39mappend(state[\u001b[39m'\u001b[39m\u001b[39mstep\u001b[39m\u001b[39m'\u001b[39m])\n\u001b[1;32m--> 141\u001b[0m     F\u001b[39m.\u001b[39;49madam(params_with_grad,\n\u001b[0;32m    142\u001b[0m            grads,\n\u001b[0;32m    143\u001b[0m            exp_avgs,\n\u001b[0;32m    144\u001b[0m            exp_avg_sqs,\n\u001b[0;32m    145\u001b[0m            max_exp_avg_sqs,\n\u001b[0;32m    146\u001b[0m            state_steps,\n\u001b[0;32m    147\u001b[0m            amsgrad\u001b[39m=\u001b[39;49mgroup[\u001b[39m'\u001b[39;49m\u001b[39mamsgrad\u001b[39;49m\u001b[39m'\u001b[39;49m],\n\u001b[0;32m    148\u001b[0m            beta1\u001b[39m=\u001b[39;49mbeta1,\n\u001b[0;32m    149\u001b[0m            beta2\u001b[39m=\u001b[39;49mbeta2,\n\u001b[0;32m    150\u001b[0m            lr\u001b[39m=\u001b[39;49mgroup[\u001b[39m'\u001b[39;49m\u001b[39mlr\u001b[39;49m\u001b[39m'\u001b[39;49m],\n\u001b[0;32m    151\u001b[0m            weight_decay\u001b[39m=\u001b[39;49mgroup[\u001b[39m'\u001b[39;49m\u001b[39mweight_decay\u001b[39;49m\u001b[39m'\u001b[39;49m],\n\u001b[0;32m    152\u001b[0m            eps\u001b[39m=\u001b[39;49mgroup[\u001b[39m'\u001b[39;49m\u001b[39meps\u001b[39;49m\u001b[39m'\u001b[39;49m],\n\u001b[0;32m    153\u001b[0m            maximize\u001b[39m=\u001b[39;49mgroup[\u001b[39m'\u001b[39;49m\u001b[39mmaximize\u001b[39;49m\u001b[39m'\u001b[39;49m])\n\u001b[0;32m    154\u001b[0m \u001b[39mreturn\u001b[39;00m loss\n",
      "File \u001b[1;32mc:\\Users\\Dan\\Anaconda3\\lib\\site-packages\\torch\\optim\\_functional.py:98\u001b[0m, in \u001b[0;36madam\u001b[1;34m(params, grads, exp_avgs, exp_avg_sqs, max_exp_avg_sqs, state_steps, amsgrad, beta1, beta2, lr, weight_decay, eps, maximize)\u001b[0m\n\u001b[0;32m     96\u001b[0m \u001b[39m# Decay the first and second moment running average coefficient\u001b[39;00m\n\u001b[0;32m     97\u001b[0m exp_avg\u001b[39m.\u001b[39mmul_(beta1)\u001b[39m.\u001b[39madd_(grad, alpha\u001b[39m=\u001b[39m\u001b[39m1\u001b[39m \u001b[39m-\u001b[39m beta1)\n\u001b[1;32m---> 98\u001b[0m exp_avg_sq\u001b[39m.\u001b[39;49mmul_(beta2)\u001b[39m.\u001b[39maddcmul_(grad, grad\u001b[39m.\u001b[39mconj(), value\u001b[39m=\u001b[39m\u001b[39m1\u001b[39m \u001b[39m-\u001b[39m beta2)\n\u001b[0;32m     99\u001b[0m \u001b[39mif\u001b[39;00m amsgrad:\n\u001b[0;32m    100\u001b[0m     \u001b[39m# Maintains the maximum of all 2nd moment running avg. till now\u001b[39;00m\n\u001b[0;32m    101\u001b[0m     torch\u001b[39m.\u001b[39mmaximum(max_exp_avg_sqs[i], exp_avg_sq, out\u001b[39m=\u001b[39mmax_exp_avg_sqs[i])\n",
      "\u001b[1;31mKeyboardInterrupt\u001b[0m: "
     ]
    }
   ],
   "source": [
    "train_iter = iter(train_data)\n",
    "train_size = 0\n",
    "valid_iter = iter(valid_data)\n",
    "valid_size = 0\n",
    "for i in train_iter:\n",
    "    train_size += i[0].shape[0]\n",
    "for i in valid_iter:\n",
    "    valid_size += i[0].shape[0]\n",
    "min_valid_loss = np.inf\n",
    "\n",
    "history = {'train_loss':[0], 'train_acc':[0],'valid_loss':[0],'valid_acc':[0]}\n",
    "for epoch in range(20):\n",
    "    train_loss = 0\n",
    "    train_acc = 0\n",
    "    train_iter = iter(train_data)\n",
    "    model.train()\n",
    "    for batch, labels in train_iter:\n",
    "        batch, labels = batch.cuda(), labels.cuda()\n",
    "        optimizer.zero_grad()\n",
    "        prediction = model(batch)\n",
    "        loss = criterion(prediction, labels)\n",
    "        loss.backward()\n",
    "        optimizer.step()\n",
    "        acc = sum(torch.argmax(prediction,dim=1) == torch.argmax(labels,dim=1)).cpu().detach().numpy()\n",
    "        train_acc += acc\n",
    "        train_loss += loss.cpu().detach().numpy() * len(batch)/train_size\n",
    "    train_acc /= train_size\n",
    "\n",
    "    valid_loss = 0\n",
    "    valid_acc = 0\n",
    "    model.eval()\n",
    "    valid_iter = iter(valid_data)\n",
    "    test_valid_size = 0\n",
    "    for batch, labels in valid_iter:\n",
    "        test_valid_size+= labels.shape[0]\n",
    "        batch, labels = batch.cuda(),labels.cuda()\n",
    "        prediction = model(batch)\n",
    "        loss = criterion(prediction, labels)\n",
    "        acc = sum(torch.argmax(prediction,dim=1) == torch.argmax(labels,dim=1)).item()\n",
    "        valid_acc += acc\n",
    "        valid_loss += loss.cpu().detach().numpy()*len(batch)/valid_size\n",
    "    valid_acc /= valid_size\n",
    "    scheduler.step()\n",
    "    history['train_acc'].append(train_acc)\n",
    "    history['train_loss'].append(train_loss)\n",
    "    history['valid_acc'].append(valid_acc)\n",
    "    history['valid_loss'].append(valid_loss)\n",
    "\n",
    "    print(f\"Epoch: {epoch+1}\\nTrain loss: {train_loss}\\nTrain Accuracy: {train_acc}\\nValid Loss: {valid_loss}\\nValid Accuracy: {valid_acc}\\n\")\n",
    "    \n",
    "    if min_valid_loss > valid_loss:\n",
    "        min_valid_loss = valid_loss\n",
    "        torch.save(model.state_dict(), 'saved/best_model.pth')\n",
    "    "
   ]
  },
  {
   "cell_type": "markdown",
   "metadata": {},
   "source": [
    "Test"
   ]
  },
  {
   "cell_type": "code",
   "execution_count": 5,
   "metadata": {},
   "outputs": [
    {
     "name": "stdout",
     "output_type": "stream",
     "text": [
      "0.5044444444444445\n"
     ]
    }
   ],
   "source": [
    "test_iter = iter(test_data)\n",
    "test_acc = 0\n",
    "test_size = 0\n",
    "model.eval()\n",
    "for batch, labels in test_iter:\n",
    "    batch, labels = batch.cuda(),labels.cuda()\n",
    "    prediction = model(batch)\n",
    "    acc = sum(torch.argmax(prediction,dim=1) == torch.argmax(labels,dim=1)).cpu().detach().numpy()\n",
    "    test_acc += acc\n",
    "    test_size+= len(batch)\n",
    "\n",
    "test_acc /= test_size\n",
    "\n",
    "print(test_acc)"
   ]
  },
  {
   "cell_type": "code",
   "execution_count": 6,
   "metadata": {},
   "outputs": [
    {
     "data": {
      "image/png": "[encoded data removed]",
      "text/plain": [
       "<Figure size 960x640 with 1 Axes>"
      ]
     },
     "metadata": {
      "needs_background": "light"
     },
     "output_type": "display_data"
    }
   ],
   "source": [
    "plt.figure(figsize=(12, 8), dpi=80)\n",
    "plt.plot(history['train_acc'])\n",
    "plt.plot(history['valid_acc'])\n",
    "plt.xlim([0,20])\n",
    "plt.xticks([0,5,10,15,20])\n",
    "plt.ylim([0,1])\n",
    "plt.title('Accuracy')\n",
    "plt.legend(['Training', 'Validation'])\n",
    "plt.show()"
   ]
  }
 ],
 "metadata": {
  "kernelspec": {
   "display_name": "Python 3.9.12 ('base')",
   "language": "python",
   "name": "python3"
  },
  "language_info": {
   "codemirror_mode": {
    "name": "ipython",
    "version": 3
   },
   "file_extension": ".py",
   "mimetype": "text/x-python",
   "name": "python",
   "nbconvert_exporter": "python",
   "pygments_lexer": "ipython3",
   "version": "3.9.12"
  },
  "orig_nbformat": 4,
  "vscode": {
   "interpreter": {
    "hash": "6da927ccafd6642d9ccb03b2d8170da6f0652bff5ba8036b751f41afd51c2042"
   }
  }
 },
 "nbformat": 4,
 "nbformat_minor": 2
}
