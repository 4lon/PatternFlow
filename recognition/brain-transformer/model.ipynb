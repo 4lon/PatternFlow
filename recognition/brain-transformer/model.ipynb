{
 "cells": [
  {
   "cell_type": "markdown",
   "metadata": {},
   "source": [
    "Messing about"
   ]
  },
  {
   "cell_type": "code",
   "execution_count": 1,
   "metadata": {},
   "outputs": [
    {
     "name": "stdout",
     "output_type": "stream",
     "text": [
      "Found 21520 files belonging to 2 classes.\n",
      "Using 16140 files for training.\n",
      "Found 21520 files belonging to 2 classes.\n",
      "Using 5380 files for validation.\n",
      "Found 9000 files belonging to 2 classes.\n"
     ]
    }
   ],
   "source": [
    "import dataset\n",
    "train_data, valid_data = dataset.load_train_data()\n",
    "test_data = dataset.load_test()"
   ]
  },
  {
   "cell_type": "markdown",
   "metadata": {},
   "source": [
    "train?"
   ]
  },
  {
   "cell_type": "code",
   "execution_count": 3,
   "metadata": {},
   "outputs": [],
   "source": [
    "#Hyperparameters\n",
    "\n",
    "lr = 0.001\n",
    "w_decay = 0.0001\n",
    "epochs = 100\n",
    "\n",
    "image_size = 256\n",
    "patch_size = 32\n",
    "num_patches = 8\n",
    "\n",
    "#I dont know what these do\n",
    "projection_dim =64\n",
    "num_heads = 4\n",
    "transformer_units = [projection_dim*2, projection_dim]\n",
    "transformer_layers = 8\n",
    "mlp_head_units =[2048,1024]\n",
    "\n"
   ]
  },
  {
   "cell_type": "markdown",
   "metadata": {},
   "source": [
    "Modules"
   ]
  },
  {
   "cell_type": "code",
   "execution_count": 4,
   "metadata": {},
   "outputs": [],
   "source": [
    "import tensorflow as tf\n",
    "from tensorflow import keras\n",
    "from tensorflow.keras import layers\n",
    "import matplotlib.pyplot as plt\n",
    "import tensorflow_addons as tfa\n",
    "import numpy as np\n",
    "\n",
    "def mlp(x, hidden_units, dropout_rate):\n",
    "    for units in hidden_units:\n",
    "        x = layers.Dense(units, activation=tf.nn.gelu)(x)\n",
    "        x = layers.Dropout(dropout_rate)(x)\n",
    "    return x\n",
    "\n",
    "\n",
    "class Patches(layers.Layer):\n",
    "    def __init__(self, patch_size):\n",
    "        super(Patches, self).__init__()\n",
    "        self.patch_size = patch_size\n",
    "\n",
    "    def call(self, images):\n",
    "        batch_size = tf.shape(images)[0]\n",
    "        patches = tf.image.extract_patches(\n",
    "            images=images,\n",
    "            sizes=[1, self.patch_size, self.patch_size, 1],\n",
    "            strides=[1, self.patch_size, self.patch_size, 1],\n",
    "            rates=[1, 1, 1, 1],\n",
    "            padding=\"VALID\",\n",
    "        )\n",
    "        patch_dims = patches.shape[-1]\n",
    "        patches = tf.reshape(patches, [batch_size, -1, patch_dims])\n",
    "        return patches\n",
    "\n",
    "\n",
    "class PatchEncoder(layers.Layer):\n",
    "    def __init__(self, num_patches, projection_dim):\n",
    "        super(PatchEncoder, self).__init__()\n",
    "        self.num_patches = num_patches\n",
    "        self.projection = layers.Dense(units=projection_dim)\n",
    "        self.position_embedding = layers.Embedding(\n",
    "            input_dim=num_patches, output_dim=projection_dim\n",
    "        )\n",
    "\n",
    "    def call(self, patch):\n",
    "        positions = tf.range(start=0, limit=self.num_patches, delta=1)\n",
    "        encoded = self.projection(patch) + self.position_embedding(positions)\n",
    "        return encoded\n",
    "\n",
    "\n",
    "\n",
    "#ViT Model\n",
    "def creat_vit_classifier():\n",
    "    inputs = layers.Input(shape=(240,256,1))\n",
    "\n",
    "    patches = Patches(patch_size)(inputs)\n",
    "    # Encode patches.\n",
    "    encoded_patches = PatchEncoder(num_patches, projection_dim)(patches)\n",
    "\n",
    "    # Create multiple layers of the Transformer block.\n",
    "    for _ in range(transformer_layers):\n",
    "        # Layer normalization 1.\n",
    "        x1 = layers.LayerNormalization(epsilon=1e-6)(encoded_patches)\n",
    "        # Create a multi-head attention layer.\n",
    "        attention_output = layers.MultiHeadAttention(\n",
    "            num_heads=num_heads, key_dim=projection_dim, dropout=0.1\n",
    "        )(x1, x1)\n",
    "        # Skip connection 1.\n",
    "        x2 = layers.Add()([attention_output, encoded_patches])\n",
    "        # Layer normalization 2.\n",
    "        x3 = layers.LayerNormalization(epsilon=1e-6)(x2)\n",
    "        # MLP.\n",
    "        x3 = mlp(x3, hidden_units=transformer_units, dropout_rate=0.1)\n",
    "        # Skip connection 2.\n",
    "        encoded_patches = layers.Add()([x3, x2])\n",
    "\n",
    "    # Create a [batch_size, projection_dim] tensor.\n",
    "    representation = layers.LayerNormalization(epsilon=1e-6)(encoded_patches)\n",
    "    representation = layers.Flatten()(representation)\n",
    "    representation = layers.Dropout(0.5)(representation)\n",
    "    # Add MLP.\n",
    "    features = mlp(representation, hidden_units=mlp_head_units, dropout_rate=0.5)\n",
    "    # Classify outputs.\n",
    "    logits = layers.Dense(2)(features)\n",
    "    # Create the Keras model.\n",
    "    model = keras.Model(inputs=inputs, outputs=logits)\n",
    "    return model\n",
    "\n",
    "\n",
    "def run_experiment(model, train, test):\n",
    "    optimizer = tfa.optimizers.AdamW(\n",
    "        learning_rate=0.001, weight_decay=0.0001\n",
    "    )\n",
    "\n",
    "    model.compile(\n",
    "        optimizer=optimizer,\n",
    "        loss=keras.losses.BinaryCrossentropy(from_logits=True),\n",
    "        metrics=[\n",
    "            keras.metrics.SparseCategoricalAccuracy(name=\"accuracy\"),\n",
    "        ],\n",
    "    )\n",
    "\n",
    "    checkpoint_filepath = \"/tmp/checkpoint\"\n",
    "    checkpoint_callback = keras.callbacks.ModelCheckpoint(\n",
    "        checkpoint_filepath,\n",
    "        monitor=\"val_accuracy\",\n",
    "        save_best_only=True,\n",
    "        save_weights_only=True,\n",
    "    )\n",
    "\n",
    "    history = model.fit(\n",
    "        x=x_train,\n",
    "        y=y_train,\n",
    "        epochs=100,\n",
    "        validation_split=0.1,\n",
    "        callbacks=[checkpoint_callback],\n",
    "    )\n",
    "\n",
    "    model.load_weights(checkpoint_filepath)\n",
    "    _, accuracy = model.evaluate(x_test, y_test)\n",
    "    print(f\"Test accuracy: {round(accuracy * 100, 2)}%\")\n",
    "\n",
    "    return history\n",
    "\n",
    "\n",
    "\n",
    "\n",
    "\n",
    "\n",
    "\n"
   ]
  },
  {
   "cell_type": "markdown",
   "metadata": {},
   "source": [
    "Train"
   ]
  },
  {
   "cell_type": "code",
   "execution_count": 5,
   "metadata": {},
   "outputs": [],
   "source": [
    "#Hyperparameters\n",
    "\n",
    "lr = 0.001\n",
    "w_decay = 0.0001\n",
    "epochs = 100\n",
    "\n",
    "image_size = 256\n",
    "patch_size = 32\n",
    "num_patches = 8\n",
    "\n",
    "#I dont know what these do\n",
    "projection_dim =64\n",
    "num_heads = 4\n",
    "transformer_units = [projection_dim*2, projection_dim]\n",
    "transformer_layers = 8\n",
    "mlp_head_units =[2048,1024]\n",
    "\n",
    "\n",
    "\n",
    "\n",
    "\n"
   ]
  },
  {
   "cell_type": "code",
   "execution_count": 2,
   "metadata": {},
   "outputs": [
    {
     "ename": "NameError",
     "evalue": "name 'plt' is not defined",
     "output_type": "error",
     "traceback": [
      "\u001b[1;31m---------------------------------------------------------------------------\u001b[0m",
      "\u001b[1;31mNameError\u001b[0m                                 Traceback (most recent call last)",
      "\u001b[1;32mf:\\Users\\Dan\\Desktop\\University\\Sem 2 2022\\Pattern Recog\\project\\PatternFlow\\recognition\\brain-transformer\\model.ipynb Cell 9\u001b[0m in \u001b[0;36m<cell line: 2>\u001b[1;34m()\u001b[0m\n\u001b[0;32m      <a href='vscode-notebook-cell:/f%3A/Users/Dan/Desktop/University/Sem%202%202022/Pattern%20Recog/project/PatternFlow/recognition/brain-transformer/model.ipynb#X12sZmlsZQ%3D%3D?line=0'>1</a>\u001b[0m images, labels \u001b[39m=\u001b[39m \u001b[39mnext\u001b[39m(train_data\u001b[39m.\u001b[39mas_numpy_iterator())\n\u001b[1;32m----> <a href='vscode-notebook-cell:/f%3A/Users/Dan/Desktop/University/Sem%202%202022/Pattern%20Recog/project/PatternFlow/recognition/brain-transformer/model.ipynb#X12sZmlsZQ%3D%3D?line=1'>2</a>\u001b[0m plt\u001b[39m.\u001b[39mimshow(images[\u001b[39m0\u001b[39m])\n\u001b[0;32m      <a href='vscode-notebook-cell:/f%3A/Users/Dan/Desktop/University/Sem%202%202022/Pattern%20Recog/project/PatternFlow/recognition/brain-transformer/model.ipynb#X12sZmlsZQ%3D%3D?line=2'>3</a>\u001b[0m plt\u001b[39m.\u001b[39mshow()\n",
      "\u001b[1;31mNameError\u001b[0m: name 'plt' is not defined"
     ]
    }
   ],
   "source": [
    "images, labels = next(train_data.as_numpy_iterator())\n",
    "plt.imshow(images[0])\n",
    "plt.show()"
   ]
  },
  {
   "cell_type": "code",
   "execution_count": 2,
   "metadata": {},
   "outputs": [
    {
     "ename": "NameError",
     "evalue": "name 'tf' is not defined",
     "output_type": "error",
     "traceback": [
      "\u001b[1;31m---------------------------------------------------------------------------\u001b[0m",
      "\u001b[1;31mNameError\u001b[0m                                 Traceback (most recent call last)",
      "\u001b[1;32mf:\\Users\\Dan\\Desktop\\University\\Sem 2 2022\\Pattern Recog\\project\\PatternFlow\\recognition\\brain-transformer\\model.ipynb Cell 10\u001b[0m in \u001b[0;36m<cell line: 11>\u001b[1;34m()\u001b[0m\n\u001b[0;32m      <a href='vscode-notebook-cell:/f%3A/Users/Dan/Desktop/University/Sem%202%202022/Pattern%20Recog/project/PatternFlow/recognition/brain-transformer/model.ipynb#X13sZmlsZQ%3D%3D?line=7'>8</a>\u001b[0m plt\u001b[39m.\u001b[39mimshow(image)\n\u001b[0;32m      <a href='vscode-notebook-cell:/f%3A/Users/Dan/Desktop/University/Sem%202%202022/Pattern%20Recog/project/PatternFlow/recognition/brain-transformer/model.ipynb#X13sZmlsZQ%3D%3D?line=8'>9</a>\u001b[0m plt\u001b[39m.\u001b[39maxis(\u001b[39m\"\u001b[39m\u001b[39moff\u001b[39m\u001b[39m\"\u001b[39m)\n\u001b[1;32m---> <a href='vscode-notebook-cell:/f%3A/Users/Dan/Desktop/University/Sem%202%202022/Pattern%20Recog/project/PatternFlow/recognition/brain-transformer/model.ipynb#X13sZmlsZQ%3D%3D?line=10'>11</a>\u001b[0m resized_image \u001b[39m=\u001b[39m tf\u001b[39m.\u001b[39mimage\u001b[39m.\u001b[39mresize(\n\u001b[0;32m     <a href='vscode-notebook-cell:/f%3A/Users/Dan/Desktop/University/Sem%202%202022/Pattern%20Recog/project/PatternFlow/recognition/brain-transformer/model.ipynb#X13sZmlsZQ%3D%3D?line=11'>12</a>\u001b[0m     tf\u001b[39m.\u001b[39mconvert_to_tensor([image]), size\u001b[39m=\u001b[39m(image_size, image_size)\n\u001b[0;32m     <a href='vscode-notebook-cell:/f%3A/Users/Dan/Desktop/University/Sem%202%202022/Pattern%20Recog/project/PatternFlow/recognition/brain-transformer/model.ipynb#X13sZmlsZQ%3D%3D?line=12'>13</a>\u001b[0m )\n\u001b[0;32m     <a href='vscode-notebook-cell:/f%3A/Users/Dan/Desktop/University/Sem%202%202022/Pattern%20Recog/project/PatternFlow/recognition/brain-transformer/model.ipynb#X13sZmlsZQ%3D%3D?line=13'>14</a>\u001b[0m patches \u001b[39m=\u001b[39m Patches(patch_size)(resized_image)\n\u001b[0;32m     <a href='vscode-notebook-cell:/f%3A/Users/Dan/Desktop/University/Sem%202%202022/Pattern%20Recog/project/PatternFlow/recognition/brain-transformer/model.ipynb#X13sZmlsZQ%3D%3D?line=14'>15</a>\u001b[0m \u001b[39mprint\u001b[39m(\u001b[39mf\u001b[39m\u001b[39m\"\u001b[39m\u001b[39mImage size: \u001b[39m\u001b[39m{\u001b[39;00mimage_size\u001b[39m}\u001b[39;00m\u001b[39m X \u001b[39m\u001b[39m{\u001b[39;00mimage_size\u001b[39m}\u001b[39;00m\u001b[39m\"\u001b[39m)\n",
      "\u001b[1;31mNameError\u001b[0m: name 'tf' is not defined"
     ]
    },
    {
     "data": {
      "image/png": "[encoded data removed]",
      "text/plain": [
       "<Figure size 288x288 with 1 Axes>"
      ]
     },
     "metadata": {
      "needs_background": "light"
     },
     "output_type": "display_data"
    }
   ],
   "source": [
    "import matplotlib.pyplot as plt\n",
    "import numpy as np\n",
    "\n",
    "images, labels = next(train_data.as_numpy_iterator())\n",
    "\n",
    "plt.figure(figsize=(4, 4))\n",
    "image = images[1]\n",
    "plt.imshow(image)\n",
    "plt.axis(\"off\")\n",
    "\n",
    "resized_image = tf.image.resize(\n",
    "    tf.convert_to_tensor([image]), size=(image_size, image_size)\n",
    ")\n",
    "patches = Patches(patch_size)(resized_image)\n",
    "print(f\"Image size: {image_size} X {image_size}\")\n",
    "print(f\"Patch size: {patch_size} X {patch_size}\")\n",
    "print(f\"Patches per image: {patches.shape[1]}\")\n",
    "print(f\"Elements per patch: {patches.shape[-1]}\")\n",
    "\n",
    "n = int(np.sqrt(patches.shape[1]))\n",
    "plt.figure(figsize=(4, 4))\n",
    "for i, patch in enumerate(patches[0]):\n",
    "    ax = plt.subplot(n, n, i + 1)\n",
    "    patch_img = tf.reshape(patch, (patch_size, patch_size, 1))\n",
    "    plt.imshow(patch_img.numpy())\n",
    "    plt.axis(\"off\")"
   ]
  },
  {
   "cell_type": "code",
   "execution_count": 12,
   "metadata": {},
   "outputs": [],
   "source": [
    "from keras.models import Sequential\n",
    "from keras.layers import *"
   ]
  }
 ],
 "metadata": {
  "kernelspec": {
   "display_name": "Python 3.9.12 ('base')",
   "language": "python",
   "name": "python3"
  },
  "language_info": {
   "codemirror_mode": {
    "name": "ipython",
    "version": 3
   },
   "file_extension": ".py",
   "mimetype": "text/x-python",
   "name": "python",
   "nbconvert_exporter": "python",
   "pygments_lexer": "ipython3",
   "version": "3.9.12"
  },
  "orig_nbformat": 4,
  "vscode": {
   "interpreter": {
    "hash": "6da927ccafd6642d9ccb03b2d8170da6f0652bff5ba8036b751f41afd51c2042"
   }
  }
 },
 "nbformat": 4,
 "nbformat_minor": 2
}
