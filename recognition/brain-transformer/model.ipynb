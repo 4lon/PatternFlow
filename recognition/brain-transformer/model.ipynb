{
 "cells": [
  {
   "cell_type": "markdown",
   "metadata": {},
   "source": [
    "modules"
   ]
  },
  {
   "cell_type": "code",
   "execution_count": 14,
   "metadata": {},
   "outputs": [
    {
     "ename": "ImportError",
     "evalue": "cannot import name 'load_train_data' from 'dataset' (f:\\Users\\Dan\\Desktop\\University\\Sem 2 2022\\Pattern Recog\\project\\PatternFlow\\recognition\\brain-transformer\\dataset.py)",
     "output_type": "error",
     "traceback": [
      "\u001b[1;31m---------------------------------------------------------------------------\u001b[0m",
      "\u001b[1;31mImportError\u001b[0m                               Traceback (most recent call last)",
      "\u001b[1;32mf:\\Users\\Dan\\Desktop\\University\\Sem 2 2022\\Pattern Recog\\project\\PatternFlow\\recognition\\brain-transformer\\model.ipynb Cell 2\u001b[0m in \u001b[0;36m<cell line: 1>\u001b[1;34m()\u001b[0m\n\u001b[1;32m----> <a href='vscode-notebook-cell:/f%3A/Users/Dan/Desktop/University/Sem%202%202022/Pattern%20Recog/project/PatternFlow/recognition/brain-transformer/model.ipynb#W2sZmlsZQ%3D%3D?line=0'>1</a>\u001b[0m \u001b[39mfrom\u001b[39;00m \u001b[39mdataset\u001b[39;00m \u001b[39mimport\u001b[39;00m load_train_data\n",
      "\u001b[1;31mImportError\u001b[0m: cannot import name 'load_train_data' from 'dataset' (f:\\Users\\Dan\\Desktop\\University\\Sem 2 2022\\Pattern Recog\\project\\PatternFlow\\recognition\\brain-transformer\\dataset.py)"
     ]
    }
   ],
   "source": [
    "from dataset import load_train_data\n"
   ]
  }
 ],
 "metadata": {
  "kernelspec": {
   "display_name": "Python 3.9.12 ('base')",
   "language": "python",
   "name": "python3"
  },
  "language_info": {
   "codemirror_mode": {
    "name": "ipython",
    "version": 3
   },
   "file_extension": ".py",
   "mimetype": "text/x-python",
   "name": "python",
   "nbconvert_exporter": "python",
   "pygments_lexer": "ipython3",
   "version": "3.9.12"
  },
  "orig_nbformat": 4,
  "vscode": {
   "interpreter": {
    "hash": "6da927ccafd6642d9ccb03b2d8170da6f0652bff5ba8036b751f41afd51c2042"
   }
  }
 },
 "nbformat": 4,
 "nbformat_minor": 2
}
