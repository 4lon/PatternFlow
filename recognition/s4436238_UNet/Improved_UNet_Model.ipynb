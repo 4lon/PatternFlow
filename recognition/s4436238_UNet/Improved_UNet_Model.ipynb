{
  "nbformat": 4,
  "nbformat_minor": 0,
  "metadata": {
    "colab": {
      "name": "Improved_UNet_Model.ipynb",
      "provenance": [],
      "collapsed_sections": [],
      "authorship_tag": "ABX9TyMy4HvBu1yBCo1SR3Ce97SC",
      "include_colab_link": true
    },
    "kernelspec": {
      "name": "python3",
      "display_name": "Python 3"
    },
    "language_info": {
      "name": "python"
    }
  },
  "cells": [
    {
      "cell_type": "markdown",
      "metadata": {
        "id": "view-in-github",
        "colab_type": "text"
      },
      "source": [
        "<a href=\"https://colab.research.google.com/github/mparker2103/PatternFlow/blob/topic-recognition/recognition/s4436238_UNet/Improved_UNet_Model.ipynb\" target=\"_parent\"><img src=\"https://colab.research.google.com/assets/colab-badge.svg\" alt=\"Open In Colab\"/></a>"
      ]
    },
    {
      "cell_type": "code",
      "metadata": {
        "id": "biTCJAeADZyv"
      },
      "source": [
        "import tensorflow as tf\n",
        "from tensorflow.keras.layers import Input, Conv2D, MaxPooling2D, LeakyReLU, BatchNormalization, Dense, Dropout, UpSampling2D, Reshape, concatenate, add\n",
        "from tensorflow.keras.models import Model\n",
        "from keras import backend as k"
      ],
      "execution_count": 5,
      "outputs": []
    },
    {
      "cell_type": "code",
      "metadata": {
        "id": "V-5jUwDu19sn"
      },
      "source": [
        "depth = 16\n",
        "n = 256\n",
        "batch_size = 20\n",
        "epochs = 20"
      ],
      "execution_count": 6,
      "outputs": []
    },
    {
      "cell_type": "code",
      "metadata": {
        "id": "6N6f21Zi3inR"
      },
      "source": [
        "# create the network\n",
        "def UNet():\n",
        "    Inputs = Input(shape=(n,n,3), name='Inputs')\n",
        "\n",
        "    # Downsample 1\n",
        "    DownConv1_0 = Conv2D(depth, (3,3), padding='same', activation='relu', name='DownConv1_0')(Inputs)\n",
        "    Batch1_0 = BatchNormalization(name='Batch1_0')(DownConv1_0)\n",
        "    Relu1_0 = LeakyReLU(alpha=0.01, name='Relu1_0')(Batch1_0)\n",
        "    Dropout1 = Dropout(0.3, name='Dropout1')(Relu1_0)\n",
        "    Batch1_1 = BatchNormalization(name='Batch1_1')(Dropout1)\n",
        "    Relu1_1 = LeakyReLU(alpha=0.01, name='Relu1_1')(Batch1_1)\n",
        "    DownConv1_1 = Conv2D(depth, (3,3), padding='same', activation='relu', name='DownConv1_1')(Relu1_1)\n",
        "    Pool1 = MaxPooling2D(pool_size=(2,2), name='Pool1')(DownConv1_1)\n",
        "    Add1 = add(name='Add1')([DownConv1_0, Pool1])\n",
        "\n",
        "    # Downsample 2\n",
        "    DownConv2_0 = Conv2D(depth*2, (3,3), padding='same', activation='relu', name='DownConv2_0')(Add1)\n",
        "    Batch2_0 = BatchNormalization(name='Batch2_0')(DownConv2_0)\n",
        "    Relu2_0 = LeakyReLU(alpha=0.01, name='Relu2_0')(Batch2_0)\n",
        "    Dropout2 = Dropout(0.3, name='Dropout2')(Relu2_0)\n",
        "    Batch2_1 = BatchNormalization(name='Batch2_1')(Dropout2)\n",
        "    Relu2_1 = LeakyReLU(alpha=0.01, name='Relu2_1')(Batch2_1)\n",
        "    DownConv2_1 = Conv2D(depth, (3,3), padding='same', activation='relu', name='DownConv2_1')(Relu2_1)\n",
        "    Pool2 = MaxPooling2D(pool_size=(2,2), name='Pool2')(DownConv2_1)\n",
        "    Add2 = add(name='Add2')([DownConv2_0, Pool2])\n",
        "\n",
        "    # Downsample 3\n",
        "    DownConv3_0 = Conv2D(depth*4, (3,3), padding='same', activation='relu', name='DownConv3_0')(Add2)\n",
        "    Batch3_0 = BatchNormalization(name='Batch3_0')(DownConv3_0)\n",
        "    Relu3_0 = LeakyReLU(alpha=0.01, name='Relu3_0')(Batch3_0)\n",
        "    Dropout3 = Dropout(0.3, name='Dropout3')(Relu3_0)\n",
        "    Batch3_1 = BatchNormalization(name='Batch3_1')(Dropout3)\n",
        "    Relu3_1 = LeakyReLU(alpha=0.01, name='Relu3_1')(Batch3_1)\n",
        "    DownConv3_1 = Conv2D(depth, (3,3), padding='same', activation='relu', name='DownConv3_1')(Relu3_1)\n",
        "    Pool3 = MaxPooling2D(pool_size=(2,2), name='Pool3')(DownConv3_1)\n",
        "    Add3 = add(name='Add3')([DownConv3_0, Pool3])\n",
        "\n",
        "    # Downsample 4\n",
        "    DownConv4_0 = Conv2D(depth*8, (3,3), padding='same', activation='relu', name='DownConv4_0')(Add3)\n",
        "    Batch4_0 = BatchNormalization(name='Batch4_0')(DownConv4_0)\n",
        "    Relu4_0 = LeakyReLU(alpha=0.01, name='Relu4_0')(Batch4_0)\n",
        "    Dropout4 = Dropout(0.3, name='Dropout4')(Relu4_0)\n",
        "    Batch4_1 = BatchNormalization(name='Batch4_1')(Dropout4)\n",
        "    Relu4_1 = LeakyReLU(alpha=0.01, name='Relu4_1')(Batch4_1)\n",
        "    DownConv4_1 = Conv2D(depth, (3,3), padding='same', activation='relu', name='DownConv4_1')(Relu4_1)\n",
        "    Pool4 = MaxPooling2D(pool_size=(2,2), name='Pool4')(DownConv4_1)\n",
        "    Add4 = add(name='Add4')([DownConv4_0, Pool4])\n",
        "\n",
        "    # Middle Layer\n",
        "    MidConv1 = Conv2D(depth*16, (3,3), padding='same', activation='relu', name='MidConv1')(Add4)\n",
        "    MidConv2 = Conv2D(depth*16, (3,3), padding='same', activation='relu', name='MidConv2')(MidConv1)\n",
        "\n",
        "    # Upsample 4\n",
        "    UpNet4 = UpSampling2D(size=(2,2), interpolation='bilinear', name='UpNet4')(MidConv2)\n",
        "    UpConv4 = Conv2D(depth*8, (3,3), padding='same', activation='relu', name='UpConv4')(UpNet4)\n",
        "    Batch4 = BatchNormalization(name='Batch4')(UpConv4)\n",
        "    Relu4 = LeakyReLU(alpha=0.01, name='Relu4')(Batch4)\n",
        "    Concat4 = concatenate([Relu4, DownConv4_1], axis=3, name='Concat4')\n",
        "\n",
        "    # Upsample 3\n",
        "    UpNet3 = UpSampling2D(size=(2,2), interpolation='bilinear', name='UpNet3')(Concat4)\n",
        "    UpConv3 = Conv2D(depth*4, (3,3), padding='same', activation='relu', name='UpConv3')(UpNet3)\n",
        "    Batch3 = BatchNormalization(name='Batch3')(UpConv3)\n",
        "    Relu3 = LeakyReLU(alpha=0.01, name='Relu3')(Batch3)\n",
        "    Concat3 = concatenate([Relu3, DownConv3_1], axis=3, name='Concat3')\n",
        "\n",
        "    # Upsample 2\n",
        "    UpNet2 = UpSampling2D(size=(2,2), interpolation='bilinear', name='UpNet2')(Concat3)\n",
        "    UpConv2 = Conv2D(depth*2, (3,3), padding='same', activation='relu', name='UpConv2')(UpNet2)\n",
        "    Batch2 = BatchNormalization(name='Batch2')(UpConv2)\n",
        "    Relu2 = LeakyReLU(alpha=0.01, name='Relu2')(Batch2)\n",
        "    Concat2 = concatenate([Relu2, DownConv2_1], axis=3, name='Concat2')\n",
        "\n",
        "    # Upsample 1\n",
        "    UpNet1 = UpSampling2D(size=(2,2), interpolation='bilinear', name='UpNet1')(Concat2)\n",
        "    UpConv1 = Conv2D(depth, (3,3), padding='same', activation='relu', name='UpConv1')(UpNet1)\n",
        "    Batch1 = BatchNormalization(name='Batch1')(UpConv1)\n",
        "    Relu1 = LeakyReLU(alpha=0.01, name='Relu1')(Batch1)\n",
        "    Concat1 = concatenate([Relu1, DownConv1_1], axis=3, name='Concat1')\n",
        "\n",
        "    # Reshape into two dimensions\n",
        "    dense = Dense(1, activation='softmax', name='Dense')(Concat1)\n",
        "    Outputs = Reshape(test.shape[1:], name='Outputs')(dense)\n",
        "\n",
        "    #Model\n",
        "    model = Model(Inputs, Outputs, name='UNet')\n",
        "    return model"
      ],
      "execution_count": 8,
      "outputs": []
    },
    {
      "cell_type": "code",
      "metadata": {
        "id": "dRryshsqNiU1"
      },
      "source": [
        "# Define dice coefficient metric\n",
        "def dice(y, y_pred):\n",
        "    y_flat = k.flatten(y)\n",
        "    y_pred_flat = k.flatten(y_pred) \n",
        "    \n",
        "    intersect = k.sum(y_flat * y_pred_flat)\n",
        "    sum = k.sum(k.square(y_flat)) + k.sum(k.square(y_pred_flat))\n",
        "    return (2 * intersect) / sum"
      ],
      "execution_count": 9,
      "outputs": []
    },
    {
      "cell_type": "code",
      "metadata": {
        "id": "vGfM8fwI3uxd"
      },
      "source": [
        ""
      ],
      "execution_count": null,
      "outputs": []
    }
  ]
}