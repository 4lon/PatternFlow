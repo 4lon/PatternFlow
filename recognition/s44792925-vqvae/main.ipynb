{
 "cells": [
  {
   "cell_type": "code",
   "execution_count": null,
   "source": [
    "from google.colab import drive\n",
    "import tensorflow as tf \n",
    "import numpy as np\n",
    "import os\n",
    "from model import encoder, decoder, vector_quant\n",
    "\n",
    "# load data code taken from demo 2\n",
    "\n",
    "MOUNTPOINT = '/content/gdrive'\n",
    "drive.mount(MOUNTPOINT)\n",
    "\n",
    "batch_size = 32\n",
    "img_height = 256\n",
    "img_width = 256\n",
    "\n",
    "train_dir = '/content/gdrive/My Drive/Colab Notebooks/keras_png_slices_data/keras_png_slices_train'\n",
    "val_dir = '/content/gdrive/My Drive/Colab Notebooks/keras_png_slices_data/keras_png_slices_validate'\n",
    "test_dir = '/content/gdrive/My Drive/Colab Notebooks/keras_png_slices_data/keras_png_slices_test'\n",
    "\n",
    "train_ds = tf.keras.preprocessing.image_dataset_from_directory(\n",
    "  train_dir,\n",
    "  seed=123,\n",
    "  image_size=(img_height, img_width),\n",
    "  labels=None,\n",
    "  color_mode='grayscale',\n",
    "  #subset='training',\n",
    "  #validation_split=0.3,\n",
    "  batch_size=batch_size)\n",
    "\n",
    "test_ds = tf.keras.preprocessing.image_dataset_from_directory(\n",
    "  test_dir,\n",
    "  seed=123,\n",
    "  image_size=(img_height, img_width),\n",
    "  labels=None,\n",
    "  color_mode='grayscale',\n",
    "  batch_size=batch_size)\n",
    "\n",
    "val_ds = tf.keras.preprocessing.image_dataset_from_directory(\n",
    "  val_dir,\n",
    "  seed=123,\n",
    "  image_size=(img_height, img_width),\n",
    "  labels=None,\n",
    "  color_mode='grayscale',\n",
    "  batch_size=batch_size)\n",
    "\n",
    "# normalize\n",
    "normalization_layer = tf.keras.layers.experimental.preprocessing.Rescaling(scale= 1./255)\n",
    "\n",
    "train_ds = train_ds.map(lambda x: normalization_layer(x))\n",
    "test_ds = test_ds.map(lambda x: normalization_layer(x))\n",
    "val_ds = val_ds.map(lambda x: normalization_layer(x))"
   ],
   "outputs": [],
   "metadata": {}
  },
  {
   "cell_type": "code",
   "execution_count": null,
   "source": [],
   "outputs": [],
   "metadata": {}
  }
 ],
 "metadata": {
  "orig_nbformat": 4,
  "language_info": {
   "name": "python"
  }
 },
 "nbformat": 4,
 "nbformat_minor": 2
}