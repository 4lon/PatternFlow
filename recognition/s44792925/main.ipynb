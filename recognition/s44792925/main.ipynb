{
 "cells": [
  {
   "cell_type": "code",
   "execution_count": null,
   "source": [
    "from google.colab import drive\n",
    "\n",
    "MOUNTPOINT = '/content/gdrive'\n",
    "drive.mount(MOUNTPOINT)"
   ],
   "outputs": [],
   "metadata": {}
  },
  {
   "cell_type": "code",
   "execution_count": null,
   "source": [
    "import pandas as pd\n",
    "import tensorflow as tf\n",
    "\n",
    "input_dataset = '/content/gdrive/My Drive/Colab Notebooks/datasets/ISIC_2019_Training_Input'\n",
    "output_dataset = '/content/gdrive/My Drive/Colab Notebooks/datasets/ISIC_2019_Trainiing_GroundTruth.csv'\n",
    "\n",
    "input_ds = tf.keras.utils.image_dataset_from_directory(directory=input_dataset, labels=None, shuffle=False, validation_subset=1)\n",
    "output_df = pd.read_csv(output_dataset, names=['MEL', 'NV', 'BCC', 'AK', 'BKL', 'DF', 'VASC', 'SCC', 'UNK'])"
   ],
   "outputs": [],
   "metadata": {}
  }
 ],
 "metadata": {
  "orig_nbformat": 4,
  "language_info": {
   "name": "python"
  }
 },
 "nbformat": 4,
 "nbformat_minor": 2
}