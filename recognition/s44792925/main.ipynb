{
 "cells": [
  {
   "cell_type": "code",
   "execution_count": null,
   "metadata": {},
   "outputs": [],
   "source": [
    "from google.colab import drive\n",
    "\n",
    "MOUNTPOINT = '/content/gdrive'\n",
    "drive.mount(MOUNTPOINT)"
   ]
  },
  {
   "cell_type": "code",
   "execution_count": null,
   "metadata": {},
   "outputs": [],
   "source": [
    "import pandas as pd\n",
    "import tensorflow as tf\n",
    "import numpy as np\n",
    "import glob\n",
    "import sklearn.model_selection\n",
    "\n",
    "input_dataset = '/content/gdrive/My Drive/Colab Notebooks/datasets/ISIC2018_Task1-2_Training_Data/ISIC2018_Task1-2_Training_Input_x2/*.jpg'\n",
    "output_dataset = '/content/gdrive/My Drive/Colab Notebooks/datasets/ISIC2018_Task1-2_Training_Data/ISIC2018_Task1_Training_GroundTruth_x2/*.png'\n",
    "\n",
    "input = sorted(glob.glob(input_dataset))\n",
    "output = sorted(glob.glob(output_dataset))\n",
    "\n",
    "x_train, x_test, y_train, y_test = sklearn.model_selection.train_test_split(input, output, test_size=0.1) #potentially should lower test size\n",
    "x_train, x_val, y_train, y_val = sklearn.model_selection.train_test_split(x_train, y_train, test_size=0.111) \n",
    "\n",
    "train_ds = tf.data.Dataset.from_tensor_slices((x_train, y_train))\n",
    "test_ds = tf.data.Dataset.from_tensor_slices((x_test, y_test))\n",
    "val_ds = tf.data.Dataset.from_tensor_slices((x_val, y_val))\n",
    "\n",
    "train_ds = train_ds.shuffle(len(x_train))\n",
    "test_ds = test_ds.shuffle(len(x_test))\n",
    "val_ds = val_ds.shuffle(len(x_val))\n",
    "\n",
    "\n",
    "def process(input_path, output_path):\n",
    "  img = tf.image.decode_jpeg(tf.io.read_file(input_path), channels=3)\n",
    "  img = tf.image.resize(img, [256,256])\n",
    "  img = tf.cast(img, tf.float32) / 255 #normalize\n",
    "  img = tf.reshape(img, (-1, 256, 256, 3)) # resize\n",
    "\n",
    "  mask = tf.image.decode_png(tf.io.read_file(output_path), channels=1)\n",
    "  mask = tf.image.resize(mask, [256,256])\n",
    "  mask = tf.math.round(tf.cast(mask, tf.float32) / 255)\n",
    "  mask = tf.reshape(mask, (-1, 256, 256, 1))\n",
    "\n",
    "  return img, mask\n",
    "\n",
    "train_ds = train_ds.map(process)\n",
    "test_ds = test_ds.map(process)\n",
    "val_ds = val_ds.map(process)\n",
    "\n",
    "#y_test is empty for some reason"
   ]
  },
  {
   "cell_type": "code",
   "execution_count": null,
   "metadata": {},
   "outputs": [],
   "source": [
    "# If you are using Google Colab -> copy paste contents of model.py into here OR upload model.py into Google Drive\n",
    "# If you are using local PC -> import model "
   ]
  },
  {
   "cell_type": "code",
   "execution_count": null,
   "metadata": {},
   "outputs": [],
   "source": [
    "height = 256\n",
    "width = 256\n",
    "channels = 3\n",
    "\n",
    "def dice_coefficient(y_pred, y_test):\n",
    "    flat_pred = tf.keras.backend.flatten(y_pred)\n",
    "    flat_test = tf.keras.backend.flatten(y_test)\n",
    "    return 2 * tf.keras.backend.sum(flat_pred * flat_test) / (tf.keras.backend.sum(flat_pred) + tf.keras.backend.sum(flat_test)) #2 * intersection / union\n",
    "\n",
    "def dice_coefficient_loss(y_pred, y_test):\n",
    "    return 1 - dice_coefficient(y_pred, y_test)\n",
    "\n",
    "unet = model(height, width, channels)\n",
    "unet.compile(optimizer=tf.keras.optimizers.Adam(learning_rate = 5*(10**-4)), loss=['binary_crossentropy'], metrics=[\"accuracy\", dice_coefficient])\n",
    "unet.summary()\n",
    "\n",
    "history =  unet.fit(train_ds, validation_data=val_ds, batch_size=256, epochs=20)\n"
   ]
  },
  {
   "cell_type": "code",
   "execution_count": null,
   "metadata": {},
   "outputs": [],
   "source": [
    "#calc dice coefficient between predict_test and test_y\n",
    "\n",
    "total = 0\n",
    "\n",
    "for img, mask in test_ds:\n",
    "  pred = unet.predict(img)\n",
    "  total += dice_coefficient(pred, mask)\n",
    "\n",
    "dice_coefficient = total / len(predict_test)\n",
    "\n",
    "# Dice coefficient: \n",
    "tf.print(dice_coefficient, summarize=-1)\n"
   ]
  },
  {
   "cell_type": "code",
   "execution_count": null,
   "metadata": {},
   "outputs": [],
   "source": [
    "# plot loss function and accuracy"
   ]
  }
 ],
 "metadata": {
  "interpreter": {
   "hash": "1ee38ef4a5a9feb55287fd749643f13d043cb0a7addaab2a9c224cbe137c0062"
  },
  "kernelspec": {
   "display_name": "Python 3.8.3 64-bit",
   "name": "python3"
  },
  "language_info": {
   "codemirror_mode": {
    "name": "ipython",
    "version": 3
   },
   "file_extension": ".py",
   "mimetype": "text/x-python",
   "name": "python",
   "nbconvert_exporter": "python",
   "pygments_lexer": "ipython3",
   "version": "3.8.3"
  },
  "orig_nbformat": 4
 },
 "nbformat": 4,
 "nbformat_minor": 2
}
