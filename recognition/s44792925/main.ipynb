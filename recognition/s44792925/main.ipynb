{
 "cells": [
  {
   "cell_type": "code",
   "execution_count": null,
   "source": [
    "from google.colab import drive\n",
    "\n",
    "MOUNTPOINT = '/content/gdrive'\n",
    "drive.mount(MOUNTPOINT)"
   ],
   "outputs": [],
   "metadata": {}
  },
  {
   "cell_type": "code",
   "execution_count": null,
   "source": [
    "import pandas as pd\n",
    "import tensorflow as tf\n",
    "\n",
    "input_dataset = '/content/gdrive/My Drive/Colab Notebooks/datasets/ISIC_2019_Training_Input'\n",
    "output_dataset = '/content/gdrive/My Drive/Colab Notebooks/datasets/ISIC_2019_Training_GroundTruth.csv'\n",
    "\n",
    "train_x = tf.keras.utils.image_dataset_from_directory(directory=input_dataset, labels=None, shuffle=False, image_size=(256,256))\n",
    "\n",
    "val_x = train_x.take(3800)\n",
    "train_x = train_x.skip(3800)\n",
    "test_x = train_x.take(3800)\n",
    "train_x = train_x.skip(3800)\n",
    "\n",
    "features = ['MEL', 'NV', 'BCC', 'AK', 'BKL', 'DF', 'VASC', 'SCC', 'UNK']\n",
    "\n",
    "train_y = pd.read_csv(output_dataset, names=features)\n",
    "train_y = tf.data.Dataset.from_tensor_slices(tf.cast(train_y[features].values, tf.int32))\n",
    "\n",
    "assert len(train_y) == len(val_x) + len(train_x) + len(test_x)\n",
    "\n",
    "val_y = train_y.take(3800)\n",
    "train_y = train_y.skip(3800)\n",
    "test_y = train_y.take(3800)\n",
    "train_y = train_y.skip(3800)\n"
   ],
   "outputs": [],
   "metadata": {}
  },
  {
   "cell_type": "code",
   "execution_count": null,
   "source": [],
   "outputs": [],
   "metadata": {}
  },
  {
   "cell_type": "code",
   "execution_count": null,
   "source": [
    "height = 256\n",
    "width = 256\n",
    "channels = 3\n",
    "\n",
    "model = model(height, width, channels)\n",
    "history =  model.fit(train_x, train_y, validation_data =(val_x, val_y), batch_size = 16, epochs=10)\n",
    "predict_test = model.predict(test_x)"
   ],
   "outputs": [],
   "metadata": {}
  }
 ],
 "metadata": {
  "orig_nbformat": 4,
  "language_info": {
   "name": "python"
  }
 },
 "nbformat": 4,
 "nbformat_minor": 2
}