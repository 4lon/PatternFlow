{
 "cells": [
  {
   "cell_type": "code",
   "execution_count": null,
   "source": [
    "from google.colab import drive\n",
    "\n",
    "MOUNTPOINT = '/content/gdrive'\n",
    "drive.mount(MOUNTPOINT)"
   ],
   "outputs": [],
   "metadata": {}
  },
  {
   "cell_type": "code",
   "execution_count": null,
   "source": [
    "import pandas as pd\n",
    "import tensorflow as tf\n",
    "import numpy as np\n",
    "\n",
    "input_dataset = '/content/gdrive/My Drive/Colab Notebooks/datasets/'\n",
    "output_dataset = '/content/gdrive/My Drive/Colab Notebooks/datasets/ISIC_2019_Training_GroundTruth.csv'\n",
    "\n",
    "train_x = tf.keras.utils.image_dataset_from_directory(directory=input_dataset, labels=None, shuffle=False, image_size=(256,256))\n",
    "\n",
    "# 15% test and val split with 70% train\n",
    "val_x = train_x.take(3799)\n",
    "train_x = train_x.skip(3799)\n",
    "test_x = train_x.take(3799)\n",
    "train_x = train_x.skip(3799)\n",
    "\n",
    "features = ['MEL', 'NV', 'BCC', 'AK', 'BKL', 'DF', 'VASC', 'SCC', 'UNK']\n",
    "\n",
    "\n",
    "df = pd.read_csv(output_dataset)\n",
    "val_y, test_y, train_y = np.split(df.sample(frac=1), [int(.15*len(df)), int(.30*len(df))])\n",
    "\n",
    "\n",
    "\n",
    "# train_y = tf.data.Dataset.from_tensor_slices(tf.cast(train_y[features].values, tf.int32))\n",
    "\n",
    "\n",
    "# need to convert y data to tf.dataset and then zip them together\n",
    "train_ds = tf.data.Dataset.zip((train_x , train_y))\n",
    "val_ds = tf.data.Dataset.zip((val_x , val_y))\n",
    "test_ds = tf.data.Dataset.zip((test_x , test_y))\n"
   ],
   "outputs": [],
   "metadata": {}
  },
  {
   "cell_type": "code",
   "execution_count": null,
   "source": [],
   "outputs": [],
   "metadata": {}
  },
  {
   "cell_type": "code",
   "execution_count": null,
   "source": [
    "height = 256\n",
    "width = 256\n",
    "channels = 3\n",
    "\n",
    "model = model(height, width, channels)\n",
    "history =  model.fit(train_ds, validation_data=val_ds, batch_size = 16, epochs=10)\n",
    "\n",
    "#but what about this ds????\n",
    "predict_test = model.predict(test_x)"
   ],
   "outputs": [],
   "metadata": {}
  }
 ],
 "metadata": {
  "orig_nbformat": 4,
  "language_info": {
   "name": "python"
  }
 },
 "nbformat": 4,
 "nbformat_minor": 2
}