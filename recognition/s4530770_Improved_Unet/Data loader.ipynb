{
 "cells": [
  {
   "cell_type": "code",
   "execution_count": 1,
   "id": "d6a50372",
   "metadata": {},
   "outputs": [
    {
     "name": "stdout",
     "output_type": "stream",
     "text": [
      "b'ISIC2018_Task1-2_Training_Data\\\\ISIC2018_Task1-2_Training_Input_x2\\\\ISIC_0000000.jpg'\n",
      "b'ISIC2018_Task1-2_Training_Data\\\\ISIC2018_Task1-2_Training_Input_x2\\\\ISIC_0000001.jpg'\n",
      "b'ISIC2018_Task1-2_Training_Data\\\\ISIC2018_Task1-2_Training_Input_x2\\\\ISIC_0000003.jpg'\n",
      "b'ISIC2018_Task1-2_Training_Data\\\\ISIC2018_Task1-2_Training_Input_x2\\\\ISIC_0000004.jpg'\n",
      "b'ISIC2018_Task1-2_Training_Data\\\\ISIC2018_Task1-2_Training_Input_x2\\\\ISIC_0000006.jpg'\n"
     ]
    }
   ],
   "source": [
    "import tensorflow as tf\n",
    "\n",
    "data_dir = \"ISIC2018_Task1-2_Training_Data\\\\\"\n",
    "batch_size = 32\n",
    "\n",
    "list_ds = tf.data.Dataset.list_files(data_dir + \"ISIC2018_Task1-2_Training_Input_x2\\\\*.jpg\", shuffle=False)\n",
    "for f in list_ds.take(5):\n",
    "    print(f.numpy())"
   ]
  },
  {
   "cell_type": "code",
   "execution_count": 2,
   "id": "41a87ce2",
   "metadata": {},
   "outputs": [
    {
     "name": "stdout",
     "output_type": "stream",
     "text": [
      "1817\n",
      "518\n",
      "259\n"
     ]
    }
   ],
   "source": [
    "import pathlib\n",
    "\n",
    "data_dir = pathlib.Path(data_dir)\n",
    "image_count = len(list(data_dir.glob('ISIC2018_Task1-2_Training_Input_x2\\\\*.jpg')))\n",
    "\n",
    "# Validation size: 0.2, Test size: 0.1\n",
    "val_size = int(image_count * 0.2)\n",
    "test_size = int(image_count * 0.1)\n",
    "train_ds = list_ds.skip(val_size)\n",
    "val_ds = list_ds.take(val_size)\n",
    "test_ds = train_ds.take(test_size)\n",
    "train_ds = train_ds.skip(test_size)\n",
    "\n",
    "print(tf.data.experimental.cardinality(train_ds).numpy())\n",
    "print(tf.data.experimental.cardinality(val_ds).numpy())\n",
    "print(tf.data.experimental.cardinality(test_ds).numpy())"
   ]
  },
  {
   "cell_type": "code",
   "execution_count": 3,
   "id": "ae936fb2",
   "metadata": {},
   "outputs": [],
   "source": [
    "import os\n",
    "\n",
    "# Process Dataset\n",
    "AUTOTUNE = tf.data.AUTOTUNE\n",
    "\n",
    "def get_mask(file_path):\n",
    "    parts = tf.strings.split(file_path, os.path.sep)\n",
    "    file_name = tf.strings.split(parts[-1], '.')[0]\n",
    "    file_name = file_name + '_segmentation.png'\n",
    "    return 'ISIC2018_Task1-2_Training_Data\\\\ISIC2018_Task1_Training_GroundTruth_x2\\\\'+file_name\n",
    "    \n",
    "def process_path(file_path):\n",
    "    # Output raw image data from file paths\n",
    "    img = tf.io.decode_jpeg(tf.io.read_file(file_path))\n",
    "    mask = tf.io.decode_png(tf.io.read_file(get_mask(file_path)))\n",
    "    return img, mask\n",
    "\n",
    "train_ds = train_ds.map(process_path, num_parallel_calls=AUTOTUNE)\n",
    "val_ds = val_ds.map(process_path, num_parallel_calls=AUTOTUNE)\n",
    "test_ds = test_ds.map(process_path, num_parallel_calls=AUTOTUNE)"
   ]
  },
  {
   "cell_type": "code",
   "execution_count": 4,
   "id": "82292cd6",
   "metadata": {},
   "outputs": [
    {
     "name": "stdout",
     "output_type": "stream",
     "text": [
      "(384, 512, 3)\n",
      "(384, 512, 1)\n"
     ]
    }
   ],
   "source": [
    "import matplotlib.pyplot as plt\n",
    "\n",
    "for img, mask in train_ds.take(1):\n",
    "    print(img.numpy().shape)\n",
    "    print(mask.numpy().shape)"
   ]
  },
  {
   "cell_type": "code",
   "execution_count": null,
   "id": "6d4622e4",
   "metadata": {},
   "outputs": [],
   "source": [
    "def configure_for_performance(ds):\n",
    "    ds = ds.cache()\n",
    "    ds = ds.shuffle(buffer_size=1000)\n",
    "    #ds = ds.unbatch()\n",
    "    ds = ds.batch(32)\n",
    "    ds = ds.prefetch(buffer_size=AUTOTUNE)\n",
    "    return ds\n",
    "\n",
    "train_ds = configure_for_performance(train_ds)\n",
    "val_ds = configure_for_performance(val_ds)\n",
    "test_ds = configure_for_performance(test_ds)"
   ]
  },
  {
   "cell_type": "code",
   "execution_count": 6,
   "id": "f6f1959b",
   "metadata": {},
   "outputs": [
    {
     "name": "stdout",
     "output_type": "stream",
     "text": [
      "(32, 1504, 3)\n",
      "(32, 1504, 1)\n"
     ]
    }
   ],
   "source": [
    "for img, mask in train_ds.take(1):\n",
    "    print(img.numpy().shape)\n",
    "    print(mask.numpy().shape)"
   ]
  },
  {
   "cell_type": "code",
   "execution_count": null,
   "id": "dc6185e0",
   "metadata": {},
   "outputs": [],
   "source": [
    "image_batch, label_batch = next(iter(train_ds))\n",
    "\n",
    "plt.figure(figsize=(10, 10))\n",
    "for i in [1,3,5]:\n",
    "    ax = plt.subplot(3, 2, i)\n",
    "    plt.imshow(image_batch[i].numpy().astype(\"uint8\"))\n",
    "    plt.axis(\"off\")\n",
    "    ax = plt.subplot(3, 2, i + 1)\n",
    "    plt.imshow(image_batch[i].numpy().astype(\"uint8\"))\n",
    "    plt.axis(\"off\")"
   ]
  }
 ],
 "metadata": {
  "kernelspec": {
   "display_name": "Python 3",
   "language": "python",
   "name": "python3"
  },
  "language_info": {
   "codemirror_mode": {
    "name": "ipython",
    "version": 3
   },
   "file_extension": ".py",
   "mimetype": "text/x-python",
   "name": "python",
   "nbconvert_exporter": "python",
   "pygments_lexer": "ipython3",
   "version": "3.9.6"
  }
 },
 "nbformat": 4,
 "nbformat_minor": 5
}
