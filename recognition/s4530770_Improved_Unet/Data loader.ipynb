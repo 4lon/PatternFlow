{
 "cells": [
  {
   "cell_type": "code",
   "execution_count": 5,
   "id": "d6a50372",
   "metadata": {},
   "outputs": [
    {
     "name": "stdout",
     "output_type": "stream",
     "text": [
      "b'ISIC2018_Task1-2_Training_Data\\\\ISIC2018_Task1-2_Training_Input_x2\\\\ATTRIBUTION.txt'\n",
      "b'ISIC2018_Task1-2_Training_Data\\\\ISIC2018_Task1-2_Training_Input_x2\\\\ISIC_0000000.jpg'\n",
      "b'ISIC2018_Task1-2_Training_Data\\\\ISIC2018_Task1-2_Training_Input_x2\\\\ISIC_0000001.jpg'\n",
      "b'ISIC2018_Task1-2_Training_Data\\\\ISIC2018_Task1-2_Training_Input_x2\\\\ISIC_0000003.jpg'\n",
      "b'ISIC2018_Task1-2_Training_Data\\\\ISIC2018_Task1-2_Training_Input_x2\\\\ISIC_0000004.jpg'\n"
     ]
    }
   ],
   "source": [
    "import tensorflow as tf\n",
    "\n",
    "data_dir = \"ISIC2018_Task1-2_Training_Data\\\\\"\n",
    "batch_size = 32\n",
    "\n",
    "list_ds = tf.data.Dataset.list_files(data_dir + \"ISIC2018_Task1-2_Training_Input_x2\\\\*.jpg\", shuffle=False)\n",
    "for f in list_ds.take(5):\n",
    "    print(f.numpy())"
   ]
  },
  {
   "cell_type": "code",
   "execution_count": 13,
   "id": "41a87ce2",
   "metadata": {},
   "outputs": [
    {
     "name": "stdout",
     "output_type": "stream",
     "text": [
      "1819\n",
      "518\n",
      "259\n"
     ]
    }
   ],
   "source": [
    "import pathlib\n",
    "\n",
    "data_dir = pathlib.Path(data_dir)\n",
    "image_count = len(list(data_dir.glob('ISIC2018_Task1-2_Training_Input_x2\\\\*.jpg')))\n",
    "\n",
    "# Validation size: 0.2, Test size: 0.1\n",
    "val_size = int(image_count * 0.2)\n",
    "test_size = int(image_count * 0.1)\n",
    "train_ds = list_ds.skip(val_size)\n",
    "val_ds = list_ds.take(val_size)\n",
    "test_ds = train_ds.take(test_size)\n",
    "train_ds = train_ds.skip(test_size)\n",
    "\n",
    "print(tf.data.experimental.cardinality(train_ds).numpy())\n",
    "print(tf.data.experimental.cardinality(val_ds).numpy())\n",
    "print(tf.data.experimental.cardinality(test_ds).numpy())"
   ]
  },
  {
   "cell_type": "code",
   "execution_count": 16,
   "id": "ae936fb2",
   "metadata": {},
   "outputs": [],
   "source": [
    "import os\n",
    "\n",
    "# Process Dataset\n",
    "\n",
    "def get_mask(file_path):\n",
    "    parts = tf.strings.split(file_path, os.path.sep)\n",
    "    file_name = tf.strings.split(parts[-1], '.')[0]\n",
    "    file_name = file_name + '_segmentation.png'\n",
    "    return 'ISIC2018_Task1-2_Training_Data\\\\ISIC2018_Task1_Training_GroundTruth_x2\\\\'+file_name\n",
    "    \n",
    "    "
   ]
  },
  {
   "cell_type": "code",
   "execution_count": 28,
   "id": "4abae9ce",
   "metadata": {},
   "outputs": [
    {
     "name": "stdout",
     "output_type": "stream",
     "text": [
      "tf.Tensor(b'ISIC2018_Task1-2_Training_Data\\\\ISIC2018_Task1_Training_GroundTruth_x2\\\\ISIC_0010053_segmentation.png', shape=(), dtype=string)\n"
     ]
    }
   ],
   "source": [
    "path = list(train_ds.take(1).as_numpy_iterator())[0]\n",
    "print(get_mask(path))"
   ]
  }
 ],
 "metadata": {
  "kernelspec": {
   "display_name": "Python 3",
   "language": "python",
   "name": "python3"
  },
  "language_info": {
   "codemirror_mode": {
    "name": "ipython",
    "version": 3
   },
   "file_extension": ".py",
   "mimetype": "text/x-python",
   "name": "python",
   "nbconvert_exporter": "python",
   "pygments_lexer": "ipython3",
   "version": "3.9.6"
  }
 },
 "nbformat": 4,
 "nbformat_minor": 5
}
