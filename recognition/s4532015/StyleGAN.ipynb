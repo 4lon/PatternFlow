{
 "cells": [
  {
   "cell_type": "markdown",
   "metadata": {},
   "source": [
    "Style GAN"
   ]
  },
  {
   "cell_type": "code",
   "execution_count": 20,
   "metadata": {},
   "outputs": [],
   "source": [
    "#import stuff\n",
    "import tensorflow as tf\n",
    "from tensorflow import keras\n",
    "from tensorflow.keras.layers import Dense, Flatten, Conv2D, LeakyReLU, AveragePooling2D, Add, Input, InputSpec, UpSampling2D, Activation, Lambda, Reshape\n",
    "from tensorflow.keras.models import Model\n",
    "from tensorflow.keras.initializers import VarianceScaling\n",
    "from tensorflow.keras import initializers, regularizers, constraints\n",
    "from tensorflow.keras import backend as K\n",
    "from tensorflow.python.keras.utils import conv_utils\n",
    "import matplotlib.pyplot as plt\n",
    "import numpy as np"
   ]
  },
  {
   "cell_type": "markdown",
   "metadata": {},
   "source": [
    "Parameters"
   ]
  },
  {
   "cell_type": "code",
   "execution_count": 21,
   "metadata": {},
   "outputs": [],
   "source": [
    "batch_size = 6\n",
    "depth = 16          #filters\n",
    "latent_size = 64    #size of input vector z\n",
    "im_size = 32        #final image size\n",
    "n_layers = 8        #no. layers in the synthesis network"
   ]
  },
  {
   "cell_type": "markdown",
   "metadata": {},
   "source": [
    "Load and process the data"
   ]
  },
  {
   "cell_type": "code",
   "execution_count": 22,
   "metadata": {},
   "outputs": [
    {
     "data": {
      "text/plain": [
       "\" #load raw data\\nraw_ds = tf.keras.preprocessing.image_dataset_from_directory('D:\\\\Datasets\\\\keras_png_slices_data\\\\keras_png_slices_train', labels=None, color_mode='grayscale', batch_size=batch_size)\\nprint(raw_ds)\\n\\n#check range of values in raw data\\nimage_batch = next(iter(raw_ds))\\nfirst_image = image_batch[0]\\nprint(np.min(first_image), np.max(first_image))\\n\\n#normalise the data\\nnormalization_layer = tf.keras.layers.experimental.preprocessing.Rescaling(1./127.5, offset=-1)\\nnorm_ds = raw_ds.map(lambda img: (normalization_layer(img)))\\n\\n#check range of values in raw data\\nimage_batch = next(iter(norm_ds))\\nfirst_image = image_batch[0]\\nprint(np.min(first_image), np.max(first_image))\\n \""
      ]
     },
     "execution_count": 22,
     "metadata": {},
     "output_type": "execute_result"
    }
   ],
   "source": [
    "\"\"\" #load raw data\n",
    "raw_ds = tf.keras.preprocessing.image_dataset_from_directory('D:\\Datasets\\keras_png_slices_data\\keras_png_slices_train', labels=None, color_mode='grayscale', batch_size=batch_size)\n",
    "print(raw_ds)\n",
    "\n",
    "#check range of values in raw data\n",
    "image_batch = next(iter(raw_ds))\n",
    "first_image = image_batch[0]\n",
    "print(np.min(first_image), np.max(first_image))\n",
    "\n",
    "#normalise the data\n",
    "normalization_layer = tf.keras.layers.experimental.preprocessing.Rescaling(1./127.5, offset=-1)\n",
    "norm_ds = raw_ds.map(lambda img: (normalization_layer(img)))\n",
    "\n",
    "#check range of values in raw data\n",
    "image_batch = next(iter(norm_ds))\n",
    "first_image = image_batch[0]\n",
    "print(np.min(first_image), np.max(first_image))\n",
    " \"\"\""
   ]
  },
  {
   "cell_type": "code",
   "execution_count": 23,
   "metadata": {},
   "outputs": [
    {
     "data": {
      "text/plain": [
       "' #visualise raw data\\nfor images in raw_ds.take(1):\\n    plt.imshow(images[0].numpy().astype(\"float32\"), cmap=\\'gray\\')\\n    plt.show() '"
      ]
     },
     "execution_count": 23,
     "metadata": {},
     "output_type": "execute_result"
    }
   ],
   "source": [
    "\"\"\" #visualise raw data\n",
    "for images in raw_ds.take(1):\n",
    "    plt.imshow(images[0].numpy().astype(\"float32\"), cmap='gray')\n",
    "    plt.show() \"\"\""
   ]
  },
  {
   "cell_type": "code",
   "execution_count": 24,
   "metadata": {},
   "outputs": [
    {
     "data": {
      "text/plain": [
       "' #visualise norm data\\nfor images in norm_ds.take(1):\\n    plt.imshow(images[0].numpy().astype(\"float32\"), cmap=\\'gray\\')\\n    plt.show() '"
      ]
     },
     "execution_count": 24,
     "metadata": {},
     "output_type": "execute_result"
    }
   ],
   "source": [
    "\"\"\" #visualise norm data\n",
    "for images in norm_ds.take(1):\n",
    "    plt.imshow(images[0].numpy().astype(\"float32\"), cmap='gray')\n",
    "    plt.show() \"\"\""
   ]
  },
  {
   "cell_type": "markdown",
   "metadata": {},
   "source": [
    "Networks"
   ]
  },
  {
   "cell_type": "code",
   "execution_count": 25,
   "metadata": {},
   "outputs": [],
   "source": [
    "#Conv2DMod layer\n",
    "#https://github.com/manicman1999/StyleGAN2-Tensorflow-2.0/blob/989306792ca49dcbebb353c4f06c7b48aeb3a9e3/conv_mod.py#L15\n",
    "\n",
    "class ModConv2D (keras.layers.Layer):\n",
    "    def __init__(self, filters, kernel_size, strides=(1,1), padding = 'valid', kernel_initializer='glorot_uniform', \n",
    "                    kernel_regularizer=None, activity_regularizer=None, kernel_constraint=None, demod = True, **kwargs):\n",
    "        #define all the parameters of the layer\n",
    "        super(ModConv2D, self).__init__(**kwargs)\n",
    "        self.filters = filters\n",
    "        self.rank = 2\n",
    "        self.kernel_size= conv_utils.normalize_tuple(kernel_size, 2, 'kernel_size')\n",
    "        self.strides = conv_utils.normalize_tuple(strides, 2, 'strides')\n",
    "        self.padding = conv_utils.normalize_padding(padding)\n",
    "        #?\n",
    "        self.kernel_initializer = initializers.get(kernel_initializer)\n",
    "        self.kernel_regularizer = regularizers.get(kernel_regularizer)\n",
    "        self.activity_regularizer = regularizers.get(activity_regularizer)\n",
    "        self.kernel_constraint = constraints.get(kernel_constraint)\n",
    "        #?\n",
    "        self.demod = demod\n",
    "\n",
    "        #input with ndim=4 is previous convolution layer\n",
    "        #input with ndim=2 is the input style for this layer (output from style generator)\n",
    "        self.Input_spec = [InputSpec(ndim=4), InputSpec(ndim=2)]\n",
    "\n",
    "\n",
    "    def build(self, input_shape):\n",
    "        #define weights after shape of input is known\n",
    "        channel_axis = -1\n",
    "        input_dim = input_shape[0][channel_axis] #should be 1 for this dataset since it's only grayscale images being sent through the system\n",
    "        kernel_shape = self.kernel_size + (input_dim, self.filters)\n",
    "\n",
    "        self.kernel = self.add_weight(shape=kernel_shape, initializer=self.kernel_initializer, name='kernel', \n",
    "                                        regularizer=self.kernel_regularizer, constraint=self.kernel_constraint)\n",
    "\n",
    "        #input specifications\n",
    "        #input_shape[0] is the output of the previous layer\n",
    "        #input_shape[1] is the style\n",
    "        self.input_spec = [InputSpec(ndim=4, axes={channel_axis: input_dim}), InputSpec(ndim=2)]\n",
    "\n",
    "        self.built = True\n",
    "\n",
    "\n",
    "    def call(self, inputs):\n",
    "        #execute the code when the layer is used\n",
    "            #modulation stuff\n",
    "        style = inputs[1]\n",
    "        #print(\"style shape:\", style.shape)\n",
    "        #print(\"kernel shape:\", self.kernel.shape)\n",
    "\n",
    "        #make the input style W shape compatible with kernel\n",
    "        inp_mods = K.expand_dims(K.expand_dims(K.expand_dims(style, axis = 1), axis = 1), axis = -1)\n",
    "        my_kernel = K.expand_dims(self.kernel, axis=0)\n",
    "\n",
    "        #modulate\n",
    "        #print(\"kernel\", (int)(tf.rank(my_kernel)), my_kernel.shape)\n",
    "        #print(\"kernel shape:\", my_kernel.shape)\n",
    "        #print(\"input style\", (int)(tf.rank(inp_mods)), inp_mods.shape)\n",
    "        #print(\"input style shape:\", inp_mods.shape)\n",
    "        weights = my_kernel * (inp_mods + 1)\n",
    "        #weights = 0\n",
    "\n",
    "        #demodulate\n",
    "        if self.demod:\n",
    "            weights /= K.sqrt(K.sum(K.square(weights), axis=[1,2,3], keepdims = True) + 1e-8)\n",
    "        \n",
    "        x = tf.transpose(inputs[0], [0,3,1,2])\n",
    "        x = tf.reshape(x, [1, -1, x.shape[2], x.shape[3]])\n",
    "\n",
    "        w = tf.transpose(weights, [1,2,3,0,4])\n",
    "        w = tf.reshape(w, [weights.shape[1], weights.shape[2], weights.shape[3], -1])\n",
    "\n",
    "        #normal convolution 2d\n",
    "        #data is stored in [batch_size, channels, height, width]\n",
    "        x = tf.nn.conv2d(x, w, strides=self.strides, padding='SAME', data_format='NCHW')\n",
    "\n",
    "        #print(x.shape)\n",
    "\n",
    "        x = tf.reshape(x, [-1, self.filters, tf.shape(x)[2], tf.shape(x)[3]]) # Fused => reshape convolution groups back to minibatch.\n",
    "        x = tf.transpose(x, [0, 2, 3, 1])\n",
    "\n",
    "        return x"
   ]
  },
  {
   "cell_type": "code",
   "execution_count": 26,
   "metadata": {},
   "outputs": [],
   "source": [
    "#define generator\n",
    "#mapping network\n",
    "    #for taking an image (style) and converting it to latent space to use in the weights of the synthesis network\n",
    "#synthesis network\n",
    "    #network used to generate images using input style and noise\n",
    "    #skip connections\n",
    "\n",
    "#https://github.com/manicman1999/StyleGAN2-Tensorflow-2.0/blob/master/stylegan_two.py\n",
    "\n",
    "def noise(n):\n",
    "    return np.random.normal(0.0, 1.0, size = [n, latent_size]).astype('float32')\n",
    "\n",
    "def noiseList(n):\n",
    "    return [noise(n)] * n_layers\n",
    "\n",
    "def crop_to_fit(x):\n",
    "    #makes sure that x[0] has the same dimensions as x[1]\n",
    "    height = x[1].shape[1]\n",
    "    width = x[1].shape[2]\n",
    "\n",
    "    return x[0][:, :height, :width, :]\n",
    "\n",
    "def make_output_size(s1=4, s2=im_size):\n",
    "    ss = int(s2 / s1)\n",
    "    #print(ss)\n",
    "    def upsample_to_size(x, y = ss):\n",
    "        x = K.resize_images(x, y, y, \"channels_last\", interpolation='bilinear')\n",
    "        #print(x.shape)\n",
    "        return x\n",
    "    return upsample_to_size\n",
    "\n",
    "def to_output(inputs, style):\n",
    "    #want to do a ModConv2D on input with styles like norma;\n",
    "    size = inputs.shape[2]\n",
    "    print(inputs.shape, size)\n",
    "    x = ModConv2D(1, 1, kernel_initializer=VarianceScaling(200/size), demod=False)([inputs, style])\n",
    "    #upsample image to be (None, im_size, im_size, None)\n",
    "    print(x.shape)\n",
    "    return Lambda(make_output_size(size, im_size), output_shape=[None, im_size, im_size, None])(x)\n",
    "\n",
    "def make_style_generator():\n",
    "    #standard deep NN\n",
    "    model = tf.keras.Sequential()\n",
    "    model.add(Dense(512, input_shape=[latent_size]))\n",
    "    model.add(LeakyReLU(0.2))\n",
    "    model.add(Dense(512))\n",
    "    model.add(LeakyReLU(0.2))\n",
    "    model.add(Dense(512))\n",
    "    model.add(LeakyReLU(0.2))\n",
    "    model.add(Dense(512))\n",
    "    model.add(LeakyReLU(0.2))\n",
    "\n",
    "    return model\n",
    "\n",
    "def g_block(inputs, input_style, input_noise, filters, upsampling=True):\n",
    "\n",
    "    #optional upsampling\n",
    "    if upsampling:\n",
    "        out = UpSampling2D(interpolation='bilinear')(inputs)\n",
    "    else:\n",
    "        out = Activation('linear')(inputs)\n",
    "\n",
    "    #residual\n",
    "    out_style = Dense(filters, kernel_initializer = VarianceScaling(200/out.shape[2]))(input_style)\n",
    "\n",
    "    #main block\n",
    "    #style stuff\n",
    "    style = Dense(inputs.shape[-1], kernel_initializer = 'he_uniform')(input_style)\n",
    "    delta = Lambda(crop_to_fit)([input_noise, out])\n",
    "    d = Dense(filters, kernel_initializer='zeros')(delta)\n",
    "\n",
    "    #ModConv2D block\n",
    "    out = ModConv2D(filters, (3,3), strides=(1,1), padding=\"same\", kernel_initializer = 'he_uniform')([out, style])\n",
    "    out = Add()([out, d])\n",
    "    out = LeakyReLU(0.2)(out)\n",
    "\n",
    "    return out, to_output(out, out_style)\n",
    "\n",
    "\n",
    "def make_synthesis_network ():\n",
    "    #Inputs\n",
    "    input_styles = []\n",
    "    #input_noises = []\n",
    "    for i in range(n_layers):\n",
    "        input_styles.append(Input(shape=[512]))\n",
    "\n",
    "    input_noise = Input(shape=[im_size, im_size, 1])\n",
    "    outs = []\n",
    "\n",
    "    x = Lambda(lambda x: x[:, :1]*0 + 1)(input_styles[0])\n",
    "\n",
    "    x = Dense(4*4*4*depth, activation='relu', kernel_initializer='random_normal')(x) #learned constant input vector\n",
    "    x = Reshape([4, 4, 4*depth])(x) #a [4, 4, 4*depth] tensor --> to feed next layer of 4x4\n",
    "\n",
    "    x, r = g_block(x, input_styles[1], input_noise, 64*depth, upsampling=False)    #4x4\n",
    "    outs.append(r)\n",
    "    #print(x.shape) #, r.shape)\n",
    "    x, r = g_block(x, input_styles[2], input_noise, 32*depth)                      #8x8\n",
    "    outs.append(r)\n",
    "    #print(x.shape) #, r.shape)\n",
    "    x, r = g_block(x, input_styles[3], input_noise, 16*depth)                      #16x16\n",
    "    outs.append(r)\n",
    "    #print(x.shape) #, r.shape)\n",
    "    x, r = g_block(x, input_styles[3], input_noise, 8*depth)                       #32x32\n",
    "    \"\"\" \n",
    "    outs.append(r)\n",
    "    #print(x.shape) #, r.shape)\n",
    "    x, r = g_block(x, input_styles[5], input_noise, 4*depth)                       #64x64\n",
    "    outs.append(r)\n",
    "    print(x.shape) #, r.shape)\n",
    "    x, r = g_block(x, input_styles[6], input_noise, 2*depth)                       #128x128\n",
    "    outs.append(r)\n",
    "    print(x.shape) #, r.shape)\n",
    "    x, r = g_block(x, input_styles[7], input_noise, depth)                         #256x256\n",
    "    outs.append(r)\n",
    "    print(x.shape) #, r.shape)\n",
    "    \"\"\"\n",
    "\n",
    "    x = Add()(outs)\n",
    "\n",
    "    #normalise\n",
    "    x = Lambda(lambda y: y/2 + 0.5)(x)\n",
    "\n",
    "    print(\"end shape\", x.shape)\n",
    "    \n",
    "    model = Model(inputs = [input_styles, input_noise], outputs = x)\n",
    "    return model\n",
    "\n",
    "def make_generator_model(S, G):\n",
    "    input_z = []\n",
    "    W = []\n",
    "    for i in range(n_layers):\n",
    "        input_z.append(Input([latent_size]))\n",
    "        W.append(S(input_z[-1]))\n",
    "\n",
    "    input_noise = Input([im_size, im_size, 1])\n",
    "\n",
    "    generated_image = G((W, input_noise))\n",
    "    \n",
    "    gen_model = Model(inputs = [input_z, input_noise], outputs = generated_image)\n",
    "\n",
    "    return gen_model"
   ]
  },
  {
   "cell_type": "code",
   "execution_count": 27,
   "metadata": {},
   "outputs": [
    {
     "name": "stdout",
     "output_type": "stream",
     "text": [
      "(None, 4, 4, 1024) 4\n",
      "(None, None, None, 1)\n",
      "(None, 8, 8, 512) 8\n",
      "(None, None, None, 1)\n",
      "(None, 16, 16, 256) 16\n",
      "(None, None, None, 1)\n",
      "(None, 32, 32, 128) 32\n",
      "(None, None, None, 1)\n",
      "end shape (None, None, None, 1)\n"
     ]
    }
   ],
   "source": [
    "#make generator model\n",
    "S = make_style_generator()\n",
    "G = make_synthesis_network()\n",
    "\n",
    "gen_model = make_generator_model(S, G)\n",
    "\n",
    "#gen_model.summary()"
   ]
  },
  {
   "cell_type": "code",
   "execution_count": 41,
   "metadata": {},
   "outputs": [],
   "source": [
    "z = noiseList(batch_size)"
   ]
  },
  {
   "cell_type": "code",
   "execution_count": 46,
   "metadata": {},
   "outputs": [
    {
     "name": "stdout",
     "output_type": "stream",
     "text": [
      "(6, 32, 32, 1)\n"
     ]
    },
    {
     "data": {
      "text/plain": [
       "<matplotlib.image.AxesImage at 0x1f00526c7c0>"
      ]
     },
     "execution_count": 46,
     "metadata": {},
     "output_type": "execute_result"
    },
    {
     "data": {
      "image/png": "[encoded data removed]",
      "text/plain": [
       "<Figure size 432x288 with 1 Axes>"
      ]
     },
     "metadata": {
      "needs_background": "light"
     },
     "output_type": "display_data"
    }
   ],
   "source": [
    "\n",
    "w = []\n",
    "for i in range(n_layers):\n",
    "    w.append(S(z[i]))\n",
    "\n",
    "added_noise = tf.random.normal((batch_size, im_size, im_size, 1))\n",
    "image = G((w, added_noise))\n",
    "print(image.shape)\n",
    "plt.imshow(image[1].numpy().astype(\"float32\"), cmap='gray')"
   ]
  },
  {
   "cell_type": "code",
   "execution_count": 40,
   "metadata": {},
   "outputs": [
    {
     "name": "stdout",
     "output_type": "stream",
     "text": [
      "(6, 32, 32, 1)\n"
     ]
    },
    {
     "data": {
      "text/plain": [
       "<matplotlib.image.AxesImage at 0x1efdc1c5d30>"
      ]
     },
     "execution_count": 40,
     "metadata": {},
     "output_type": "execute_result"
    },
    {
     "data": {
      "image/png": "[encoded data removed]",
      "text/plain": [
       "<Figure size 432x288 with 1 Axes>"
      ]
     },
     "metadata": {
      "needs_background": "light"
     },
     "output_type": "display_data"
    }
   ],
   "source": [
    "#z = noiseList(batch_size)\n",
    "added_noise = tf.random.normal((batch_size, im_size, im_size, 1))\n",
    "image = gen_model((z, added_noise))\n",
    "print(image.shape)\n",
    "plt.imshow(image[0].numpy().astype(\"float32\"), cmap='gray')"
   ]
  },
  {
   "cell_type": "code",
   "execution_count": 31,
   "metadata": {},
   "outputs": [],
   "source": [
    "#define discriminator\n",
    "    #residual connections\n",
    "\n",
    "#https://github.com/manicman1999/StyleGAN2-Tensorflow-2.0/blob/master/stylegan_two.py\n",
    "\n",
    "def d_block(inputs, filters, pooling=True):\n",
    "    residual = Conv2D(filters, 1)(inputs)\n",
    "\n",
    "    out = Conv2D(filters, (3,3), padding='same')(inputs)\n",
    "    out = LeakyReLU(0.2)(out)\n",
    "    out = Conv2D(filters, (3,3), padding='same')(out)\n",
    "    out = LeakyReLU(0.2)(out)\n",
    "\n",
    "    out = Add()([residual, out])\n",
    "\n",
    "    if pooling:\n",
    "        out = AveragePooling2D()(out)\n",
    "\n",
    "    return out\n",
    "\n",
    "def make_discriminator_model():\n",
    "    inputs = Input(shape=(256, 256, 1))\n",
    "\n",
    "    x = d_block(inputs, depth)\n",
    "    x = d_block(x, depth * 2)\n",
    "    x = d_block(x, depth * 4)\n",
    "    x = d_block(x, depth * 8)\n",
    "    x = d_block(x, depth * 16, pooling=False)\n",
    "\n",
    "    #classification stuff\n",
    "    x = Flatten()(x)\n",
    "    x = Dense(1)(x)\n",
    "\n",
    "    model = Model(inputs= inputs, outputs = x)\n",
    "\n",
    "    return model"
   ]
  },
  {
   "cell_type": "code",
   "execution_count": 32,
   "metadata": {},
   "outputs": [
    {
     "name": "stdout",
     "output_type": "stream",
     "text": [
      "Model: \"model_4\"\n",
      "__________________________________________________________________________________________________\n",
      "Layer (type)                    Output Shape         Param #     Connected to                     \n",
      "==================================================================================================\n",
      "input_37 (InputLayer)           [(None, 256, 256, 1) 0                                            \n",
      "__________________________________________________________________________________________________\n",
      "conv2d_1 (Conv2D)               (None, 256, 256, 16) 160         input_37[0][0]                   \n",
      "__________________________________________________________________________________________________\n",
      "leaky_re_lu_14 (LeakyReLU)      (None, 256, 256, 16) 0           conv2d_1[0][0]                   \n",
      "__________________________________________________________________________________________________\n",
      "conv2d_2 (Conv2D)               (None, 256, 256, 16) 2320        leaky_re_lu_14[0][0]             \n",
      "__________________________________________________________________________________________________\n",
      "conv2d (Conv2D)                 (None, 256, 256, 16) 32          input_37[0][0]                   \n",
      "__________________________________________________________________________________________________\n",
      "leaky_re_lu_15 (LeakyReLU)      (None, 256, 256, 16) 0           conv2d_2[0][0]                   \n",
      "__________________________________________________________________________________________________\n",
      "add_8 (Add)                     (None, 256, 256, 16) 0           conv2d[0][0]                     \n",
      "                                                                 leaky_re_lu_15[0][0]             \n",
      "__________________________________________________________________________________________________\n",
      "average_pooling2d (AveragePooli (None, 128, 128, 16) 0           add_8[0][0]                      \n",
      "__________________________________________________________________________________________________\n",
      "conv2d_4 (Conv2D)               (None, 128, 128, 32) 4640        average_pooling2d[0][0]          \n",
      "__________________________________________________________________________________________________\n",
      "leaky_re_lu_16 (LeakyReLU)      (None, 128, 128, 32) 0           conv2d_4[0][0]                   \n",
      "__________________________________________________________________________________________________\n",
      "conv2d_5 (Conv2D)               (None, 128, 128, 32) 9248        leaky_re_lu_16[0][0]             \n",
      "__________________________________________________________________________________________________\n",
      "conv2d_3 (Conv2D)               (None, 128, 128, 32) 544         average_pooling2d[0][0]          \n",
      "__________________________________________________________________________________________________\n",
      "leaky_re_lu_17 (LeakyReLU)      (None, 128, 128, 32) 0           conv2d_5[0][0]                   \n",
      "__________________________________________________________________________________________________\n",
      "add_9 (Add)                     (None, 128, 128, 32) 0           conv2d_3[0][0]                   \n",
      "                                                                 leaky_re_lu_17[0][0]             \n",
      "__________________________________________________________________________________________________\n",
      "average_pooling2d_1 (AveragePoo (None, 64, 64, 32)   0           add_9[0][0]                      \n",
      "__________________________________________________________________________________________________\n",
      "conv2d_7 (Conv2D)               (None, 64, 64, 64)   18496       average_pooling2d_1[0][0]        \n",
      "__________________________________________________________________________________________________\n",
      "leaky_re_lu_18 (LeakyReLU)      (None, 64, 64, 64)   0           conv2d_7[0][0]                   \n",
      "__________________________________________________________________________________________________\n",
      "conv2d_8 (Conv2D)               (None, 64, 64, 64)   36928       leaky_re_lu_18[0][0]             \n",
      "__________________________________________________________________________________________________\n",
      "conv2d_6 (Conv2D)               (None, 64, 64, 64)   2112        average_pooling2d_1[0][0]        \n",
      "__________________________________________________________________________________________________\n",
      "leaky_re_lu_19 (LeakyReLU)      (None, 64, 64, 64)   0           conv2d_8[0][0]                   \n",
      "__________________________________________________________________________________________________\n",
      "add_10 (Add)                    (None, 64, 64, 64)   0           conv2d_6[0][0]                   \n",
      "                                                                 leaky_re_lu_19[0][0]             \n",
      "__________________________________________________________________________________________________\n",
      "average_pooling2d_2 (AveragePoo (None, 32, 32, 64)   0           add_10[0][0]                     \n",
      "__________________________________________________________________________________________________\n",
      "conv2d_10 (Conv2D)              (None, 32, 32, 128)  73856       average_pooling2d_2[0][0]        \n",
      "__________________________________________________________________________________________________\n",
      "leaky_re_lu_20 (LeakyReLU)      (None, 32, 32, 128)  0           conv2d_10[0][0]                  \n",
      "__________________________________________________________________________________________________\n",
      "conv2d_11 (Conv2D)              (None, 32, 32, 128)  147584      leaky_re_lu_20[0][0]             \n",
      "__________________________________________________________________________________________________\n",
      "conv2d_9 (Conv2D)               (None, 32, 32, 128)  8320        average_pooling2d_2[0][0]        \n",
      "__________________________________________________________________________________________________\n",
      "leaky_re_lu_21 (LeakyReLU)      (None, 32, 32, 128)  0           conv2d_11[0][0]                  \n",
      "__________________________________________________________________________________________________\n",
      "add_11 (Add)                    (None, 32, 32, 128)  0           conv2d_9[0][0]                   \n",
      "                                                                 leaky_re_lu_21[0][0]             \n",
      "__________________________________________________________________________________________________\n",
      "average_pooling2d_3 (AveragePoo (None, 16, 16, 128)  0           add_11[0][0]                     \n",
      "__________________________________________________________________________________________________\n",
      "conv2d_13 (Conv2D)              (None, 16, 16, 256)  295168      average_pooling2d_3[0][0]        \n",
      "__________________________________________________________________________________________________\n",
      "leaky_re_lu_22 (LeakyReLU)      (None, 16, 16, 256)  0           conv2d_13[0][0]                  \n",
      "__________________________________________________________________________________________________\n",
      "conv2d_14 (Conv2D)              (None, 16, 16, 256)  590080      leaky_re_lu_22[0][0]             \n",
      "__________________________________________________________________________________________________\n",
      "conv2d_12 (Conv2D)              (None, 16, 16, 256)  33024       average_pooling2d_3[0][0]        \n",
      "__________________________________________________________________________________________________\n",
      "leaky_re_lu_23 (LeakyReLU)      (None, 16, 16, 256)  0           conv2d_14[0][0]                  \n",
      "__________________________________________________________________________________________________\n",
      "add_12 (Add)                    (None, 16, 16, 256)  0           conv2d_12[0][0]                  \n",
      "                                                                 leaky_re_lu_23[0][0]             \n",
      "__________________________________________________________________________________________________\n",
      "flatten (Flatten)               (None, 65536)        0           add_12[0][0]                     \n",
      "__________________________________________________________________________________________________\n",
      "dense_28 (Dense)                (None, 1)            65537       flatten[0][0]                    \n",
      "==================================================================================================\n",
      "Total params: 1,288,049\n",
      "Trainable params: 1,288,049\n",
      "Non-trainable params: 0\n",
      "__________________________________________________________________________________________________\n"
     ]
    }
   ],
   "source": [
    "#create discriminator\n",
    "discriminator = make_discriminator_model()\n",
    "discriminator.summary()"
   ]
  },
  {
   "cell_type": "markdown",
   "metadata": {},
   "source": [
    "Training"
   ]
  },
  {
   "cell_type": "code",
   "execution_count": 33,
   "metadata": {},
   "outputs": [],
   "source": [
    "#define training step"
   ]
  },
  {
   "cell_type": "code",
   "execution_count": 34,
   "metadata": {},
   "outputs": [],
   "source": [
    "#define training loop"
   ]
  },
  {
   "cell_type": "code",
   "execution_count": 35,
   "metadata": {},
   "outputs": [],
   "source": [
    "#run training loop"
   ]
  },
  {
   "cell_type": "markdown",
   "metadata": {},
   "source": [
    "Visualise outcome"
   ]
  },
  {
   "cell_type": "code",
   "execution_count": 36,
   "metadata": {},
   "outputs": [],
   "source": [
    "#losses and inference"
   ]
  }
 ],
 "metadata": {
  "interpreter": {
   "hash": "3a3b76dc9f98c3b7c2833723de1f287f5b2fddd8af30239771319b1a6738189a"
  },
  "kernelspec": {
   "display_name": "Python 3.9.6 64-bit",
   "name": "python3"
  },
  "language_info": {
   "codemirror_mode": {
    "name": "ipython",
    "version": 3
   },
   "file_extension": ".py",
   "mimetype": "text/x-python",
   "name": "python",
   "nbconvert_exporter": "python",
   "pygments_lexer": "ipython3",
   "version": "3.9.6"
  },
  "orig_nbformat": 4
 },
 "nbformat": 4,
 "nbformat_minor": 2
}
