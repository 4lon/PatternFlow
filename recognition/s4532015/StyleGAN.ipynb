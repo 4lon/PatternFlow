{
 "cells": [
  {
   "cell_type": "markdown",
   "metadata": {},
   "source": [
    "Style GAN"
   ]
  },
  {
   "cell_type": "code",
   "execution_count": 1,
   "metadata": {},
   "outputs": [],
   "source": [
    "#import stuff\n",
    "import tensorflow as tf\n",
    "from tensorflow import keras\n",
    "from tensorflow.keras.layers import Dense, Flatten, Conv2D, Dropout, LeakyReLU, AveragePooling2D, Add, Input, InputSpec, UpSampling2D, Activation, Lambda, Reshape\n",
    "from tensorflow.keras.models import Model\n",
    "from tensorflow.keras.initializers import VarianceScaling\n",
    "from tensorflow.keras import initializers, regularizers, constraints\n",
    "from tensorflow.keras import backend as K\n",
    "from tensorflow.python.keras.utils import conv_utils\n",
    "import matplotlib.pyplot as plt\n",
    "import numpy as np"
   ]
  },
  {
   "cell_type": "markdown",
   "metadata": {},
   "source": [
    "Parameters"
   ]
  },
  {
   "cell_type": "code",
   "execution_count": 2,
   "metadata": {},
   "outputs": [],
   "source": [
    "batch_size = 32\n",
    "depth = 32\n",
    "latent_size = 512"
   ]
  },
  {
   "cell_type": "markdown",
   "metadata": {},
   "source": [
    "Load and process the data"
   ]
  },
  {
   "cell_type": "code",
   "execution_count": null,
   "metadata": {},
   "outputs": [],
   "source": [
    "#load raw data\n",
    "raw_ds = tf.keras.preprocessing.image_dataset_from_directory('D:\\Datasets\\keras_png_slices_data\\keras_png_slices_train', labels=None, color_mode='grayscale', batch_size=batch_size)\n",
    "print(raw_ds)\n",
    "\n",
    "#check range of values in raw data\n",
    "image_batch = next(iter(raw_ds))\n",
    "first_image = image_batch[0]\n",
    "print(np.min(first_image), np.max(first_image))\n",
    "\n",
    "#normalise the data\n",
    "normalization_layer = tf.keras.layers.experimental.preprocessing.Rescaling(1./127.5, offset=-1)\n",
    "norm_ds = raw_ds.map(lambda img: (normalization_layer(img)))\n",
    "\n",
    "#check range of values in raw data\n",
    "image_batch = next(iter(norm_ds))\n",
    "first_image = image_batch[0]\n",
    "print(np.min(first_image), np.max(first_image))\n"
   ]
  },
  {
   "cell_type": "code",
   "execution_count": null,
   "metadata": {},
   "outputs": [],
   "source": [
    "#visualise raw data\n",
    "for images in raw_ds.take(1):\n",
    "    plt.imshow(images[0].numpy().astype(\"float32\"), cmap='gray')\n",
    "    plt.show()"
   ]
  },
  {
   "cell_type": "code",
   "execution_count": null,
   "metadata": {},
   "outputs": [],
   "source": [
    "#visualise norm data\n",
    "for images in norm_ds.take(1):\n",
    "    plt.imshow(images[0].numpy().astype(\"float32\"), cmap='gray')\n",
    "    plt.show()"
   ]
  },
  {
   "cell_type": "markdown",
   "metadata": {},
   "source": [
    "Networks"
   ]
  },
  {
   "cell_type": "code",
   "execution_count": 3,
   "metadata": {},
   "outputs": [],
   "source": [
    "#Conv2DMod layer\n",
    "#https://github.com/manicman1999/StyleGAN2-Tensorflow-2.0/blob/989306792ca49dcbebb353c4f06c7b48aeb3a9e3/conv_mod.py#L15\n",
    "\n",
    "class ModConv2D (keras.layers.Layer):\n",
    "    def __init__(self, filters, kernel_size, strides=(1,1), padding = 'valid', kernel_initializer='glorot_uniform', \n",
    "                    kernel_regularizer=None, activity_regularizer=None, kernel_constraint=None, demod = True, **kwargs):\n",
    "        #define all the parameters of the layer\n",
    "        super(ModConv2D, self).__init__(**kwargs)\n",
    "        self.filters = filters\n",
    "        self.rank = 2\n",
    "        self.kernel_size= conv_utils.normalize_tuple(kernel_size, 2, 'kernel_size')\n",
    "        self.strides = conv_utils.normalize_tuple(strides, 2, 'strides')\n",
    "        self.padding = conv_utils.normalize_padding(padding)\n",
    "        #?\n",
    "        self.kernel_initializer = initializers.get(kernel_initializer)\n",
    "        self.kernel_regularizer = regularizers.get(kernel_regularizer)\n",
    "        self.activity_regularizer = regularizers.get(activity_regularizer)\n",
    "        self.kernel_constraint = constraints.get(kernel_constraint)\n",
    "        #?\n",
    "        self.demod = demod\n",
    "\n",
    "        #input with ndim=4 is previous convolution layer\n",
    "        #input with ndim=2 is the input style for this layer (output from style generator)\n",
    "        self.Input_spec = [InputSpec(ndim=4), InputSpec(ndim=2)]\n",
    "\n",
    "\n",
    "    def build(self, input_shape):\n",
    "        #define weights after shape of input is known\n",
    "        channel_axis = -1\n",
    "        input_dim = input_shape[0][channel_axis] #should be 1 for this dataset since it's only grayscale images being sent through the system\n",
    "        kernel_shape = self.kernel_size + (input_dim, self.filters)\n",
    "\n",
    "        self.kernel = self.add_weight(shape=kernel_shape, initializer=self.kernel_initializer, name='kernel', \n",
    "                                        regularizer=self.kernel_regularizer, constraint=self.kernel_constraint)\n",
    "\n",
    "        #input specifications\n",
    "        #input_shape[0] is the output of the previous layer\n",
    "        #input_shape[1] is the style\n",
    "        self.input_spec = [InputSpec(ndim=4, axes={channel_axis: input_dim}), InputSpec(ndim=2)]\n",
    "\n",
    "        self.built = True\n",
    "\n",
    "\n",
    "    def call(self, inputs):\n",
    "        #execute the code when the layer is used\n",
    "            #modulation stuff\n",
    "        style = inputs[1]\n",
    "        #print(\"style shape:\", style.shape)\n",
    "        #print(\"kernel shape:\", self.kernel.shape)\n",
    "\n",
    "        #make the input style W shape compatible with kernel\n",
    "        inp_mods = K.expand_dims(K.expand_dims(style, axis = 1), axis = 1)\n",
    "        my_kernel = K.expand_dims(self.kernel, axis=0)\n",
    "\n",
    "        #modulate\n",
    "        #print(\"kernel\", (int)(tf.rank(my_kernel)), my_kernel.shape)\n",
    "        #print(\"kernel shape:\", my_kernel.shape)\n",
    "        #print(\"input style\", (int)(tf.rank(inp_mods)), inp_mods.shape)\n",
    "        #print(\"input style shape:\", inp_mods.shape)\n",
    "        weights = my_kernel * (inp_mods + 1)\n",
    "        #weights = 0\n",
    "\n",
    "        #demodulate\n",
    "        if self.demod:\n",
    "            weights /= K.sqrt(K.sum(K.square(weights), axis=[1,2,3], keepdims = True) + 1e-8)\n",
    "        \n",
    "        x = tf.transpose(inputs[0], [0,3,1,2])\n",
    "        x = tf.reshape(x, [1, -1, x.shape[2], x.shape[3]])\n",
    "\n",
    "        w = tf.transpose(weights, [1,2,3,0,4])\n",
    "        w = tf.reshape(w, [weights.shape[1], weights.shape[2], weights.shape[3], -1])\n",
    "\n",
    "        #normal convolution 2d\n",
    "        #data is stored in [batch_size, channels, height, width]\n",
    "        x = tf.nn.conv2d(x, w, strides=self.strides, padding='SAME', data_format='NCHW')\n",
    "\n",
    "        #print(x.shape)\n",
    "\n",
    "        x = tf.reshape(x, [-1, self.filters, tf.shape(x)[2], tf.shape(x)[3]]) # Fused => reshape convolution groups back to minibatch.\n",
    "        x = tf.transpose(x, [0, 2, 3, 1])\n",
    "\n",
    "        return x"
   ]
  },
  {
   "cell_type": "code",
   "execution_count": 4,
   "metadata": {},
   "outputs": [],
   "source": [
    "#define generator\n",
    "#mapping network\n",
    "    #for taking an image (style) and converting it to latent space to use in the weights of the synthesis network\n",
    "#synthesis network\n",
    "    #network used to generate images using input style and noise\n",
    "    #skip connections\n",
    "\n",
    "#https://github.com/manicman1999/StyleGAN2-Tensorflow-2.0/blob/master/stylegan_two.py\n",
    "\n",
    "def crop_to_fit(x):\n",
    "    #makes sure that x[0] has the same dimensions as x[1]\n",
    "    height = x[1].shape[1]\n",
    "    width = x[1].shape[2]\n",
    "\n",
    "    return x[0][:, :height, :width, :]\n",
    "\n",
    "def make_style_generator():\n",
    "    #standard deep NN\n",
    "    model = tf.keras.Sequential()\n",
    "    model.add(Dense(512, input_shape=[1, latent_size]))\n",
    "    model.add(LeakyReLU(0.2))\n",
    "    model.add(Dense(512))\n",
    "    model.add(LeakyReLU(0.2))\n",
    "    model.add(Dense(512))\n",
    "    model.add(LeakyReLU(0.2))\n",
    "    model.add(Dense(512))\n",
    "    model.add(LeakyReLU(0.2))\n",
    "\n",
    "    return model\n",
    "\n",
    "\n",
    "def g_block(inputs, input_style, input_noise, filters, upsampling=True):\n",
    "\n",
    "    #optional upsampling\n",
    "    if upsampling:\n",
    "        out = UpSampling2D(interpolation='bilinear')(inputs)\n",
    "    else:\n",
    "        out = Activation('linear')(inputs)\n",
    "\n",
    "\n",
    "    #main block\n",
    "    #style stuff\n",
    "    style = Dense(filters, kernel_initializer = VarianceScaling(200/out.shape[2]))(input_style)\n",
    "    delta = Lambda(crop_to_fit)([input_noise, out])\n",
    "    d = Dense(filters, kernel_initializer='zeros')(delta)\n",
    "\n",
    "    #ModConv2D block\n",
    "    out = ModConv2D(filters, (3,3), strides=(1,1), padding=\"same\", kernel_initializer = 'he_uniform')([out, style])\n",
    "    out = Add()([out, d])\n",
    "    out = LeakyReLU(0.2)(out)\n",
    "\n",
    "    return out\n",
    "\n",
    "def make_generator_model ():\n",
    "    #constant input\n",
    "    ''' inputs = Input(shape=[[512,1],[64,64,1]])\n",
    "    input_style = inputs[0]\n",
    "    input_noise = inputs[1] '''\n",
    "    input_style = Input(shape=(512))\n",
    "    input_noise = Input(shape=(256, 256, 1))\n",
    "\n",
    "    x = tf.ones((1, 512))#Lambda(lambda x: x[:, :1]*0 + 1)(input_style) #just a 512 vector of 1s\n",
    "\n",
    "    x = Dense(4*4*4*depth, activation='relu', kernel_initializer='random_normal')(x)\n",
    "    x = Reshape([4, 4, 4*depth])(x) #a [4, 4, 4*depth] tensor\n",
    "\n",
    "    x = g_block(x, input_style, input_noise, 64*depth, upsampling=False)    #4x4\n",
    "    x = g_block(x, input_style, input_noise, 32*depth)                      #8x8\n",
    "    x = g_block(x, input_style, input_noise, 16*depth)                      #16x16\n",
    "    #x = g_block(x, input_style, input_noise, 8*depth)                       #32x32\n",
    "    #x = g_block(x, input_style, input_noise, 4*depth)                       #64x64\n",
    "    #x = g_block(x, input_style, input_noise, 2*depth)                       #128x128\n",
    "    #x = g_block(x, input_style, input_noise, depth)                         #256x256\n",
    "\n",
    "    model = Model(inputs = [input_style, input_noise], outputs = x)\n",
    "    return model"
   ]
  },
  {
   "cell_type": "code",
   "execution_count": 5,
   "metadata": {},
   "outputs": [
    {
     "name": "stdout",
     "output_type": "stream",
     "text": [
      "Model: \"sequential\"\n",
      "_________________________________________________________________\n",
      "Layer (type)                 Output Shape              Param #   \n",
      "=================================================================\n",
      "dense (Dense)                (None, 1, 512)            262656    \n",
      "_________________________________________________________________\n",
      "leaky_re_lu (LeakyReLU)      (None, 1, 512)            0         \n",
      "_________________________________________________________________\n",
      "dense_1 (Dense)              (None, 1, 512)            262656    \n",
      "_________________________________________________________________\n",
      "leaky_re_lu_1 (LeakyReLU)    (None, 1, 512)            0         \n",
      "_________________________________________________________________\n",
      "dense_2 (Dense)              (None, 1, 512)            262656    \n",
      "_________________________________________________________________\n",
      "leaky_re_lu_2 (LeakyReLU)    (None, 1, 512)            0         \n",
      "_________________________________________________________________\n",
      "dense_3 (Dense)              (None, 1, 512)            262656    \n",
      "_________________________________________________________________\n",
      "leaky_re_lu_3 (LeakyReLU)    (None, 1, 512)            0         \n",
      "=================================================================\n",
      "Total params: 1,050,624\n",
      "Trainable params: 1,050,624\n",
      "Non-trainable params: 0\n",
      "_________________________________________________________________\n"
     ]
    }
   ],
   "source": [
    "style_generator = make_style_generator()\n",
    "style_generator.summary()\n",
    "\n",
    "style_vector = style_generator(tf.random.normal((1,512)))"
   ]
  },
  {
   "cell_type": "code",
   "execution_count": 10,
   "metadata": {},
   "outputs": [
    {
     "name": "stdout",
     "output_type": "stream",
     "text": [
      "Model: \"model_1\"\n",
      "__________________________________________________________________________________________________\n",
      "Layer (type)                    Output Shape         Param #     Connected to                     \n",
      "==================================================================================================\n",
      "input_3 (InputLayer)            [(None, 512)]        0                                            \n",
      "__________________________________________________________________________________________________\n",
      "input_4 (InputLayer)            [(None, 256, 256, 1) 0                                            \n",
      "__________________________________________________________________________________________________\n",
      "dense_12 (Dense)                (None, 2048)         1050624     input_3[0][0]                    \n",
      "__________________________________________________________________________________________________\n",
      "lambda_3 (Lambda)               (None, 4, 4, 1)      0           input_4[0][0]                    \n",
      "__________________________________________________________________________________________________\n",
      "mod_conv2d_3 (ModConv2D)        (1, 4, 4, 2048)      2359296     dense_12[0][0]                   \n",
      "__________________________________________________________________________________________________\n",
      "dense_13 (Dense)                (None, 4, 4, 2048)   4096        lambda_3[0][0]                   \n",
      "__________________________________________________________________________________________________\n",
      "add_3 (Add)                     (None, 4, 4, 2048)   0           mod_conv2d_3[0][0]               \n",
      "                                                                 dense_13[0][0]                   \n",
      "__________________________________________________________________________________________________\n",
      "leaky_re_lu_7 (LeakyReLU)       (None, 4, 4, 2048)   0           add_3[0][0]                      \n",
      "__________________________________________________________________________________________________\n",
      "up_sampling2d_2 (UpSampling2D)  (None, 8, 8, 2048)   0           leaky_re_lu_7[0][0]              \n",
      "__________________________________________________________________________________________________\n",
      "dense_14 (Dense)                (None, 1024)         525312      input_3[0][0]                    \n",
      "__________________________________________________________________________________________________\n",
      "lambda_4 (Lambda)               (None, 8, 8, 1)      0           input_4[0][0]                    \n",
      "                                                                 up_sampling2d_2[0][0]            \n",
      "__________________________________________________________________________________________________\n",
      "mod_conv2d_4 (ModConv2D)        (1, 8, 8, 1024)      18874368    up_sampling2d_2[0][0]            \n",
      "                                                                 dense_14[0][0]                   \n",
      "__________________________________________________________________________________________________\n",
      "dense_15 (Dense)                (None, 8, 8, 1024)   2048        lambda_4[0][0]                   \n",
      "__________________________________________________________________________________________________\n",
      "add_4 (Add)                     (None, 8, 8, 1024)   0           mod_conv2d_4[0][0]               \n",
      "                                                                 dense_15[0][0]                   \n",
      "__________________________________________________________________________________________________\n",
      "leaky_re_lu_8 (LeakyReLU)       (None, 8, 8, 1024)   0           add_4[0][0]                      \n",
      "__________________________________________________________________________________________________\n",
      "up_sampling2d_3 (UpSampling2D)  (None, 16, 16, 1024) 0           leaky_re_lu_8[0][0]              \n",
      "__________________________________________________________________________________________________\n",
      "dense_16 (Dense)                (None, 512)          262656      input_3[0][0]                    \n",
      "__________________________________________________________________________________________________\n",
      "lambda_5 (Lambda)               (None, 16, 16, 1)    0           input_4[0][0]                    \n",
      "                                                                 up_sampling2d_3[0][0]            \n",
      "__________________________________________________________________________________________________\n",
      "mod_conv2d_5 (ModConv2D)        (1, 16, 16, 512)     4718592     up_sampling2d_3[0][0]            \n",
      "                                                                 dense_16[0][0]                   \n",
      "__________________________________________________________________________________________________\n",
      "dense_17 (Dense)                (None, 16, 16, 512)  1024        lambda_5[0][0]                   \n",
      "__________________________________________________________________________________________________\n",
      "add_5 (Add)                     (None, 16, 16, 512)  0           mod_conv2d_5[0][0]               \n",
      "                                                                 dense_17[0][0]                   \n",
      "__________________________________________________________________________________________________\n",
      "leaky_re_lu_9 (LeakyReLU)       (None, 16, 16, 512)  0           add_5[0][0]                      \n",
      "==================================================================================================\n",
      "Total params: 27,798,016\n",
      "Trainable params: 27,798,016\n",
      "Non-trainable params: 0\n",
      "__________________________________________________________________________________________________\n"
     ]
    }
   ],
   "source": [
    "#create generator\n",
    "generator = make_generator_model()\n",
    "generator.summary()"
   ]
  },
  {
   "cell_type": "code",
   "execution_count": 13,
   "metadata": {},
   "outputs": [
    {
     "data": {
      "text/plain": [
       "<matplotlib.image.AxesImage at 0x2c0df632fd0>"
      ]
     },
     "execution_count": 13,
     "metadata": {},
     "output_type": "execute_result"
    },
    {
     "data": {
      "image/png": "[encoded data removed]",
      "text/plain": [
       "<Figure size 432x288 with 1 Axes>"
      ]
     },
     "metadata": {
      "needs_background": "light"
     },
     "output_type": "display_data"
    }
   ],
   "source": [
    "noise = tf.random.normal((256,256,1))\n",
    "generated_image = generator((style_vector, noise))\n",
    "\n",
    "plt.imshow(generated_image[0, :, :, 0], cmap='gray')"
   ]
  },
  {
   "cell_type": "code",
   "execution_count": null,
   "metadata": {},
   "outputs": [],
   "source": [
    "#define discriminator\n",
    "    #residual connections\n",
    "\n",
    "#https://github.com/manicman1999/StyleGAN2-Tensorflow-2.0/blob/master/stylegan_two.py\n",
    "\n",
    "def d_block(inputs, filters, pooling=True):\n",
    "    residual = Conv2D(filters, 1)(inputs)\n",
    "\n",
    "    out = Conv2D(filters, (3,3), padding='same')(inputs)\n",
    "    out = LeakyReLU(0.2)(out)\n",
    "    out = Conv2D(filters, (3,3), padding='same')(out)\n",
    "    out = LeakyReLU(0.2)(out)\n",
    "\n",
    "    out = Add()([residual, out])\n",
    "\n",
    "    if pooling:\n",
    "        out = AveragePooling2D()(out)\n",
    "\n",
    "    return out\n",
    "\n",
    "def make_discriminator_model():\n",
    "    inputs = Input(shape=(256, 256, 1))\n",
    "\n",
    "    x = d_block(inputs, depth)\n",
    "    x = d_block(x, depth * 2)\n",
    "    x = d_block(x, depth * 4)\n",
    "    x = d_block(x, depth * 8)\n",
    "    x = d_block(x, depth * 16, pooling=False)\n",
    "\n",
    "    #classification stuff\n",
    "    x = Flatten()(x)\n",
    "    x = Dense(1)(x)\n",
    "\n",
    "    model = Model(inputs= inputs, outputs = x)\n",
    "\n",
    "    return model"
   ]
  },
  {
   "cell_type": "code",
   "execution_count": null,
   "metadata": {},
   "outputs": [],
   "source": [
    "#create discriminator\n",
    "discriminator = make_discriminator_model()\n",
    "discriminator.summary()"
   ]
  },
  {
   "cell_type": "markdown",
   "metadata": {},
   "source": [
    "Training"
   ]
  },
  {
   "cell_type": "code",
   "execution_count": null,
   "metadata": {},
   "outputs": [],
   "source": [
    "#define training step"
   ]
  },
  {
   "cell_type": "code",
   "execution_count": null,
   "metadata": {},
   "outputs": [],
   "source": [
    "#define training loop"
   ]
  },
  {
   "cell_type": "code",
   "execution_count": null,
   "metadata": {},
   "outputs": [],
   "source": [
    "#run training loop"
   ]
  },
  {
   "cell_type": "markdown",
   "metadata": {},
   "source": [
    "Visualise outcome"
   ]
  },
  {
   "cell_type": "code",
   "execution_count": null,
   "metadata": {},
   "outputs": [],
   "source": [
    "#losses and inference"
   ]
  }
 ],
 "metadata": {
  "interpreter": {
   "hash": "3a3b76dc9f98c3b7c2833723de1f287f5b2fddd8af30239771319b1a6738189a"
  },
  "kernelspec": {
   "display_name": "Python 3.9.6 64-bit",
   "name": "python3"
  },
  "language_info": {
   "codemirror_mode": {
    "name": "ipython",
    "version": 3
   },
   "file_extension": ".py",
   "mimetype": "text/x-python",
   "name": "python",
   "nbconvert_exporter": "python",
   "pygments_lexer": "ipython3",
   "version": "3.9.6"
  },
  "orig_nbformat": 4
 },
 "nbformat": 4,
 "nbformat_minor": 2
}
