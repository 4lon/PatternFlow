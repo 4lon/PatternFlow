{
 "cells": [
  {
   "cell_type": "code",
   "execution_count": 1,
   "source": [
    "print(\"hello\")\r\n"
   ],
   "outputs": [
    {
     "output_type": "stream",
     "name": "stdout",
     "text": [
      "hello\n"
     ]
    }
   ],
   "metadata": {}
  }
 ],
 "metadata": {
  "orig_nbformat": 4,
  "language_info": {
   "nbconvert_exporter": "python",
   "mimetype": "text/x-python",
   "version": "3.5.5",
   "pygments_lexer": "ipython3",
   "file_extension": ".py",
   "name": "python",
   "codemirror_mode": {
    "name": "ipython",
    "version": 3
   }
  },
  "kernelspec": {
   "name": "python3",
   "display_name": "Python 3.5.5 64-bit ('newenvt': conda)"
  },
  "interpreter": {
   "hash": "4b5b674f4162a265b6f4567919bfeca8cd0363fdfe72889f05bf4b87db0fb847"
  }
 },
 "nbformat": 4,
 "nbformat_minor": 2
}