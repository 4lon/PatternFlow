{
 "cells": [
  {
   "cell_type": "code",
   "execution_count": 52,
   "id": "86f1c8eb",
   "metadata": {},
   "outputs": [
    {
     "data": {
      "text/plain": [
       "'2.6.0'"
      ]
     },
     "execution_count": 52,
     "metadata": {},
     "output_type": "execute_result"
    }
   ],
   "source": [
    "import tensorflow as tf\n",
    "import torch as pt\n",
    "import numpy as np\n",
    "import matplotlib.pyplot as plt\n",
    "import pathlib\n",
    "from keras.models import load_model\n",
    "from keras.preprocessing.image import load_img\n",
    "from keras.preprocessing.image import img_to_array\n",
    "tf.version.VERSION"
   ]
  },
  {
   "cell_type": "code",
   "execution_count": 2,
   "id": "18ef63c6",
   "metadata": {},
   "outputs": [],
   "source": [
    "img_path = './ISIC_Images'\n",
    "mask_path = './ISIC_Masks'\n",
    "img_width = 511\n",
    "img_height = 384"
   ]
  },
  {
   "cell_type": "code",
   "execution_count": 3,
   "id": "9de6f890",
   "metadata": {},
   "outputs": [
    {
     "name": "stdout",
     "output_type": "stream",
     "text": [
      "Found 2594 files belonging to 1 classes.\n",
      "Found 2594 files belonging to 1 classes.\n"
     ]
    }
   ],
   "source": [
    "images = tf.keras.utils.image_dataset_from_directory(img_path,image_size=(img_height, img_width))\n",
    "masks = tf.keras.utils.image_dataset_from_directory(mask_path,image_size=(img_height, img_width))"
   ]
  },
  {
   "cell_type": "code",
   "execution_count": 4,
   "id": "cdeb1109",
   "metadata": {},
   "outputs": [],
   "source": [
    "test = load_img(f\"{mask_path}/ISIC2018_Task1_Training_GroundTruth_x2/ISIC_0000000_segmentation.png\", color_mode=\"grayscale\")\n",
    "test = img_to_array(test)\n",
    "test /= 255"
   ]
  },
  {
   "cell_type": "code",
   "execution_count": 55,
   "id": "34f7b916",
   "metadata": {},
   "outputs": [],
   "source": [
    "def correct_yolo_box(img_num):\n",
    "    filepath = f\"{mask_path}/ISIC2018_Task1_Training_GroundTruth_x2/ISIC_{img_num:07d}_segmentation.png\"\n",
    "    mask = load_img(filepath, color_mode = \"grayscale\")\n",
    "    mask = img_to_array(mask)\n",
    "    mask /= 255\n",
    "    mask = np.squeeze(mask)\n",
    "    img_height, img_width = mask.shape\n",
    "    min_x = None\n",
    "    max_x = None\n",
    "    max_y = None\n",
    "    min_y = None\n",
    "    for i in range(0, img_height):\n",
    "        if 1 in mask[i]:\n",
    "            min_y = i\n",
    "            break\n",
    "    for i in range(img_height - 1, -1, -1):\n",
    "        if 1 in mask[i]:\n",
    "            max_y = i\n",
    "            break\n",
    "    for i in range(0, img_width):\n",
    "        if 1 in mask.T[i]:\n",
    "            min_x = i\n",
    "            break\n",
    "    for i in range(img_width - 1, -1, -1):\n",
    "        if 1 in mask.T[i]:\n",
    "            max_x = i\n",
    "            break\n",
    "    if min_y == None or max_y == None or min_x == None or max_x == None:\n",
    "        print(\"Image is not a valid mask\")\n",
    "        raise\n",
    "    width = max_x - min_x + 1\n",
    "    height = max_y - min_y + 1\n",
    "    centre_x = (min_x + max_x) / 2\n",
    "    centre_y = (min_y + max_y) / 2\n",
    "    return [width, height, centre_x, centre_y]"
   ]
  },
  {
   "cell_type": "code",
   "execution_count": 58,
   "id": "d93a83b2",
   "metadata": {},
   "outputs": [
    {
     "name": "stdout",
     "output_type": "stream",
     "text": [
      "[318, 472, 308.5, 310.5]\n"
     ]
    }
   ],
   "source": [
    "print(correct_yolo_box(20))"
   ]
  },
  {
   "cell_type": "code",
   "execution_count": 59,
   "id": "ab5d56e0",
   "metadata": {},
   "outputs": [],
   "source": [
    "def load_image_pixels(img_num):\n",
    "    filepath = f\"{img_path}/ISIC2018_Task1-2_Training_Input_x2/ISIC_{img_num:07d}.jpg\"\n",
    "    image = load_img(filepath)\n",
    "    image = img_to_array(image)\n",
    "    image = image.astype('float32')\n",
    "    image /= 255\n",
    "    return image"
   ]
  },
  {
   "cell_type": "code",
   "execution_count": 60,
   "id": "6a7b36dc",
   "metadata": {},
   "outputs": [
    {
     "name": "stdout",
     "output_type": "stream",
     "text": [
      "[[[0.7607843  0.7607843  0.7607843 ]\n",
      "  [0.39215687 0.39215687 0.39215687]\n",
      "  [0.47843137 0.47843137 0.47843137]\n",
      "  ...\n",
      "  [0.47843137 0.47843137 0.47843137]\n",
      "  [0.39607844 0.39607844 0.39607844]\n",
      "  [0.76862746 0.76862746 0.76862746]]\n",
      "\n",
      " [[0.38431373 0.38431373 0.38431373]\n",
      "  [0.         0.         0.        ]\n",
      "  [0.03529412 0.03529412 0.03529412]\n",
      "  ...\n",
      "  [0.02745098 0.02745098 0.02745098]\n",
      "  [0.00392157 0.00392157 0.00392157]\n",
      "  [0.4509804  0.4509804  0.4509804 ]]\n",
      "\n",
      " [[0.46666667 0.46666667 0.46666667]\n",
      "  [0.03529412 0.03529412 0.03529412]\n",
      "  [0.05098039 0.05098039 0.05098039]\n",
      "  ...\n",
      "  [0.02352941 0.02352941 0.02352941]\n",
      "  [0.01176471 0.01176471 0.01176471]\n",
      "  [0.49803922 0.49803922 0.49803922]]\n",
      "\n",
      " ...\n",
      "\n",
      " [[0.4862745  0.4862745  0.4862745 ]\n",
      "  [0.0627451  0.0627451  0.0627451 ]\n",
      "  [0.09411765 0.09411765 0.09411765]\n",
      "  ...\n",
      "  [0.03137255 0.03137255 0.03137255]\n",
      "  [0.00392157 0.00392157 0.00392157]\n",
      "  [0.49019608 0.49019608 0.49019608]]\n",
      "\n",
      " [[0.3764706  0.3764706  0.3764706 ]\n",
      "  [0.         0.         0.        ]\n",
      "  [0.03529412 0.03529412 0.03529412]\n",
      "  ...\n",
      "  [0.03529412 0.03529412 0.03529412]\n",
      "  [0.         0.         0.        ]\n",
      "  [0.44313726 0.44313726 0.44313726]]\n",
      "\n",
      " [[0.7921569  0.7921569  0.7921569 ]\n",
      "  [0.41960785 0.41960785 0.41960785]\n",
      "  [0.49803922 0.49803922 0.49803922]\n",
      "  ...\n",
      "  [0.49411765 0.49411765 0.49411765]\n",
      "  [0.39607844 0.39607844 0.39607844]\n",
      "  [0.76862746 0.76862746 0.76862746]]]\n"
     ]
    }
   ],
   "source": [
    "print(load_image_pixels(11))"
   ]
  },
  {
   "cell_type": "code",
   "execution_count": null,
   "id": "8261856d",
   "metadata": {},
   "outputs": [],
   "source": []
  }
 ],
 "metadata": {
  "kernelspec": {
   "display_name": "Python 3",
   "language": "python",
   "name": "python3"
  },
  "language_info": {
   "codemirror_mode": {
    "name": "ipython",
    "version": 3
   },
   "file_extension": ".py",
   "mimetype": "text/x-python",
   "name": "python",
   "nbconvert_exporter": "python",
   "pygments_lexer": "ipython3",
   "version": "3.9.6"
  }
 },
 "nbformat": 4,
 "nbformat_minor": 5
}
