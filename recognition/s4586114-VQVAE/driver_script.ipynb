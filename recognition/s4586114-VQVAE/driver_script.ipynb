{
 "cells": [
  {
   "cell_type": "markdown",
   "id": "b1d9fef5",
   "metadata": {},
   "source": [
    "Driver script to import and pre-process the OASIS brain data.\n",
    "Builds and trains the VQVAE model, generating images and SSIM accuracy of the test dataset.\n",
    "\n",
    "@author Mallika Mukherji\n",
    "@email m.mukherji@uqconnect.edu.au"
   ]
  },
  {
   "cell_type": "code",
   "execution_count": 66,
   "id": "f24246b5",
   "metadata": {},
   "outputs": [],
   "source": [
    "import tensorflow as tf\n",
    "import glob\n",
    "import sklearn as sk\n",
    "import matplotlib.pyplot as plt\n",
    "from IPython.display import clear_output"
   ]
  },
  {
   "cell_type": "code",
   "execution_count": 67,
   "id": "bb31eb26",
   "metadata": {},
   "outputs": [
    {
     "name": "stdout",
     "output_type": "stream",
     "text": [
      "TensorFlow version: 2.6.0\n"
     ]
    }
   ],
   "source": [
    "print('TensorFlow version:', tf.__version__)"
   ]
  },
  {
   "cell_type": "code",
   "execution_count": 68,
   "id": "ad5d93e0",
   "metadata": {},
   "outputs": [],
   "source": [
    "# Initialise paths for training, testing and validation sets\n",
    "TRAIN_IMAGE_PATH = \"D:\\keras_png_slices_data\\keras_png_slices_train\\*.png\"\n",
    "TEST_IMAGE_PATH = \"D:\\keras_png_slices_data\\keras_png_slices_test\\*.png\"\n",
    "VAL_IMAGE_PATH = \"D:\\keras_png_slices_data\\keras_png_slices_validate\\*.png\""
   ]
  },
  {
   "cell_type": "code",
   "execution_count": 69,
   "id": "4c5f2c9b",
   "metadata": {},
   "outputs": [],
   "source": [
    "# Initialise image dimensions for model\n",
    "IMG_HEIGHT = 128\n",
    "IMG_WIDTH = 128"
   ]
  },
  {
   "cell_type": "code",
   "execution_count": 70,
   "id": "b9e94e5d",
   "metadata": {},
   "outputs": [],
   "source": [
    "def load_data():\n",
    "    \"\"\"\n",
    "    Loads the datasets for training, testing and validation.\n",
    "    Outputs tf.data.Dataset objects for train, test and validation datasets.\n",
    "    \"\"\"\n",
    "    train_images = sorted(glob.glob(TRAIN_IMAGE_PATH))\n",
    "    test_images = sorted(glob.glob(TEST_IMAGE_PATH))\n",
    "    val_images = sorted(glob.glob(VAL_IMAGE_PATH))\n",
    "\n",
    "    train_ds = tf.data.Dataset.from_tensor_slices(train_images)\n",
    "    test_ds = tf.data.Dataset.from_tensor_slices(test_images)\n",
    "    val_ds = tf.data.Dataset.from_tensor_slices(val_images)\n",
    "\n",
    "    return train_ds, test_ds, val_ds"
   ]
  },
  {
   "cell_type": "code",
   "execution_count": 71,
   "id": "6993434c",
   "metadata": {},
   "outputs": [],
   "source": [
    "def decode_image(path):\n",
    "    \"\"\"\n",
    "    Decodes a .png image. Outputs grayscale image with standardised\n",
    "    dimension (128 x 128) and normalised pixel values.\n",
    "    \"\"\"\n",
    "    img = tf.io.read_file(path)\n",
    "    img = tf.image.decode_jpeg(img, channels = 1)\n",
    "    img = tf.image.resize(img, [IMG_HEIGHT, IMG_WIDTH])\n",
    "    img = tf.cast(img, tf.float32) / 255.0\n",
    "    return img"
   ]
  },
  {
   "cell_type": "code",
   "execution_count": 72,
   "id": "50c3c7ec",
   "metadata": {},
   "outputs": [],
   "source": [
    "def process_path(image_path):\n",
    "    \"\"\"\n",
    "    Map function for datasets. Decodes images, and reshapes\n",
    "    dataset tensors for updated image dimensions.\n",
    "    \"\"\"\n",
    "    image = decode_image(image_path)\n",
    "    image = tf.reshape(image, (IMG_HEIGHT, IMG_WIDTH, 1))\n",
    "    return image"
   ]
  },
  {
   "cell_type": "code",
   "execution_count": 73,
   "id": "8ae60fc9",
   "metadata": {},
   "outputs": [],
   "source": [
    "# Pre-process the OASIS brain data.\n",
    "train_ds, test_ds, val_ds = load_data()\n",
    "\n",
    "train_ds = train_ds.map(process_path)\n",
    "test_ds = test_ds.map(process_path)\n",
    "val_ds = val_ds.map(process_path)"
   ]
  },
  {
   "cell_type": "code",
   "execution_count": 74,
   "id": "7ae32d16",
   "metadata": {},
   "outputs": [],
   "source": [
    "def display(display_list):\n",
    "    \"\"\"\n",
    "    Displays a list of images.\n",
    "    \"\"\"\n",
    "    plt.figure(figsize=(10,10))\n",
    "    for i in range(len(display_list)):\n",
    "        plt.subplot(1, len(display_list), i+1)\n",
    "        plt.imshow(display_list[i], cmap='gray')\n",
    "        plt.axis('off')\n",
    "    plt.show()"
   ]
  },
  {
   "cell_type": "code",
   "execution_count": 75,
   "id": "dcc99807",
   "metadata": {},
   "outputs": [
    {
     "data": {
      "image/png": "[encoded data removed]",
      "text/plain": [
       "<Figure size 720x720 with 1 Axes>"
      ]
     },
     "metadata": {
      "needs_background": "light"
     },
     "output_type": "display_data"
    }
   ],
   "source": [
    "# Check dataset has been successfully loaded and pre-processed.\n",
    "for image in train_ds.take(1):\n",
    "    display([image])"
   ]
  },
  {
   "cell_type": "code",
   "execution_count": null,
   "id": "8fba82f7",
   "metadata": {},
   "outputs": [],
   "source": []
  }
 ],
 "metadata": {
  "kernelspec": {
   "display_name": "Python 3 (ipykernel)",
   "language": "python",
   "name": "python3"
  },
  "language_info": {
   "codemirror_mode": {
    "name": "ipython",
    "version": 3
   },
   "file_extension": ".py",
   "mimetype": "text/x-python",
   "name": "python",
   "nbconvert_exporter": "python",
   "pygments_lexer": "ipython3",
   "version": "3.9.6"
  }
 },
 "nbformat": 4,
 "nbformat_minor": 5
}
