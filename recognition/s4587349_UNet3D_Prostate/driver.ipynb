{
 "cells": [
  {
   "cell_type": "markdown",
   "id": "a67b75f5",
   "metadata": {},
   "source": [
    "test"
   ]
  },
  {
   "cell_type": "code",
   "execution_count": 10,
   "id": "2daed1db",
   "metadata": {},
   "outputs": [],
   "source": [
    "import os\n",
    "import numpy as np\n",
    "import nibabel as nib\n",
    "import matplotlib.pyplot as plt\n",
    "import tensorflow as tf\n",
    "\n",
    "from tensorflow import keras\n",
    "from tensorflow.keras import layers"
   ]
  },
  {
   "cell_type": "code",
   "execution_count": 11,
   "id": "c8f48288",
   "metadata": {},
   "outputs": [],
   "source": [
    "%run model.ipynb\n",
    "%run support_methods.ipynb "
   ]
  },
  {
   "cell_type": "code",
   "execution_count": 12,
   "id": "8de3be92",
   "metadata": {},
   "outputs": [],
   "source": [
    "img_mr = nib.load('d:\\\\prostate\\\\semantic_MRs_anon\\\\Case_004_Week0_LFOV.nii.gz')"
   ]
  },
  {
   "cell_type": "code",
   "execution_count": 13,
   "id": "f7536081",
   "metadata": {},
   "outputs": [
    {
     "data": {
      "text/plain": [
       "(256, 256, 128)"
      ]
     },
     "execution_count": 13,
     "metadata": {},
     "output_type": "execute_result"
    }
   ],
   "source": [
    "img_mr.shape"
   ]
  },
  {
   "cell_type": "code",
   "execution_count": 14,
   "id": "1c71dcbf",
   "metadata": {},
   "outputs": [
    {
     "name": "stdout",
     "output_type": "stream",
     "text": [
      "int32\n"
     ]
    }
   ],
   "source": [
    "print(img_mr.get_data_dtype())"
   ]
  },
  {
   "cell_type": "code",
   "execution_count": 16,
   "id": "a5e4da49",
   "metadata": {},
   "outputs": [
    {
     "name": "stdout",
     "output_type": "stream",
     "text": [
      "<class 'nibabel.nifti1.Nifti1Image'>\n",
      "data shape (256, 256, 128)\n",
      "affine: \n",
      "[[ -1.5625       0.           0.         207.25753784]\n",
      " [  0.          -1.5625       0.         205.93536377]\n",
      " [  0.           0.           1.55999756 -89.55769348]\n",
      " [  0.           0.           0.           1.        ]]\n",
      "metadata:\n",
      "<class 'nibabel.nifti1.Nifti1Header'> object, endian='<'\n",
      "sizeof_hdr      : 348\n",
      "data_type       : b''\n",
      "db_name         : b''\n",
      "extents         : 0\n",
      "session_error   : 0\n",
      "regular         : b'r'\n",
      "dim_info        : 0\n",
      "dim             : [  3 256 256 128   1   1   1   1]\n",
      "intent_p1       : 0.0\n",
      "intent_p2       : 0.0\n",
      "intent_p3       : 0.0\n",
      "intent_code     : none\n",
      "datatype        : int32\n",
      "bitpix          : 32\n",
      "slice_start     : 0\n",
      "pixdim          : [1.        1.5625    1.5625    1.5599976 0.        0.        0.\n",
      " 0.       ]\n",
      "vox_offset      : 0.0\n",
      "scl_slope       : nan\n",
      "scl_inter       : nan\n",
      "slice_end       : 0\n",
      "slice_code      : unknown\n",
      "xyzt_units      : 2\n",
      "cal_max         : 0.0\n",
      "cal_min         : 0.0\n",
      "slice_duration  : 0.0\n",
      "toffset         : 0.0\n",
      "glmax           : 0\n",
      "glmin           : 0\n",
      "descrip         : b''\n",
      "aux_file        : b''\n",
      "qform_code      : aligned\n",
      "sform_code      : scanner\n",
      "quatern_b       : 0.0\n",
      "quatern_c       : 0.0\n",
      "quatern_d       : 1.0\n",
      "qoffset_x       : 207.25754\n",
      "qoffset_y       : 205.93536\n",
      "qoffset_z       : -89.55769\n",
      "srow_x          : [ -1.5625    0.        0.      207.25754]\n",
      "srow_y          : [  0.       -1.5625    0.      205.93536]\n",
      "srow_z          : [  0.          0.          1.5599976 -89.55769  ]\n",
      "intent_name     : b''\n",
      "magic           : b'n+1'\n"
     ]
    }
   ],
   "source": [
    "print(img_mr)"
   ]
  },
  {
   "cell_type": "code",
   "execution_count": 17,
   "id": "1bc355ca",
   "metadata": {},
   "outputs": [
    {
     "data": {
      "text/plain": [
       "array([[[0., 0., 0., ..., 0., 0., 0.],\n",
       "        [0., 0., 0., ..., 0., 0., 0.],\n",
       "        [0., 0., 0., ..., 0., 0., 0.],\n",
       "        ...,\n",
       "        [0., 0., 0., ..., 0., 0., 0.],\n",
       "        [0., 0., 0., ..., 0., 0., 0.],\n",
       "        [0., 0., 0., ..., 0., 0., 0.]],\n",
       "\n",
       "       [[0., 0., 0., ..., 0., 0., 0.],\n",
       "        [0., 0., 0., ..., 0., 0., 0.],\n",
       "        [0., 0., 0., ..., 0., 0., 0.],\n",
       "        ...,\n",
       "        [0., 0., 0., ..., 0., 0., 0.],\n",
       "        [0., 0., 0., ..., 0., 0., 0.],\n",
       "        [0., 0., 0., ..., 0., 0., 0.]],\n",
       "\n",
       "       [[0., 0., 0., ..., 0., 0., 0.],\n",
       "        [0., 0., 0., ..., 0., 0., 0.],\n",
       "        [0., 0., 0., ..., 0., 0., 0.],\n",
       "        ...,\n",
       "        [0., 0., 0., ..., 0., 0., 0.],\n",
       "        [0., 0., 0., ..., 0., 0., 0.],\n",
       "        [0., 0., 0., ..., 0., 0., 0.]],\n",
       "\n",
       "       ...,\n",
       "\n",
       "       [[0., 0., 0., ..., 0., 0., 0.],\n",
       "        [0., 0., 0., ..., 0., 0., 0.],\n",
       "        [0., 0., 0., ..., 0., 0., 0.],\n",
       "        ...,\n",
       "        [0., 0., 0., ..., 0., 0., 0.],\n",
       "        [0., 0., 0., ..., 0., 0., 0.],\n",
       "        [0., 0., 0., ..., 0., 0., 0.]],\n",
       "\n",
       "       [[0., 0., 0., ..., 0., 0., 0.],\n",
       "        [0., 0., 0., ..., 0., 0., 0.],\n",
       "        [0., 0., 0., ..., 0., 0., 0.],\n",
       "        ...,\n",
       "        [0., 0., 0., ..., 0., 0., 0.],\n",
       "        [0., 0., 0., ..., 0., 0., 0.],\n",
       "        [0., 0., 0., ..., 0., 0., 0.]],\n",
       "\n",
       "       [[0., 0., 0., ..., 0., 0., 0.],\n",
       "        [0., 0., 0., ..., 0., 0., 0.],\n",
       "        [0., 0., 0., ..., 0., 0., 0.],\n",
       "        ...,\n",
       "        [0., 0., 0., ..., 0., 0., 0.],\n",
       "        [0., 0., 0., ..., 0., 0., 0.],\n",
       "        [0., 0., 0., ..., 0., 0., 0.]]])"
      ]
     },
     "execution_count": 17,
     "metadata": {},
     "output_type": "execute_result"
    }
   ],
   "source": [
    "data_mr = img_mr.get_fdata()\n",
    "data_mr"
   ]
  },
  {
   "cell_type": "code",
   "execution_count": 25,
   "id": "4c836703",
   "metadata": {},
   "outputs": [
    {
     "name": "stdout",
     "output_type": "stream",
     "text": [
      "<class 'numpy.ndarray'>\n",
      "3\n",
      "(256, 256, 128)\n",
      "float64\n",
      "478.0\n",
      "0.0\n"
     ]
    }
   ],
   "source": [
    "print(type(data_mr))\n",
    "print(data_mr.ndim)\n",
    "print(data_mr.shape)\n",
    "print(data_mr.dtype)\n",
    "print(np.amax(data_mr))\n",
    "print(np.amin(data_mr))"
   ]
  },
  {
   "cell_type": "code",
   "execution_count": null,
   "id": "9f0b1b61",
   "metadata": {},
   "outputs": [],
   "source": []
  },
  {
   "cell_type": "code",
   "execution_count": 29,
   "id": "cfd0c012",
   "metadata": {},
   "outputs": [],
   "source": [
    "def show_slices(slices):\n",
    "    fig, axes = plt.subplots(1, len(slices))\n",
    "    for i, slice in enumerate(slices):\n",
    "        axes[i].imshow(slice.T, cmap=\"gray\", origin=\"lower\")"
   ]
  },
  {
   "cell_type": "code",
   "execution_count": 34,
   "id": "76289ee3",
   "metadata": {},
   "outputs": [
    {
     "data": {
      "image/png": "[encoded data removed]",
      "text/plain": [
       "<Figure size 432x288 with 3 Axes>"
      ]
     },
     "metadata": {
      "needs_background": "light"
     },
     "output_type": "display_data"
    }
   ],
   "source": [
    "slice_0 = data_mr[127, :, :]\n",
    "slice_1 = data_mr[:, 127, :]\n",
    "slice_2 = data_mr[:, :, 63]\n",
    "\n",
    "show_slices([slice_0, slice_1, slice_2])"
   ]
  },
  {
   "cell_type": "code",
   "execution_count": 35,
   "id": "10ceab1a",
   "metadata": {},
   "outputs": [],
   "source": [
    "img_label = nib.load('d:\\\\prostate\\\\semantic_labels_anon\\\\Case_004_Week0_SEMANTIC_LFOV.nii.gz')"
   ]
  },
  {
   "cell_type": "code",
   "execution_count": 36,
   "id": "83cfd035",
   "metadata": {},
   "outputs": [
    {
     "data": {
      "text/plain": [
       "(256, 256, 128)"
      ]
     },
     "execution_count": 36,
     "metadata": {},
     "output_type": "execute_result"
    }
   ],
   "source": [
    "img_label.shape"
   ]
  },
  {
   "cell_type": "code",
   "execution_count": 37,
   "id": "6eb5d03f",
   "metadata": {},
   "outputs": [
    {
     "name": "stdout",
     "output_type": "stream",
     "text": [
      "int32\n"
     ]
    }
   ],
   "source": [
    "print(img_label.get_data_dtype())"
   ]
  },
  {
   "cell_type": "code",
   "execution_count": 38,
   "id": "25c6b78b",
   "metadata": {},
   "outputs": [
    {
     "data": {
      "text/plain": [
       "nibabel.nifti1.Nifti1Image"
      ]
     },
     "execution_count": 38,
     "metadata": {},
     "output_type": "execute_result"
    }
   ],
   "source": [
    "type(img_label)"
   ]
  },
  {
   "cell_type": "code",
   "execution_count": 39,
   "id": "00c4ee77",
   "metadata": {},
   "outputs": [
    {
     "name": "stdout",
     "output_type": "stream",
     "text": [
      "<class 'numpy.ndarray'>\n",
      "3\n",
      "(256, 256, 128)\n",
      "float64\n",
      "5.0\n",
      "0.0\n"
     ]
    }
   ],
   "source": [
    "data_label = img_label.get_fdata()\n",
    "print(type(data_label))\n",
    "print(data_label.ndim)\n",
    "print(data_label.shape)\n",
    "print(data_label.dtype)\n",
    "print(np.amax(data_label))\n",
    "print(np.amin(data_label))"
   ]
  },
  {
   "cell_type": "code",
   "execution_count": 40,
   "id": "d7173e75",
   "metadata": {},
   "outputs": [
    {
     "data": {
      "image/png": "[encoded data removed]",
      "text/plain": [
       "<Figure size 432x288 with 3 Axes>"
      ]
     },
     "metadata": {
      "needs_background": "light"
     },
     "output_type": "display_data"
    }
   ],
   "source": [
    "slice_3 = data_label[127, :, :]\n",
    "slice_4 = data_label[:, 127, :]\n",
    "slice_5 = data_label[:, :, 63]\n",
    "\n",
    "show_slices([slice_3, slice_4, slice_5])"
   ]
  },
  {
   "cell_type": "code",
   "execution_count": 41,
   "id": "f1ae46cf",
   "metadata": {},
   "outputs": [],
   "source": [
    "label_tf = tf.convert_to_tensor(data_label)"
   ]
  },
  {
   "cell_type": "code",
   "execution_count": 46,
   "id": "c468b6fa",
   "metadata": {},
   "outputs": [
    {
     "name": "stdout",
     "output_type": "stream",
     "text": [
      "<dtype: 'float64'>\n",
      "<class 'tensorflow.python.framework.ops.EagerTensor'>\n",
      "tf.Tensor(8388608, shape=(), dtype=int32)\n",
      "(256, 256, 128)\n",
      "<dtype: 'float64'>\n",
      "5.0\n",
      "0.0\n"
     ]
    }
   ],
   "source": [
    "print(label_tf.dtype)\n",
    "print(type(label_tf))\n",
    "print(tf.size(label_tf))\n",
    "print(label_tf.shape)\n",
    "print(label_tf.dtype)\n",
    "print(np.amax(label_tf))\n",
    "print(np.amin(label_tf))\n"
   ]
  },
  {
   "cell_type": "code",
   "execution_count": null,
   "id": "0296f096",
   "metadata": {},
   "outputs": [],
   "source": []
  }
 ],
 "metadata": {
  "kernelspec": {
   "display_name": "Python 3",
   "language": "python",
   "name": "python3"
  },
  "language_info": {
   "codemirror_mode": {
    "name": "ipython",
    "version": 3
   },
   "file_extension": ".py",
   "mimetype": "text/x-python",
   "name": "python",
   "nbconvert_exporter": "python",
   "pygments_lexer": "ipython3",
   "version": "3.9.6"
  }
 },
 "nbformat": 4,
 "nbformat_minor": 5
}
