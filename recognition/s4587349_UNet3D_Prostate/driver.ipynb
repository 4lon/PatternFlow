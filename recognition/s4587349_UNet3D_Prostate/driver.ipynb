{
 "cells": [
  {
   "cell_type": "markdown",
   "id": "f11a159d",
   "metadata": {},
   "source": [
    "test"
   ]
  },
  {
   "cell_type": "code",
   "execution_count": 5,
   "id": "b6bebddb",
   "metadata": {},
   "outputs": [],
   "source": [
    "import os\n",
    "import numpy as np\n",
    "import nibabel as nib\n",
    "import matplotlib.pyplot as plt\n"
   ]
  },
  {
   "cell_type": "code",
   "execution_count": 3,
   "id": "cb36ded3",
   "metadata": {},
   "outputs": [],
   "source": [
    "%run model.ipynb\n",
    "%run support_methods.ipynb "
   ]
  },
  {
   "cell_type": "code",
   "execution_count": 10,
   "id": "f89fa2f2",
   "metadata": {},
   "outputs": [],
   "source": [
    "data_mr = nib.load('d:\\\\prostate\\\\semantic_MRs_anon\\\\Case_004_Week0_LFOV.nii.gz')"
   ]
  },
  {
   "cell_type": "code",
   "execution_count": 11,
   "id": "03c79e3b",
   "metadata": {},
   "outputs": [
    {
     "data": {
      "text/plain": [
       "(256, 256, 128)"
      ]
     },
     "execution_count": 11,
     "metadata": {},
     "output_type": "execute_result"
    }
   ],
   "source": [
    "data_mr.shape"
   ]
  },
  {
   "cell_type": "code",
   "execution_count": 15,
   "id": "d122d53c",
   "metadata": {},
   "outputs": [
    {
     "name": "stdout",
     "output_type": "stream",
     "text": [
      "int32\n"
     ]
    }
   ],
   "source": [
    "print(data_mr.get_data_dtype())"
   ]
  },
  {
   "cell_type": "code",
   "execution_count": 19,
   "id": "f1e68198",
   "metadata": {},
   "outputs": [],
   "source": [
    "def show_slices(slices):\n",
    "    fig, axes = plt.subplts(1, len(slices))\n",
    "    for i, slice in enumerate(slices):\n",
    "        axes[i].imshow(slice.T, cmap=\"gray\", origin=\"lower\")"
   ]
  },
  {
   "cell_type": "code",
   "execution_count": 23,
   "id": "59bf3038",
   "metadata": {},
   "outputs": [
    {
     "ename": "TypeError",
     "evalue": "Cannot slice image objects; consider using `img.slicer[slice]` to generate a sliced image (see documentation for caveats) or slicing image array data with `img.dataobj[slice]` or `img.get_fdata()[slice]`",
     "output_type": "error",
     "traceback": [
      "\u001b[1;31m---------------------------------------------------------------------------\u001b[0m",
      "\u001b[1;31mTypeError\u001b[0m                                 Traceback (most recent call last)",
      "\u001b[1;32m<ipython-input-23-197b61edb0c3>\u001b[0m in \u001b[0;36m<module>\u001b[1;34m\u001b[0m\n\u001b[1;32m----> 1\u001b[1;33m \u001b[0mslice_0\u001b[0m \u001b[1;33m=\u001b[0m \u001b[0mdata_mr\u001b[0m\u001b[1;33m[\u001b[0m\u001b[1;36m26\u001b[0m\u001b[1;33m,\u001b[0m \u001b[1;33m:\u001b[0m\u001b[1;33m,\u001b[0m \u001b[1;33m:\u001b[0m\u001b[1;33m]\u001b[0m\u001b[1;33m\u001b[0m\u001b[1;33m\u001b[0m\u001b[0m\n\u001b[0m\u001b[0;32m      2\u001b[0m \u001b[0mshow_slices\u001b[0m\u001b[1;33m(\u001b[0m\u001b[1;33m[\u001b[0m\u001b[0mslice_0\u001b[0m\u001b[1;33m]\u001b[0m\u001b[1;33m)\u001b[0m\u001b[1;33m\u001b[0m\u001b[1;33m\u001b[0m\u001b[0m\n",
      "\u001b[1;32m~\\anaconda3\\envs\\tf2\\lib\\site-packages\\nibabel\\spatialimages.py\u001b[0m in \u001b[0;36m__getitem__\u001b[1;34m(self, idx)\u001b[0m\n\u001b[0;32m    584\u001b[0m         \u001b[0mown\u001b[0m \u001b[0mrisk\u001b[0m\u001b[1;33m.\u001b[0m\u001b[1;33m\u001b[0m\u001b[1;33m\u001b[0m\u001b[0m\n\u001b[0;32m    585\u001b[0m         \"\"\"\n\u001b[1;32m--> 586\u001b[1;33m         raise TypeError(\n\u001b[0m\u001b[0;32m    587\u001b[0m             \u001b[1;34m\"Cannot slice image objects; consider using `img.slicer[slice]` \"\u001b[0m\u001b[1;33m\u001b[0m\u001b[1;33m\u001b[0m\u001b[0m\n\u001b[0;32m    588\u001b[0m             \u001b[1;34m\"to generate a sliced image (see documentation for caveats) or \"\u001b[0m\u001b[1;33m\u001b[0m\u001b[1;33m\u001b[0m\u001b[0m\n",
      "\u001b[1;31mTypeError\u001b[0m: Cannot slice image objects; consider using `img.slicer[slice]` to generate a sliced image (see documentation for caveats) or slicing image array data with `img.dataobj[slice]` or `img.get_fdata()[slice]`"
     ]
    }
   ],
   "source": [
    "slice_0 = data_mr[26, :, :]\n",
    "show_slices([slice_0])"
   ]
  },
  {
   "cell_type": "code",
   "execution_count": 12,
   "id": "c6c07c28",
   "metadata": {},
   "outputs": [],
   "source": [
    "data_label = nib.load('d:\\\\prostate\\\\semantic_labels_anon\\\\Case_004_Week0_SEMANTIC_LFOV.nii.gz')"
   ]
  },
  {
   "cell_type": "code",
   "execution_count": 13,
   "id": "9d6a41c7",
   "metadata": {},
   "outputs": [
    {
     "data": {
      "text/plain": [
       "(256, 256, 128)"
      ]
     },
     "execution_count": 13,
     "metadata": {},
     "output_type": "execute_result"
    }
   ],
   "source": [
    "data_label.shape"
   ]
  },
  {
   "cell_type": "code",
   "execution_count": 16,
   "id": "4dc0e644",
   "metadata": {},
   "outputs": [
    {
     "name": "stdout",
     "output_type": "stream",
     "text": [
      "int32\n"
     ]
    }
   ],
   "source": [
    "print(data_label.get_data_dtype())"
   ]
  },
  {
   "cell_type": "code",
   "execution_count": 17,
   "id": "c1550995",
   "metadata": {},
   "outputs": [
    {
     "data": {
      "text/plain": [
       "nibabel.nifti1.Nifti1Image"
      ]
     },
     "execution_count": 17,
     "metadata": {},
     "output_type": "execute_result"
    }
   ],
   "source": [
    "type(data_label)"
   ]
  },
  {
   "cell_type": "code",
   "execution_count": null,
   "id": "c72f5e99",
   "metadata": {},
   "outputs": [],
   "source": []
  }
 ],
 "metadata": {
  "kernelspec": {
   "display_name": "Python 3",
   "language": "python",
   "name": "python3"
  },
  "language_info": {
   "codemirror_mode": {
    "name": "ipython",
    "version": 3
   },
   "file_extension": ".py",
   "mimetype": "text/x-python",
   "name": "python",
   "nbconvert_exporter": "python",
   "pygments_lexer": "ipython3",
   "version": "3.9.6"
  }
 },
 "nbformat": 4,
 "nbformat_minor": 5
}
