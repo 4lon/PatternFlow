{
 "cells": [
  {
   "cell_type": "code",
   "execution_count": 1,
   "metadata": {},
   "outputs": [],
   "source": [
    "#importing dependencies\n",
    "\n",
    "import numpy as np\n",
    "import pandas as pd\n",
    "from tensorflow.keras.utils import to_categorical\n",
    "from sklearn.metrics import classification_report\n",
    "\n",
    "from GCNConv import GCNConv\n",
    "\n",
    "from tensorflow.keras.models import Model\n",
    "from tensorflow.keras.layers import Input, Dropout\n",
    "from tensorflow.keras.optimizers import Adam\n",
    "from tensorflow.keras.callbacks import TensorBoard, EarlyStopping\n",
    "\n",
    "from sklearn.manifold import TSNE\n",
    "import matplotlib.pyplot as plt\n",
    "from graph import *"
   ]
  },
  {
   "cell_type": "markdown",
   "metadata": {},
   "source": [
    "# Loading Data"
   ]
  },
  {
   "cell_type": "code",
   "execution_count": 2,
   "metadata": {},
   "outputs": [],
   "source": [
    "g = np.load('facebook.npz')"
   ]
  },
  {
   "cell_type": "code",
   "execution_count": 3,
   "metadata": {},
   "outputs": [
    {
     "data": {
      "text/plain": [
       "['edges', 'features', 'target']"
      ]
     },
     "execution_count": 3,
     "metadata": {},
     "output_type": "execute_result"
    }
   ],
   "source": [
    "g.files"
   ]
  },
  {
   "cell_type": "code",
   "execution_count": 4,
   "metadata": {},
   "outputs": [],
   "source": [
    "# Get the edges, features and target(label) of the graph\n",
    "edges = g['edges']\n",
    "X = g['features']\n",
    "target = g['target']"
   ]
  },
  {
   "cell_type": "code",
   "execution_count": 5,
   "metadata": {},
   "outputs": [],
   "source": [
    "# Get adjacency matrix\n",
    "A = get_adj_mat(edges)"
   ]
  },
  {
   "cell_type": "code",
   "execution_count": 6,
   "metadata": {},
   "outputs": [
    {
     "data": {
      "text/plain": [
       "(22470, 128)"
      ]
     },
     "execution_count": 6,
     "metadata": {},
     "output_type": "execute_result"
    }
   ],
   "source": [
    "X.shape"
   ]
  },
  {
   "cell_type": "code",
   "execution_count": 7,
   "metadata": {},
   "outputs": [],
   "source": [
    "# Number of nodes\n",
    "N = X.shape[0]"
   ]
  },
  {
   "cell_type": "code",
   "execution_count": 8,
   "metadata": {},
   "outputs": [],
   "source": [
    "# Number of features\n",
    "F = X.shape[1]"
   ]
  },
  {
   "cell_type": "code",
   "execution_count": 9,
   "metadata": {},
   "outputs": [],
   "source": [
    "# Number of Classes\n",
    "num_classes = len(np.unique(target))"
   ]
  },
  {
   "cell_type": "code",
   "execution_count": 10,
   "metadata": {},
   "outputs": [
    {
     "name": "stdout",
     "output_type": "stream",
     "text": [
      "Number of nodes: 22470\n",
      "Number of features: 128\n",
      "Number of classes: 4\n"
     ]
    }
   ],
   "source": [
    "print(\"Number of nodes: {}\\nNumber of features: {}\\nNumber of classes: {}\".format(N,F,num_classes))"
   ]
  },
  {
   "cell_type": "markdown",
   "metadata": {},
   "source": [
    "# Select examples for training, validation, and test then set the mask"
   ]
  },
  {
   "cell_type": "code",
   "execution_count": 11,
   "metadata": {},
   "outputs": [],
   "source": [
    "def split_data(target, N, limit=400,val_num=5000):\n",
    "    '''\n",
    "    Get the index of train, validation, and test data\n",
    "    '''\n",
    "    label_counter = dict((l, 0) for l in target)\n",
    "    train_idx = []\n",
    "    test_num = N - limit*len(np.unique(target)) - val_num\n",
    "    for i in range(len(target)):\n",
    "        label = target[i]\n",
    "        if label_counter[label]<limit:\n",
    "            #add the example to the training data\n",
    "            train_idx.append(i)\n",
    "            label_counter[label]+=1\n",
    "        \n",
    "        #exit the loop once we found 400 examples for each class\n",
    "        if all(count == limit for count in label_counter.values()):\n",
    "            break\n",
    "    \n",
    "    #get the indices that do not go to traning data\n",
    "    rest_idx = [x for x in range(len(target)) if x not in train_idx]\n",
    "    #get the first val_num\n",
    "    val_idx = rest_idx[:val_num]\n",
    "    test_idx = rest_idx[val_num:(val_num+test_num)]\n",
    "    return train_idx, val_idx,test_idx\n",
    "\n",
    "# Numbers of samples: Training: 1600, Validation: 4000, Test: 15870\n",
    "train_idx,val_idx,test_idx = split_data(target,N)"
   ]
  },
  {
   "cell_type": "code",
   "execution_count": 12,
   "metadata": {},
   "outputs": [],
   "source": [
    "#set the mask\n",
    "train_mask = np.zeros((N,),dtype=bool)\n",
    "train_mask[train_idx] = True\n",
    "\n",
    "val_mask = np.zeros((N,),dtype=bool)\n",
    "val_mask[val_idx] = True\n",
    "\n",
    "test_mask = np.zeros((N,),dtype=bool)\n",
    "test_mask[test_idx] = True"
   ]
  },
  {
   "cell_type": "code",
   "execution_count": 13,
   "metadata": {},
   "outputs": [],
   "source": [
    "# Convert the target with one-hot\n",
    "target = to_categorical(target)"
   ]
  },
  {
   "cell_type": "markdown",
   "metadata": {},
   "source": [
    "# Building and training a multi-layer GCN model"
   ]
  },
  {
   "cell_type": "code",
   "execution_count": 14,
   "metadata": {},
   "outputs": [
    {
     "name": "stdout",
     "output_type": "stream",
     "text": [
      "Model: \"model\"\n",
      "__________________________________________________________________________________________________\n",
      "Layer (type)                    Output Shape         Param #     Connected to                     \n",
      "==================================================================================================\n",
      "input_1 (InputLayer)            [(None, 128)]        0                                            \n",
      "__________________________________________________________________________________________________\n",
      "dropout (Dropout)               (None, 128)          0           input_1[0][0]                    \n",
      "__________________________________________________________________________________________________\n",
      "input_2 (InputLayer)            [(None, 22470)]      0                                            \n",
      "__________________________________________________________________________________________________\n",
      "gcn_conv (GCNConv)              (None, 32)           4096        dropout[0][0]                    \n",
      "                                                                 input_2[0][0]                    \n",
      "__________________________________________________________________________________________________\n",
      "dropout_1 (Dropout)             (None, 32)           0           gcn_conv[0][0]                   \n",
      "__________________________________________________________________________________________________\n",
      "gcn_conv_1 (GCNConv)            (None, 8)            256         dropout_1[0][0]                  \n",
      "                                                                 input_2[0][0]                    \n",
      "__________________________________________________________________________________________________\n",
      "dropout_2 (Dropout)             (None, 8)            0           gcn_conv_1[0][0]                 \n",
      "__________________________________________________________________________________________________\n",
      "gcn_conv_2 (GCNConv)            (None, 4)            32          dropout_2[0][0]                  \n",
      "                                                                 input_2[0][0]                    \n",
      "==================================================================================================\n",
      "Total params: 4,384\n",
      "Trainable params: 4,384\n",
      "Non-trainable params: 0\n",
      "__________________________________________________________________________________________________\n"
     ]
    }
   ],
   "source": [
    "# Parameters\n",
    "channels_1 = 32          # Number of channels in the first GCN layer\n",
    "channels_2 = 8           # Number of channels in the second GCN layer\n",
    "dropout = 0.5           # Dropout rate for the features\n",
    "learning_rate = 1e-2    # Learning rate\n",
    "epochs = 200            # Number of training epochs\n",
    "es_patience = 10        # Patience for early stopping\n",
    "\n",
    "\n",
    "# Model definition\n",
    "X_in = Input(shape=(F, ))\n",
    "node_in = Input((N, ), sparse=True)\n",
    "\n",
    "dropout_1 = Dropout(dropout)(X_in)\n",
    "GCNconv_1 = GCNConv(channels_1, activation='relu')([dropout_1, node_in])\n",
    "\n",
    "dropout_2 = Dropout(dropout)(GCNconv_1)\n",
    "GCNconv_2 = GCNConv(channels_2, activation='relu')([dropout_2, node_in])\n",
    "\n",
    "dropout_3 = Dropout(dropout)(GCNconv_2)\n",
    "GCNconv_2 = GCNConv(num_classes, activation='softmax')([dropout_3, node_in])\n",
    "\n",
    "# Build model\n",
    "model = Model(inputs=[X_in, node_in], outputs=GCNconv_2)\n",
    "optimizer = Adam(learning_rate=learning_rate)\n",
    "model.compile(optimizer=optimizer, loss='categorical_crossentropy', weighted_metrics=['acc'])\n",
    "model.summary()"
   ]
  },
  {
   "cell_type": "code",
   "execution_count": 15,
   "metadata": {},
   "outputs": [
    {
     "name": "stdout",
     "output_type": "stream",
     "text": [
      "WARNING:tensorflow:From D:\\Users\\uly6m\\anaconda3\\envs\\tf-env\\lib\\site-packages\\tensorflow\\python\\ops\\math_ops.py:3481: sparse_mat_mul (from tensorflow.python.ops.gen_math_ops) is deprecated and will be removed in a future version.\n",
      "Instructions for updating:\n",
      "Use `tf.linalg.matmul` instead\n"
     ]
    }
   ],
   "source": [
    "# Normalised the adjacency matrix\n",
    "A = get_adj_mat_hat(A)"
   ]
  },
  {
   "cell_type": "code",
   "execution_count": null,
   "metadata": {},
   "outputs": [],
   "source": []
  },
  {
   "cell_type": "code",
   "execution_count": 16,
   "metadata": {
    "scrolled": true
   },
   "outputs": [
    {
     "name": "stdout",
     "output_type": "stream",
     "text": [
      "Epoch 1/200\n",
      "1/1 [==============================] - 7s 7s/step - loss: 0.0997 - acc: 0.3281 - val_loss: 0.2837 - val_acc: 0.4980\n",
      "Epoch 2/200\n",
      "1/1 [==============================] - 1s 1s/step - loss: 0.0922 - acc: 0.3994 - val_loss: 0.2649 - val_acc: 0.5278\n",
      "Epoch 3/200\n",
      "1/1 [==============================] - 1s 1s/step - loss: 0.0876 - acc: 0.4381 - val_loss: 0.2491 - val_acc: 0.5450\n",
      "Epoch 4/200\n",
      "1/1 [==============================] - 1s 982ms/step - loss: 0.0833 - acc: 0.4575 - val_loss: 0.2358 - val_acc: 0.5566\n",
      "Epoch 5/200\n",
      "1/1 [==============================] - 1s 1s/step - loss: 0.0799 - acc: 0.4700 - val_loss: 0.2250 - val_acc: 0.5632\n",
      "Epoch 6/200\n",
      "1/1 [==============================] - 1s 1s/step - loss: 0.0773 - acc: 0.4688 - val_loss: 0.2164 - val_acc: 0.5718\n",
      "Epoch 7/200\n",
      "1/1 [==============================] - 1s 1s/step - loss: 0.0760 - acc: 0.5006 - val_loss: 0.2094 - val_acc: 0.5802\n",
      "Epoch 8/200\n",
      "1/1 [==============================] - 1s 1s/step - loss: 0.0736 - acc: 0.5044 - val_loss: 0.2036 - val_acc: 0.5890\n",
      "Epoch 9/200\n",
      "1/1 [==============================] - 1s 1s/step - loss: 0.0720 - acc: 0.5213 - val_loss: 0.1988 - val_acc: 0.5978\n",
      "Epoch 10/200\n",
      "1/1 [==============================] - 1s 1s/step - loss: 0.0699 - acc: 0.5275 - val_loss: 0.1943 - val_acc: 0.6078\n",
      "Epoch 11/200\n",
      "1/1 [==============================] - 1s 1s/step - loss: 0.0683 - acc: 0.5462 - val_loss: 0.1899 - val_acc: 0.6278\n",
      "Epoch 12/200\n",
      "1/1 [==============================] - 1s 1s/step - loss: 0.0667 - acc: 0.5656 - val_loss: 0.1853 - val_acc: 0.6532\n",
      "Epoch 13/200\n",
      "1/1 [==============================] - 1s 1s/step - loss: 0.0653 - acc: 0.5831 - val_loss: 0.1799 - val_acc: 0.6986\n",
      "Epoch 14/200\n",
      "1/1 [==============================] - 1s 1s/step - loss: 0.0624 - acc: 0.6256 - val_loss: 0.1737 - val_acc: 0.7634\n",
      "Epoch 15/200\n",
      "1/1 [==============================] - 1s 1s/step - loss: 0.0593 - acc: 0.6862 - val_loss: 0.1666 - val_acc: 0.7904\n",
      "Epoch 16/200\n",
      "1/1 [==============================] - 1s 1s/step - loss: 0.0583 - acc: 0.6925 - val_loss: 0.1589 - val_acc: 0.8084\n",
      "Epoch 17/200\n",
      "1/1 [==============================] - 1s 1s/step - loss: 0.0564 - acc: 0.7125 - val_loss: 0.1506 - val_acc: 0.8232\n",
      "Epoch 18/200\n",
      "1/1 [==============================] - 1s 1s/step - loss: 0.0526 - acc: 0.7356 - val_loss: 0.1421 - val_acc: 0.8358\n",
      "Epoch 19/200\n",
      "1/1 [==============================] - 1s 1s/step - loss: 0.0528 - acc: 0.7450 - val_loss: 0.1337 - val_acc: 0.8410\n",
      "Epoch 20/200\n",
      "1/1 [==============================] - 1s 1s/step - loss: 0.0508 - acc: 0.7500 - val_loss: 0.1258 - val_acc: 0.8504\n",
      "Epoch 21/200\n",
      "1/1 [==============================] - 1s 1s/step - loss: 0.0481 - acc: 0.7506 - val_loss: 0.1186 - val_acc: 0.8562\n",
      "Epoch 22/200\n",
      "1/1 [==============================] - 1s 1s/step - loss: 0.0461 - acc: 0.7694 - val_loss: 0.1124 - val_acc: 0.8594\n",
      "Epoch 23/200\n",
      "1/1 [==============================] - 1s 1s/step - loss: 0.0446 - acc: 0.7681 - val_loss: 0.1073 - val_acc: 0.8646\n",
      "Epoch 24/200\n",
      "1/1 [==============================] - 1s 1s/step - loss: 0.0423 - acc: 0.7906 - val_loss: 0.1028 - val_acc: 0.8690\n",
      "Epoch 25/200\n",
      "1/1 [==============================] - 1s 1s/step - loss: 0.0416 - acc: 0.7837 - val_loss: 0.0993 - val_acc: 0.8726\n",
      "Epoch 26/200\n",
      "1/1 [==============================] - 1s 1s/step - loss: 0.0409 - acc: 0.7837 - val_loss: 0.0966 - val_acc: 0.8764\n",
      "Epoch 27/200\n",
      "1/1 [==============================] - 1s 1s/step - loss: 0.0399 - acc: 0.8056 - val_loss: 0.0943 - val_acc: 0.8780\n",
      "Epoch 28/200\n",
      "1/1 [==============================] - 1s 1s/step - loss: 0.0415 - acc: 0.7912 - val_loss: 0.0925 - val_acc: 0.8786\n",
      "Epoch 29/200\n",
      "1/1 [==============================] - 1s 1s/step - loss: 0.0383 - acc: 0.8006 - val_loss: 0.0907 - val_acc: 0.8784\n",
      "Epoch 30/200\n",
      "1/1 [==============================] - 1s 1s/step - loss: 0.0383 - acc: 0.8025 - val_loss: 0.0883 - val_acc: 0.8786\n",
      "Epoch 31/200\n",
      "1/1 [==============================] - 1s 1s/step - loss: 0.0370 - acc: 0.7981 - val_loss: 0.0859 - val_acc: 0.8792\n",
      "Epoch 32/200\n",
      "1/1 [==============================] - 1s 1s/step - loss: 0.0373 - acc: 0.8131 - val_loss: 0.0833 - val_acc: 0.8826\n",
      "Epoch 33/200\n",
      "1/1 [==============================] - 1s 1s/step - loss: 0.0373 - acc: 0.8012 - val_loss: 0.0810 - val_acc: 0.8860\n",
      "Epoch 34/200\n",
      "1/1 [==============================] - 1s 1s/step - loss: 0.0355 - acc: 0.8238 - val_loss: 0.0791 - val_acc: 0.8872\n",
      "Epoch 35/200\n",
      "1/1 [==============================] - 1s 1s/step - loss: 0.0356 - acc: 0.8281 - val_loss: 0.0777 - val_acc: 0.8886\n",
      "Epoch 36/200\n",
      "1/1 [==============================] - 1s 1s/step - loss: 0.0337 - acc: 0.8313 - val_loss: 0.0768 - val_acc: 0.8908\n",
      "Epoch 37/200\n",
      "1/1 [==============================] - 1s 1s/step - loss: 0.0342 - acc: 0.8375 - val_loss: 0.0764 - val_acc: 0.8912\n",
      "Epoch 38/200\n",
      "1/1 [==============================] - 1s 1s/step - loss: 0.0340 - acc: 0.8163 - val_loss: 0.0764 - val_acc: 0.8906\n",
      "Epoch 39/200\n",
      "1/1 [==============================] - 1s 1s/step - loss: 0.0307 - acc: 0.8512 - val_loss: 0.0764 - val_acc: 0.8926\n",
      "Epoch 40/200\n",
      "1/1 [==============================] - 1s 1s/step - loss: 0.0310 - acc: 0.8537 - val_loss: 0.0765 - val_acc: 0.8932\n",
      "Epoch 41/200\n",
      "1/1 [==============================] - 1s 1s/step - loss: 0.0321 - acc: 0.8331 - val_loss: 0.0765 - val_acc: 0.8940\n",
      "Epoch 42/200\n",
      "1/1 [==============================] - 1s 1s/step - loss: 0.0308 - acc: 0.8419 - val_loss: 0.0760 - val_acc: 0.8946\n",
      "Epoch 43/200\n",
      "1/1 [==============================] - 1s 1s/step - loss: 0.0320 - acc: 0.8331 - val_loss: 0.0746 - val_acc: 0.8960\n",
      "Epoch 44/200\n",
      "1/1 [==============================] - 1s 1s/step - loss: 0.0304 - acc: 0.8531 - val_loss: 0.0735 - val_acc: 0.8976\n",
      "Epoch 45/200\n",
      "1/1 [==============================] - 1s 1s/step - loss: 0.0299 - acc: 0.8544 - val_loss: 0.0724 - val_acc: 0.8990\n",
      "Epoch 46/200\n",
      "1/1 [==============================] - 1s 1s/step - loss: 0.0298 - acc: 0.8587 - val_loss: 0.0717 - val_acc: 0.8992\n",
      "Epoch 47/200\n",
      "1/1 [==============================] - 1s 1s/step - loss: 0.0285 - acc: 0.8562 - val_loss: 0.0714 - val_acc: 0.8996\n",
      "Epoch 48/200\n",
      "1/1 [==============================] - 1s 1s/step - loss: 0.0301 - acc: 0.8537 - val_loss: 0.0711 - val_acc: 0.9002\n",
      "Epoch 49/200\n",
      "1/1 [==============================] - 1s 1s/step - loss: 0.0290 - acc: 0.8519 - val_loss: 0.0710 - val_acc: 0.9002\n",
      "Epoch 50/200\n",
      "1/1 [==============================] - 1s 1s/step - loss: 0.0301 - acc: 0.8619 - val_loss: 0.0711 - val_acc: 0.8988\n",
      "Epoch 51/200\n",
      "1/1 [==============================] - 1s 1s/step - loss: 0.0282 - acc: 0.8606 - val_loss: 0.0714 - val_acc: 0.8990\n",
      "Epoch 52/200\n",
      "1/1 [==============================] - 1s 1s/step - loss: 0.0297 - acc: 0.8562 - val_loss: 0.0717 - val_acc: 0.8976\n",
      "Epoch 53/200\n",
      "1/1 [==============================] - 1s 1s/step - loss: 0.0288 - acc: 0.8494 - val_loss: 0.0716 - val_acc: 0.8966\n",
      "Epoch 54/200\n",
      "1/1 [==============================] - 1s 1s/step - loss: 0.0280 - acc: 0.8694 - val_loss: 0.0711 - val_acc: 0.8976\n",
      "Epoch 55/200\n",
      "1/1 [==============================] - 1s 1s/step - loss: 0.0279 - acc: 0.8719 - val_loss: 0.0707 - val_acc: 0.8984\n",
      "Epoch 56/200\n",
      "1/1 [==============================] - 1s 1s/step - loss: 0.0283 - acc: 0.8631 - val_loss: 0.0699 - val_acc: 0.8994\n",
      "Epoch 57/200\n",
      "1/1 [==============================] - 1s 1s/step - loss: 0.0293 - acc: 0.8587 - val_loss: 0.0690 - val_acc: 0.9004\n",
      "Epoch 58/200\n",
      "1/1 [==============================] - 1s 1s/step - loss: 0.0272 - acc: 0.8625 - val_loss: 0.0681 - val_acc: 0.9004\n",
      "Epoch 59/200\n",
      "1/1 [==============================] - 1s 1s/step - loss: 0.0290 - acc: 0.8594 - val_loss: 0.0675 - val_acc: 0.9018\n",
      "Epoch 60/200\n",
      "1/1 [==============================] - 1s 1s/step - loss: 0.0284 - acc: 0.8612 - val_loss: 0.0672 - val_acc: 0.9026\n",
      "Epoch 61/200\n",
      "1/1 [==============================] - 1s 1s/step - loss: 0.0268 - acc: 0.8587 - val_loss: 0.0673 - val_acc: 0.9034\n",
      "Epoch 62/200\n",
      "1/1 [==============================] - 1s 1s/step - loss: 0.0271 - acc: 0.8744 - val_loss: 0.0675 - val_acc: 0.9030\n",
      "Epoch 63/200\n",
      "1/1 [==============================] - 1s 1s/step - loss: 0.0271 - acc: 0.8650 - val_loss: 0.0678 - val_acc: 0.9028\n",
      "Epoch 64/200\n"
     ]
    },
    {
     "name": "stdout",
     "output_type": "stream",
     "text": [
      "1/1 [==============================] - 1s 1s/step - loss: 0.0274 - acc: 0.8662 - val_loss: 0.0680 - val_acc: 0.9044\n",
      "Epoch 65/200\n",
      "1/1 [==============================] - 1s 1s/step - loss: 0.0259 - acc: 0.8725 - val_loss: 0.0679 - val_acc: 0.9046\n",
      "Epoch 66/200\n",
      "1/1 [==============================] - 1s 1s/step - loss: 0.0262 - acc: 0.8712 - val_loss: 0.0674 - val_acc: 0.9060\n",
      "Epoch 67/200\n",
      "1/1 [==============================] - 1s 1s/step - loss: 0.0262 - acc: 0.8819 - val_loss: 0.0673 - val_acc: 0.9068\n",
      "Epoch 68/200\n",
      "1/1 [==============================] - 1s 1s/step - loss: 0.0258 - acc: 0.8806 - val_loss: 0.0671 - val_acc: 0.9076\n",
      "Epoch 69/200\n",
      "1/1 [==============================] - 1s 1s/step - loss: 0.0264 - acc: 0.8756 - val_loss: 0.0667 - val_acc: 0.9070\n",
      "Epoch 70/200\n",
      "1/1 [==============================] - 1s 1s/step - loss: 0.0258 - acc: 0.8669 - val_loss: 0.0665 - val_acc: 0.9070\n",
      "Epoch 71/200\n",
      "1/1 [==============================] - 1s 1s/step - loss: 0.0266 - acc: 0.8750 - val_loss: 0.0660 - val_acc: 0.9074\n",
      "Epoch 72/200\n",
      "1/1 [==============================] - 1s 1s/step - loss: 0.0251 - acc: 0.8819 - val_loss: 0.0659 - val_acc: 0.9072\n",
      "Epoch 73/200\n",
      "1/1 [==============================] - 1s 1s/step - loss: 0.0243 - acc: 0.8794 - val_loss: 0.0658 - val_acc: 0.9072\n",
      "Epoch 74/200\n",
      "1/1 [==============================] - 1s 1s/step - loss: 0.0253 - acc: 0.8813 - val_loss: 0.0657 - val_acc: 0.9062\n",
      "Epoch 75/200\n",
      "1/1 [==============================] - 1s 1s/step - loss: 0.0254 - acc: 0.8725 - val_loss: 0.0660 - val_acc: 0.9046\n",
      "Epoch 76/200\n",
      "1/1 [==============================] - 1s 1s/step - loss: 0.0289 - acc: 0.8662 - val_loss: 0.0664 - val_acc: 0.9042\n",
      "Epoch 77/200\n",
      "1/1 [==============================] - 1s 1s/step - loss: 0.0256 - acc: 0.8706 - val_loss: 0.0669 - val_acc: 0.9048\n",
      "Epoch 78/200\n",
      "1/1 [==============================] - 1s 1s/step - loss: 0.0247 - acc: 0.8769 - val_loss: 0.0673 - val_acc: 0.9056\n",
      "Epoch 79/200\n",
      "1/1 [==============================] - 1s 1s/step - loss: 0.0263 - acc: 0.8813 - val_loss: 0.0671 - val_acc: 0.9062\n",
      "Epoch 80/200\n",
      "1/1 [==============================] - 1s 1s/step - loss: 0.0263 - acc: 0.8681 - val_loss: 0.0665 - val_acc: 0.9068\n",
      "Epoch 81/200\n",
      "1/1 [==============================] - 1s 1s/step - loss: 0.0245 - acc: 0.8781 - val_loss: 0.0660 - val_acc: 0.9066\n",
      "Epoch 82/200\n",
      "1/1 [==============================] - 1s 1s/step - loss: 0.0246 - acc: 0.8744 - val_loss: 0.0654 - val_acc: 0.9062\n",
      "Epoch 83/200\n",
      "1/1 [==============================] - 1s 1s/step - loss: 0.0242 - acc: 0.8850 - val_loss: 0.0649 - val_acc: 0.9060\n",
      "Epoch 84/200\n",
      "1/1 [==============================] - 1s 1s/step - loss: 0.0237 - acc: 0.8900 - val_loss: 0.0645 - val_acc: 0.9072\n",
      "Epoch 85/200\n",
      "1/1 [==============================] - 1s 1s/step - loss: 0.0246 - acc: 0.8881 - val_loss: 0.0644 - val_acc: 0.9066\n",
      "Epoch 86/200\n",
      "1/1 [==============================] - 1s 1s/step - loss: 0.0251 - acc: 0.8794 - val_loss: 0.0649 - val_acc: 0.9056\n",
      "Epoch 87/200\n",
      "1/1 [==============================] - 1s 1s/step - loss: 0.0260 - acc: 0.8769 - val_loss: 0.0654 - val_acc: 0.9052\n",
      "Epoch 88/200\n",
      "1/1 [==============================] - 1s 1s/step - loss: 0.0246 - acc: 0.8894 - val_loss: 0.0658 - val_acc: 0.9036\n",
      "Epoch 89/200\n",
      "1/1 [==============================] - 1s 1s/step - loss: 0.0261 - acc: 0.8763 - val_loss: 0.0654 - val_acc: 0.9030\n",
      "Epoch 90/200\n",
      "1/1 [==============================] - 1s 1s/step - loss: 0.0243 - acc: 0.8813 - val_loss: 0.0649 - val_acc: 0.9040\n",
      "Epoch 91/200\n",
      "1/1 [==============================] - 1s 1s/step - loss: 0.0252 - acc: 0.8750 - val_loss: 0.0643 - val_acc: 0.9050\n",
      "Epoch 92/200\n",
      "1/1 [==============================] - 1s 1s/step - loss: 0.0242 - acc: 0.8794 - val_loss: 0.0637 - val_acc: 0.9060\n",
      "Epoch 93/200\n",
      "1/1 [==============================] - 1s 1s/step - loss: 0.0248 - acc: 0.8888 - val_loss: 0.0634 - val_acc: 0.9078\n",
      "Epoch 94/200\n",
      "1/1 [==============================] - 1s 1s/step - loss: 0.0247 - acc: 0.8744 - val_loss: 0.0633 - val_acc: 0.9070\n",
      "Epoch 95/200\n",
      "1/1 [==============================] - 1s 1s/step - loss: 0.0261 - acc: 0.8806 - val_loss: 0.0633 - val_acc: 0.9078\n",
      "Epoch 96/200\n",
      "1/1 [==============================] - 1s 1s/step - loss: 0.0245 - acc: 0.8838 - val_loss: 0.0635 - val_acc: 0.9068\n",
      "Epoch 97/200\n",
      "1/1 [==============================] - 1s 1s/step - loss: 0.0236 - acc: 0.8856 - val_loss: 0.0638 - val_acc: 0.9066\n",
      "Epoch 98/200\n",
      "1/1 [==============================] - 1s 1s/step - loss: 0.0231 - acc: 0.8881 - val_loss: 0.0642 - val_acc: 0.9048\n",
      "Epoch 99/200\n",
      "1/1 [==============================] - 1s 1s/step - loss: 0.0256 - acc: 0.8794 - val_loss: 0.0647 - val_acc: 0.9046\n",
      "Epoch 100/200\n",
      "1/1 [==============================] - 1s 1s/step - loss: 0.0235 - acc: 0.8900 - val_loss: 0.0649 - val_acc: 0.9054\n",
      "Epoch 101/200\n",
      "1/1 [==============================] - 1s 1s/step - loss: 0.0239 - acc: 0.8794 - val_loss: 0.0648 - val_acc: 0.9056\n",
      "Epoch 102/200\n",
      "1/1 [==============================] - 1s 1s/step - loss: 0.0234 - acc: 0.8913 - val_loss: 0.0646 - val_acc: 0.9066\n",
      "Epoch 103/200\n",
      "1/1 [==============================] - 1s 1s/step - loss: 0.0238 - acc: 0.8825 - val_loss: 0.0646 - val_acc: 0.9064\n",
      "Epoch 104/200\n",
      "1/1 [==============================] - 1s 1s/step - loss: 0.0231 - acc: 0.8850 - val_loss: 0.0645 - val_acc: 0.9064\n",
      "Epoch 105/200\n",
      "1/1 [==============================] - 1s 1s/step - loss: 0.0233 - acc: 0.8844 - val_loss: 0.0644 - val_acc: 0.9066\n",
      "Epoch 106/200\n",
      "1/1 [==============================] - 1s 1s/step - loss: 0.0244 - acc: 0.8863 - val_loss: 0.0643 - val_acc: 0.9068\n",
      "Epoch 107/200\n",
      "1/1 [==============================] - 1s 1s/step - loss: 0.0242 - acc: 0.8819 - val_loss: 0.0643 - val_acc: 0.9068\n",
      "Epoch 108/200\n",
      "1/1 [==============================] - 1s 1s/step - loss: 0.0239 - acc: 0.8825 - val_loss: 0.0645 - val_acc: 0.9070\n",
      "Epoch 109/200\n",
      "1/1 [==============================] - 1s 1s/step - loss: 0.0249 - acc: 0.8781 - val_loss: 0.0646 - val_acc: 0.9068\n",
      "Epoch 110/200\n",
      "1/1 [==============================] - 1s 1s/step - loss: 0.0255 - acc: 0.8744 - val_loss: 0.0646 - val_acc: 0.9058\n",
      "Epoch 111/200\n",
      "1/1 [==============================] - 1s 1s/step - loss: 0.0253 - acc: 0.8788 - val_loss: 0.0644 - val_acc: 0.9062\n",
      "Epoch 112/200\n",
      "1/1 [==============================] - 1s 1s/step - loss: 0.0243 - acc: 0.8788 - val_loss: 0.0641 - val_acc: 0.9072\n",
      "Epoch 113/200\n",
      "1/1 [==============================] - 1s 1s/step - loss: 0.0219 - acc: 0.9013 - val_loss: 0.0637 - val_acc: 0.9074\n",
      "Epoch 114/200\n",
      "1/1 [==============================] - 1s 1s/step - loss: 0.0234 - acc: 0.8781 - val_loss: 0.0635 - val_acc: 0.9072\n",
      "Epoch 115/200\n",
      "1/1 [==============================] - 1s 1s/step - loss: 0.0224 - acc: 0.8931 - val_loss: 0.0634 - val_acc: 0.9082\n",
      "Epoch 116/200\n",
      "1/1 [==============================] - 1s 1s/step - loss: 0.0219 - acc: 0.8994 - val_loss: 0.0635 - val_acc: 0.9086\n",
      "Epoch 117/200\n",
      "1/1 [==============================] - 1s 1s/step - loss: 0.0257 - acc: 0.8856 - val_loss: 0.0639 - val_acc: 0.9092\n",
      "Epoch 118/200\n",
      "1/1 [==============================] - 1s 1s/step - loss: 0.0222 - acc: 0.8956 - val_loss: 0.0641 - val_acc: 0.9080\n",
      "Epoch 119/200\n",
      "1/1 [==============================] - 1s 1s/step - loss: 0.0242 - acc: 0.8900 - val_loss: 0.0646 - val_acc: 0.9092\n",
      "Epoch 120/200\n",
      "1/1 [==============================] - 1s 1s/step - loss: 0.0205 - acc: 0.9031 - val_loss: 0.0650 - val_acc: 0.9094\n",
      "Epoch 121/200\n",
      "1/1 [==============================] - 1s 1s/step - loss: 0.0226 - acc: 0.8863 - val_loss: 0.0654 - val_acc: 0.9090\n",
      "Epoch 122/200\n",
      "1/1 [==============================] - 1s 1s/step - loss: 0.0243 - acc: 0.8844 - val_loss: 0.0647 - val_acc: 0.9096\n",
      "Epoch 123/200\n",
      "1/1 [==============================] - 1s 1s/step - loss: 0.0224 - acc: 0.8919 - val_loss: 0.0641 - val_acc: 0.9100\n",
      "Epoch 124/200\n",
      "1/1 [==============================] - 1s 1s/step - loss: 0.0230 - acc: 0.8894 - val_loss: 0.0635 - val_acc: 0.9118\n",
      "Epoch 125/200\n",
      "1/1 [==============================] - 1s 1s/step - loss: 0.0218 - acc: 0.8813 - val_loss: 0.0634 - val_acc: 0.9102\n",
      "Epoch 126/200\n",
      "1/1 [==============================] - 1s 1s/step - loss: 0.0238 - acc: 0.8850 - val_loss: 0.0634 - val_acc: 0.9102\n",
      "Epoch 127/200\n"
     ]
    },
    {
     "name": "stdout",
     "output_type": "stream",
     "text": [
      "1/1 [==============================] - 1s 1s/step - loss: 0.0228 - acc: 0.8900 - val_loss: 0.0637 - val_acc: 0.9102\n",
      "Epoch 128/200\n",
      "1/1 [==============================] - 1s 1s/step - loss: 0.0220 - acc: 0.8975 - val_loss: 0.0640 - val_acc: 0.9102\n",
      "Epoch 129/200\n",
      "1/1 [==============================] - 1s 1s/step - loss: 0.0212 - acc: 0.8950 - val_loss: 0.0643 - val_acc: 0.9112\n",
      "Epoch 130/200\n",
      "1/1 [==============================] - 1s 1s/step - loss: 0.0237 - acc: 0.8894 - val_loss: 0.0642 - val_acc: 0.9106\n",
      "Epoch 131/200\n",
      "1/1 [==============================] - 1s 1s/step - loss: 0.0238 - acc: 0.8869 - val_loss: 0.0637 - val_acc: 0.9108\n",
      "Epoch 132/200\n",
      "1/1 [==============================] - 1s 1s/step - loss: 0.0245 - acc: 0.8813 - val_loss: 0.0629 - val_acc: 0.9118\n",
      "Epoch 133/200\n",
      "1/1 [==============================] - 1s 1s/step - loss: 0.0230 - acc: 0.8906 - val_loss: 0.0625 - val_acc: 0.9124\n",
      "Epoch 134/200\n",
      "1/1 [==============================] - 1s 1s/step - loss: 0.0228 - acc: 0.8881 - val_loss: 0.0620 - val_acc: 0.9124\n",
      "Epoch 135/200\n",
      "1/1 [==============================] - 1s 1s/step - loss: 0.0231 - acc: 0.9013 - val_loss: 0.0616 - val_acc: 0.9124\n",
      "Epoch 136/200\n",
      "1/1 [==============================] - 1s 1s/step - loss: 0.0240 - acc: 0.8800 - val_loss: 0.0616 - val_acc: 0.9122\n",
      "Epoch 137/200\n",
      "1/1 [==============================] - 1s 1s/step - loss: 0.0241 - acc: 0.8875 - val_loss: 0.0617 - val_acc: 0.9122\n",
      "Epoch 138/200\n",
      "1/1 [==============================] - 1s 1s/step - loss: 0.0248 - acc: 0.8788 - val_loss: 0.0616 - val_acc: 0.9126\n",
      "Epoch 139/200\n",
      "1/1 [==============================] - 1s 1s/step - loss: 0.0220 - acc: 0.8881 - val_loss: 0.0618 - val_acc: 0.9132\n",
      "Epoch 140/200\n",
      "1/1 [==============================] - 1s 1s/step - loss: 0.0231 - acc: 0.8825 - val_loss: 0.0623 - val_acc: 0.9138\n",
      "Epoch 141/200\n",
      "1/1 [==============================] - 1s 1s/step - loss: 0.0223 - acc: 0.8950 - val_loss: 0.0627 - val_acc: 0.9146\n",
      "Epoch 142/200\n",
      "1/1 [==============================] - 1s 1s/step - loss: 0.0217 - acc: 0.9050 - val_loss: 0.0629 - val_acc: 0.9158\n",
      "Epoch 143/200\n",
      "1/1 [==============================] - 1s 1s/step - loss: 0.0242 - acc: 0.8963 - val_loss: 0.0629 - val_acc: 0.9160\n",
      "Epoch 144/200\n",
      "1/1 [==============================] - 1s 1s/step - loss: 0.0220 - acc: 0.8994 - val_loss: 0.0630 - val_acc: 0.9150\n",
      "Epoch 145/200\n",
      "1/1 [==============================] - 1s 1s/step - loss: 0.0240 - acc: 0.8863 - val_loss: 0.0632 - val_acc: 0.9146\n",
      "Epoch 146/200\n",
      "1/1 [==============================] - 1s 1s/step - loss: 0.0227 - acc: 0.8881 - val_loss: 0.0635 - val_acc: 0.9146\n",
      "Epoch 147/200\n",
      "1/1 [==============================] - 1s 1s/step - loss: 0.0227 - acc: 0.8881 - val_loss: 0.0633 - val_acc: 0.9140\n",
      "Epoch 148/200\n",
      "1/1 [==============================] - 1s 1s/step - loss: 0.0215 - acc: 0.9013 - val_loss: 0.0633 - val_acc: 0.9134\n",
      "Epoch 149/200\n",
      "1/1 [==============================] - 1s 1s/step - loss: 0.0229 - acc: 0.8869 - val_loss: 0.0634 - val_acc: 0.9118\n",
      "Epoch 150/200\n",
      "1/1 [==============================] - 1s 1s/step - loss: 0.0214 - acc: 0.8994 - val_loss: 0.0636 - val_acc: 0.9114\n",
      "Epoch 151/200\n",
      "1/1 [==============================] - 1s 1s/step - loss: 0.0234 - acc: 0.8931 - val_loss: 0.0638 - val_acc: 0.9106\n",
      "Epoch 152/200\n",
      "1/1 [==============================] - 1s 1s/step - loss: 0.0218 - acc: 0.8956 - val_loss: 0.0638 - val_acc: 0.9100\n",
      "Epoch 153/200\n",
      "1/1 [==============================] - 1s 1s/step - loss: 0.0215 - acc: 0.9031 - val_loss: 0.0636 - val_acc: 0.9106\n",
      "Epoch 154/200\n",
      "1/1 [==============================] - 1s 1s/step - loss: 0.0221 - acc: 0.8844 - val_loss: 0.0634 - val_acc: 0.9112\n",
      "Epoch 155/200\n",
      "1/1 [==============================] - 1s 1s/step - loss: 0.0214 - acc: 0.9056 - val_loss: 0.0633 - val_acc: 0.9114\n",
      "Epoch 156/200\n",
      "1/1 [==============================] - 1s 1s/step - loss: 0.0215 - acc: 0.8981 - val_loss: 0.0633 - val_acc: 0.9118\n",
      "Epoch 157/200\n",
      "1/1 [==============================] - 1s 1s/step - loss: 0.0222 - acc: 0.8900 - val_loss: 0.0631 - val_acc: 0.9116\n",
      "Epoch 158/200\n",
      "1/1 [==============================] - 1s 1s/step - loss: 0.0206 - acc: 0.9006 - val_loss: 0.0630 - val_acc: 0.9118\n",
      "Epoch 159/200\n",
      "1/1 [==============================] - 1s 1s/step - loss: 0.0225 - acc: 0.8938 - val_loss: 0.0630 - val_acc: 0.9122\n",
      "Epoch 160/200\n",
      "1/1 [==============================] - 1s 1s/step - loss: 0.0216 - acc: 0.8938 - val_loss: 0.0627 - val_acc: 0.9122\n",
      "Epoch 161/200\n",
      "1/1 [==============================] - 1s 1s/step - loss: 0.0222 - acc: 0.8881 - val_loss: 0.0624 - val_acc: 0.9120\n",
      "Epoch 162/200\n",
      "1/1 [==============================] - 1s 1s/step - loss: 0.0221 - acc: 0.8950 - val_loss: 0.0622 - val_acc: 0.9124\n",
      "Epoch 163/200\n",
      "1/1 [==============================] - 1s 1s/step - loss: 0.0222 - acc: 0.8875 - val_loss: 0.0621 - val_acc: 0.9132\n",
      "Epoch 164/200\n",
      "1/1 [==============================] - 1s 1s/step - loss: 0.0203 - acc: 0.8981 - val_loss: 0.0620 - val_acc: 0.9140\n",
      "Epoch 165/200\n",
      "1/1 [==============================] - 1s 1s/step - loss: 0.0212 - acc: 0.8906 - val_loss: 0.0622 - val_acc: 0.9142\n",
      "Epoch 166/200\n",
      "1/1 [==============================] - 1s 1s/step - loss: 0.0206 - acc: 0.9019 - val_loss: 0.0627 - val_acc: 0.9128\n",
      "Epoch 167/200\n",
      "1/1 [==============================] - 1s 1s/step - loss: 0.0218 - acc: 0.8956 - val_loss: 0.0634 - val_acc: 0.9120\n",
      "Epoch 168/200\n",
      "1/1 [==============================] - 1s 1s/step - loss: 0.0215 - acc: 0.8981 - val_loss: 0.0640 - val_acc: 0.9106\n",
      "Epoch 169/200\n",
      "1/1 [==============================] - 1s 1s/step - loss: 0.0223 - acc: 0.9000 - val_loss: 0.0642 - val_acc: 0.9110\n",
      "Epoch 170/200\n",
      "1/1 [==============================] - 1s 1s/step - loss: 0.0223 - acc: 0.8931 - val_loss: 0.0640 - val_acc: 0.9112\n",
      "Epoch 171/200\n",
      "1/1 [==============================] - 1s 1s/step - loss: 0.0213 - acc: 0.8938 - val_loss: 0.0633 - val_acc: 0.9118\n",
      "Epoch 172/200\n",
      "1/1 [==============================] - 1s 1s/step - loss: 0.0223 - acc: 0.8956 - val_loss: 0.0621 - val_acc: 0.9124\n",
      "Epoch 173/200\n",
      "1/1 [==============================] - 1s 1s/step - loss: 0.0212 - acc: 0.8944 - val_loss: 0.0615 - val_acc: 0.9132\n",
      "Epoch 174/200\n",
      "1/1 [==============================] - 1s 1s/step - loss: 0.0212 - acc: 0.8906 - val_loss: 0.0613 - val_acc: 0.9130\n",
      "Epoch 175/200\n",
      "1/1 [==============================] - 1s 1s/step - loss: 0.0215 - acc: 0.9044 - val_loss: 0.0614 - val_acc: 0.9134\n",
      "Epoch 176/200\n",
      "1/1 [==============================] - 1s 1s/step - loss: 0.0222 - acc: 0.8950 - val_loss: 0.0616 - val_acc: 0.9148\n",
      "Epoch 177/200\n",
      "1/1 [==============================] - 1s 1s/step - loss: 0.0204 - acc: 0.8988 - val_loss: 0.0622 - val_acc: 0.9144\n",
      "Epoch 178/200\n",
      "1/1 [==============================] - 1s 1s/step - loss: 0.0219 - acc: 0.8919 - val_loss: 0.0631 - val_acc: 0.9114\n",
      "Epoch 179/200\n",
      "1/1 [==============================] - 1s 1s/step - loss: 0.0215 - acc: 0.9038 - val_loss: 0.0641 - val_acc: 0.9092\n",
      "Epoch 180/200\n",
      "1/1 [==============================] - 1s 1s/step - loss: 0.0237 - acc: 0.8863 - val_loss: 0.0648 - val_acc: 0.9078\n",
      "Epoch 181/200\n",
      "1/1 [==============================] - 1s 1s/step - loss: 0.0206 - acc: 0.8875 - val_loss: 0.0650 - val_acc: 0.9068\n",
      "Epoch 182/200\n",
      "1/1 [==============================] - 1s 1s/step - loss: 0.0212 - acc: 0.8963 - val_loss: 0.0644 - val_acc: 0.9072\n",
      "Epoch 183/200\n",
      "1/1 [==============================] - 1s 1s/step - loss: 0.0210 - acc: 0.8925 - val_loss: 0.0634 - val_acc: 0.9094\n",
      "Epoch 184/200\n",
      "1/1 [==============================] - 1s 1s/step - loss: 0.0224 - acc: 0.8981 - val_loss: 0.0623 - val_acc: 0.9110\n",
      "Epoch 185/200\n",
      "1/1 [==============================] - 1s 1s/step - loss: 0.0212 - acc: 0.9000 - val_loss: 0.0617 - val_acc: 0.9126\n",
      "Epoch 186/200\n",
      "1/1 [==============================] - 1s 1s/step - loss: 0.0218 - acc: 0.8925 - val_loss: 0.0617 - val_acc: 0.9140\n",
      "Epoch 187/200\n",
      "1/1 [==============================] - 1s 1s/step - loss: 0.0210 - acc: 0.8913 - val_loss: 0.0619 - val_acc: 0.9144\n",
      "Epoch 188/200\n",
      "1/1 [==============================] - 1s 1s/step - loss: 0.0209 - acc: 0.8975 - val_loss: 0.0623 - val_acc: 0.9146\n",
      "Epoch 189/200\n",
      "1/1 [==============================] - 1s 1s/step - loss: 0.0213 - acc: 0.8950 - val_loss: 0.0632 - val_acc: 0.9136\n",
      "Epoch 190/200\n"
     ]
    },
    {
     "name": "stdout",
     "output_type": "stream",
     "text": [
      "1/1 [==============================] - 1s 1s/step - loss: 0.0214 - acc: 0.8950 - val_loss: 0.0637 - val_acc: 0.9124\n",
      "Epoch 191/200\n",
      "1/1 [==============================] - 1s 1s/step - loss: 0.0218 - acc: 0.8875 - val_loss: 0.0637 - val_acc: 0.9120\n",
      "Epoch 192/200\n",
      "1/1 [==============================] - 1s 947ms/step - loss: 0.0206 - acc: 0.9062 - val_loss: 0.0634 - val_acc: 0.9122\n",
      "Epoch 193/200\n",
      "1/1 [==============================] - 1s 947ms/step - loss: 0.0221 - acc: 0.8863 - val_loss: 0.0632 - val_acc: 0.9132\n",
      "Epoch 194/200\n",
      "1/1 [==============================] - 1s 972ms/step - loss: 0.0234 - acc: 0.8806 - val_loss: 0.0628 - val_acc: 0.9140\n",
      "Epoch 195/200\n",
      "1/1 [==============================] - 1s 974ms/step - loss: 0.0220 - acc: 0.9019 - val_loss: 0.0624 - val_acc: 0.9146\n",
      "Epoch 196/200\n",
      "1/1 [==============================] - 1s 1s/step - loss: 0.0221 - acc: 0.8875 - val_loss: 0.0620 - val_acc: 0.9158\n",
      "Epoch 197/200\n",
      "1/1 [==============================] - 1s 928ms/step - loss: 0.0208 - acc: 0.9000 - val_loss: 0.0619 - val_acc: 0.9160\n",
      "Epoch 198/200\n",
      "1/1 [==============================] - 1s 1s/step - loss: 0.0221 - acc: 0.8969 - val_loss: 0.0618 - val_acc: 0.9156\n",
      "Epoch 199/200\n",
      "1/1 [==============================] - 1s 948ms/step - loss: 0.0219 - acc: 0.8938 - val_loss: 0.0621 - val_acc: 0.9160\n",
      "Epoch 200/200\n",
      "1/1 [==============================] - 1s 985ms/step - loss: 0.0213 - acc: 0.8944 - val_loss: 0.0628 - val_acc: 0.9146\n"
     ]
    },
    {
     "data": {
      "text/plain": [
       "<tensorflow.python.keras.callbacks.History at 0x1b513c4ec50>"
      ]
     },
     "execution_count": 16,
     "metadata": {},
     "output_type": "execute_result"
    }
   ],
   "source": [
    "# Train model\n",
    "validation_data = ([X, A], target, val_mask)\n",
    "model.fit([X, A],\n",
    "          target,\n",
    "          sample_weight=train_mask,\n",
    "          epochs=epochs,\n",
    "          batch_size=N,\n",
    "          validation_data=validation_data,\n",
    "          shuffle=False\n",
    " )"
   ]
  },
  {
   "cell_type": "code",
   "execution_count": 17,
   "metadata": {},
   "outputs": [],
   "source": [
    "losses = pd.DataFrame(model.history.history)"
   ]
  },
  {
   "cell_type": "code",
   "execution_count": 18,
   "metadata": {},
   "outputs": [
    {
     "data": {
      "text/html": [
       "<div>\n",
       "<style scoped>\n",
       "    .dataframe tbody tr th:only-of-type {\n",
       "        vertical-align: middle;\n",
       "    }\n",
       "\n",
       "    .dataframe tbody tr th {\n",
       "        vertical-align: top;\n",
       "    }\n",
       "\n",
       "    .dataframe thead th {\n",
       "        text-align: right;\n",
       "    }\n",
       "</style>\n",
       "<table border=\"1\" class=\"dataframe\">\n",
       "  <thead>\n",
       "    <tr style=\"text-align: right;\">\n",
       "      <th></th>\n",
       "      <th>loss</th>\n",
       "      <th>acc</th>\n",
       "      <th>val_loss</th>\n",
       "      <th>val_acc</th>\n",
       "    </tr>\n",
       "  </thead>\n",
       "  <tbody>\n",
       "    <tr>\n",
       "      <th>0</th>\n",
       "      <td>0.099725</td>\n",
       "      <td>0.328125</td>\n",
       "      <td>0.283652</td>\n",
       "      <td>0.4980</td>\n",
       "    </tr>\n",
       "    <tr>\n",
       "      <th>1</th>\n",
       "      <td>0.092216</td>\n",
       "      <td>0.399375</td>\n",
       "      <td>0.264919</td>\n",
       "      <td>0.5278</td>\n",
       "    </tr>\n",
       "    <tr>\n",
       "      <th>2</th>\n",
       "      <td>0.087554</td>\n",
       "      <td>0.438125</td>\n",
       "      <td>0.249097</td>\n",
       "      <td>0.5450</td>\n",
       "    </tr>\n",
       "    <tr>\n",
       "      <th>3</th>\n",
       "      <td>0.083253</td>\n",
       "      <td>0.457500</td>\n",
       "      <td>0.235839</td>\n",
       "      <td>0.5566</td>\n",
       "    </tr>\n",
       "    <tr>\n",
       "      <th>4</th>\n",
       "      <td>0.079905</td>\n",
       "      <td>0.470000</td>\n",
       "      <td>0.225020</td>\n",
       "      <td>0.5632</td>\n",
       "    </tr>\n",
       "  </tbody>\n",
       "</table>\n",
       "</div>"
      ],
      "text/plain": [
       "       loss       acc  val_loss  val_acc\n",
       "0  0.099725  0.328125  0.283652   0.4980\n",
       "1  0.092216  0.399375  0.264919   0.5278\n",
       "2  0.087554  0.438125  0.249097   0.5450\n",
       "3  0.083253  0.457500  0.235839   0.5566\n",
       "4  0.079905  0.470000  0.225020   0.5632"
      ]
     },
     "execution_count": 18,
     "metadata": {},
     "output_type": "execute_result"
    }
   ],
   "source": [
    "losses.head()"
   ]
  },
  {
   "cell_type": "code",
   "execution_count": 19,
   "metadata": {},
   "outputs": [
    {
     "data": {
      "text/plain": [
       "<AxesSubplot:>"
      ]
     },
     "execution_count": 19,
     "metadata": {},
     "output_type": "execute_result"
    },
    {
     "data": {
      "image/png": "[encoded data removed]",
      "text/plain": [
       "<Figure size 432x288 with 1 Axes>"
      ]
     },
     "metadata": {
      "needs_background": "light"
     },
     "output_type": "display_data"
    }
   ],
   "source": [
    "losses[['acc','val_acc']].plot()"
   ]
  },
  {
   "cell_type": "code",
   "execution_count": 20,
   "metadata": {},
   "outputs": [
    {
     "data": {
      "text/plain": [
       "<AxesSubplot:>"
      ]
     },
     "execution_count": 20,
     "metadata": {},
     "output_type": "execute_result"
    },
    {
     "data": {
      "image/png": "[encoded data removed]",
      "text/plain": [
       "<Figure size 432x288 with 1 Axes>"
      ]
     },
     "metadata": {
      "needs_background": "light"
     },
     "output_type": "display_data"
    }
   ],
   "source": [
    "losses[['loss','val_loss']].plot()"
   ]
  },
  {
   "cell_type": "markdown",
   "metadata": {},
   "source": [
    "# Evaluation"
   ]
  },
  {
   "cell_type": "code",
   "execution_count": 21,
   "metadata": {},
   "outputs": [],
   "source": [
    "# Get the labels for test set\n",
    "y_test = target[test_mask]"
   ]
  },
  {
   "cell_type": "code",
   "execution_count": 22,
   "metadata": {},
   "outputs": [],
   "source": [
    "# Prediction of the whole graph\n",
    "y_pred = model.predict([X, A],batch_size=N)"
   ]
  },
  {
   "cell_type": "code",
   "execution_count": 23,
   "metadata": {},
   "outputs": [
    {
     "name": "stdout",
     "output_type": "stream",
     "text": [
      "GCN Classification Report for test set: \n",
      "               precision    recall  f1-score   support\n",
      "\n",
      "           0       0.84      0.90      0.87      2324\n",
      "           1       0.93      0.90      0.92      4598\n",
      "           2       0.93      0.92      0.93      4929\n",
      "           3       0.93      0.93      0.93      4019\n",
      "\n",
      "    accuracy                           0.92     15870\n",
      "   macro avg       0.91      0.91      0.91     15870\n",
      "weighted avg       0.92      0.92      0.92     15870\n",
      "\n"
     ]
    }
   ],
   "source": [
    "report = classification_report(np.argmax(y_test,axis=1), np.argmax(y_pred[test_mask],axis=1))\n",
    "print('GCN Classification Report for test set: \\n {}'.format(report))"
   ]
  },
  {
   "cell_type": "code",
   "execution_count": 24,
   "metadata": {},
   "outputs": [
    {
     "name": "stdout",
     "output_type": "stream",
     "text": [
      "GCN Classification Report for the whole graph: \n",
      "               precision    recall  f1-score   support\n",
      "\n",
      "           0       0.85      0.90      0.87      3327\n",
      "           1       0.94      0.90      0.92      6495\n",
      "           2       0.93      0.92      0.93      6880\n",
      "           3       0.93      0.94      0.93      5768\n",
      "\n",
      "    accuracy                           0.92     22470\n",
      "   macro avg       0.91      0.92      0.91     22470\n",
      "weighted avg       0.92      0.92      0.92     22470\n",
      "\n"
     ]
    }
   ],
   "source": [
    "report = classification_report(np.argmax(target,axis=1), np.argmax(y_pred,axis=1))\n",
    "print('GCN Classification Report for the whole graph: \\n {}'.format(report))"
   ]
  },
  {
   "cell_type": "markdown",
   "metadata": {},
   "source": [
    "# TSNE Plot"
   ]
  },
  {
   "cell_type": "code",
   "execution_count": 25,
   "metadata": {},
   "outputs": [],
   "source": [
    "x_tsne = TSNE(n_components=2).fit_transform(y_pred)"
   ]
  },
  {
   "cell_type": "code",
   "execution_count": 26,
   "metadata": {},
   "outputs": [
    {
     "data": {
      "image/png": "[encoded data removed]",
      "text/plain": [
       "<Figure size 720x720 with 1 Axes>"
      ]
     },
     "metadata": {
      "needs_background": "light"
     },
     "output_type": "display_data"
    }
   ],
   "source": [
    "def plot_tSNE(target,x_tsne):\n",
    "    color_map = np.argmax(target, axis=1)\n",
    "    plt.figure(figsize=(10,10))\n",
    "    for i in range(num_classes):\n",
    "        indices = np.where(color_map==i)\n",
    "        indices = indices[0]\n",
    "        plt.scatter(x_tsne[indices,0], x_tsne[indices, 1], label=i)\n",
    "    plt.legend()\n",
    "    plt.show()\n",
    "    \n",
    "plot_tSNE(target,x_tsne)"
   ]
  },
  {
   "cell_type": "code",
   "execution_count": null,
   "metadata": {},
   "outputs": [],
   "source": []
  }
 ],
 "metadata": {
  "kernelspec": {
   "display_name": "Python 3 (ipykernel)",
   "language": "python",
   "name": "python3"
  },
  "language_info": {
   "codemirror_mode": {
    "name": "ipython",
    "version": 3
   },
   "file_extension": ".py",
   "mimetype": "text/x-python",
   "name": "python",
   "nbconvert_exporter": "python",
   "pygments_lexer": "ipython3",
   "version": "3.7.0"
  },
  "varInspector": {
   "cols": {
    "lenName": 16,
    "lenType": 16,
    "lenVar": 40
   },
   "kernels_config": {
    "python": {
     "delete_cmd_postfix": "",
     "delete_cmd_prefix": "del ",
     "library": "var_list.py",
     "varRefreshCmd": "print(var_dic_list())"
    },
    "r": {
     "delete_cmd_postfix": ") ",
     "delete_cmd_prefix": "rm(",
     "library": "var_list.r",
     "varRefreshCmd": "cat(var_dic_list()) "
    }
   },
   "types_to_exclude": [
    "module",
    "function",
    "builtin_function_or_method",
    "instance",
    "_Feature"
   ],
   "window_display": false
  }
 },
 "nbformat": 4,
 "nbformat_minor": 2
}
