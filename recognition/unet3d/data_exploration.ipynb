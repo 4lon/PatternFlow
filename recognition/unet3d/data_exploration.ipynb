{
 "cells": [
  {
   "cell_type": "code",
   "execution_count": 29,
   "metadata": {},
   "outputs": [],
   "source": [
    "import os\n",
    "import re\n",
    "import nibabel as nib\n",
    "from IPython.core.interactiveshell import InteractiveShell\n",
    "InteractiveShell.ast_node_interactivity = \"all\"\n",
    "\n"
   ]
  },
  {
   "cell_type": "markdown",
   "metadata": {},
   "source": [
    "# Get image path"
   ]
  },
  {
   "cell_type": "code",
   "execution_count": 3,
   "metadata": {},
   "outputs": [
    {
     "name": "stdout",
     "output_type": "stream",
     "text": [
      "Number of raw images:  211\n"
     ]
    }
   ],
   "source": [
    "# list all images in directory and order by case no. and week\n",
    "targets = os.listdir(target_dir)\n",
    "targets = [fname for fname in targets if fname.endswith('nii.gz')]\n",
    "targets.sort(key=lambda var:[int(x) if x.isdigit() else x for x in re.findall(r'[^0-9]|[0-9]+', var)])\n",
    "target_path = [os.path.join(target_dir, fname) for fname in targets]\n",
    "\n",
    "print(\"Number of images: \", len(targets))"
   ]
  },
  {
   "cell_type": "code",
   "execution_count": 26,
   "metadata": {},
   "outputs": [
    {
     "name": "stdout",
     "output_type": "stream",
     "text": [
      "Number of images:  211\n"
     ]
    }
   ],
   "source": [
    "# list all images in directory and order by case no. and week\n",
    "labels = os.listdir(label_dir)\n",
    "labels = [fname for fname in labels if fname.endswith('nii.gz')]\n",
    "labels.sort(key=lambda var:[int(x) if x.isdigit() else x for x in re.findall(r'[^0-9]|[0-9]+', var)])\n",
    "label_path = [os.path.join(label_dir, fname) for fname in labels]\n",
    "\n",
    "print(\"Number of images: \", len(labels))"
   ]
  },
  {
   "cell_type": "markdown",
   "metadata": {},
   "source": [
    "# Check shapes of images"
   ]
  },
  {
   "cell_type": "code",
   "execution_count": 7,
   "metadata": {},
   "outputs": [
    {
     "name": "stdout",
     "output_type": "stream",
     "text": [
      "Combination of different image shapes:  {(256, 256, 128), (256, 256, 144)}\n",
      "Case_019_Week1_LFOV.nii.gz\n"
     ]
    }
   ],
   "source": [
    "import nibabel as nib\n",
    "all_target_shape =set([nib.load(img).shape for img in target_path])\n",
    "\n",
    "print(\"Combination of different image shapes: \", all_target_shape)\n",
    "\n",
    "\n",
    "# Case_019_Week1_LFOV.nii.gz has diff shape (256, 256, 144)\n",
    "for f in target_path:\n",
    "    if nib.load(f).shape != (256, 256, 128):\n",
    "        print(f.split('/')[-1])"
   ]
  },
  {
   "cell_type": "code",
   "execution_count": 28,
   "metadata": {},
   "outputs": [
    {
     "name": "stdout",
     "output_type": "stream",
     "text": [
      "Combination of different image shapes:  {(256, 256, 128), (256, 256, 144)}\n",
      "Case_019_Week1_SEMANTIC_LFOV.nii.gz\n"
     ]
    }
   ],
   "source": [
    "all_label_shape =set([nib.load(img).shape for img in label_path])\n",
    "\n",
    "print(\"Combination of different image shapes: \", all_label_shape)\n",
    "\n",
    "\n",
    "# Case_019_Week1_LFOV.nii.gz has diff shape (256, 256, 144)\n",
    "for f in label_path:\n",
    "    if nib.load(f).shape != (256, 256, 128):\n",
    "        print(f.split('/')[-1])"
   ]
  },
  {
   "cell_type": "code",
   "execution_count": null,
   "metadata": {},
   "outputs": [],
   "source": [
    "# Check distribution of data\n",
    "mean_rec = [np.mean(nib.load(f).get_fdata()) for f in filepaths]"
   ]
  },
  {
   "cell_type": "code",
   "execution_count": 25,
   "metadata": {},
   "outputs": [
    {
     "name": "stdout",
     "output_type": "stream",
     "text": [
      "Number of images:  211\n"
     ]
    }
   ],
   "source": []
  },
  {
   "cell_type": "code",
   "execution_count": 21,
   "metadata": {},
   "outputs": [
    {
     "data": {
      "text/plain": [
       "('mm', 'unknown')"
      ]
     },
     "execution_count": 21,
     "metadata": {},
     "output_type": "execute_result"
    }
   ],
   "source": []
  },
  {
   "cell_type": "code",
   "execution_count": 18,
   "metadata": {},
   "outputs": [
    {
     "data": {
      "text/plain": [
       "array([  0.,   1.,   2.,   3.,   4.,   5.,   6.,   7.,   8.,   9.,  10.,\n",
       "        11.,  12.,  13.,  14.,  15.,  16.,  17.,  18.,  19.,  20.,  21.,\n",
       "        22.,  23.,  24.,  25.,  26.,  27.,  28.,  29.,  30.,  31.,  32.,\n",
       "        33.,  34.,  35.,  36.,  37.,  38.,  39.,  40.,  41.,  42.,  43.,\n",
       "        44.,  45.,  46.,  47.,  48.,  49.,  50.,  51.,  52.,  53.,  54.,\n",
       "        55.,  56.,  57.,  58.,  59.,  60.,  61.,  62.,  63.,  64.,  65.,\n",
       "        66.,  67.,  68.,  69.,  70.,  71.,  72.,  73.,  74.,  75.,  76.,\n",
       "        77.,  78.,  79.,  80.,  81.,  82.,  83.,  84.,  85.,  86.,  87.,\n",
       "        88.,  89.,  90.,  91.,  92.,  93.,  94.,  95.,  96.,  97.,  98.,\n",
       "        99., 100., 101., 102., 103., 104., 105., 106., 107., 108., 109.,\n",
       "       110., 111., 112., 113., 114., 115., 116., 117., 118., 119., 120.,\n",
       "       121., 122., 123., 124., 125., 126., 127., 128., 129., 130., 131.,\n",
       "       132., 133., 134., 135., 136., 137., 138., 139., 140., 141., 142.,\n",
       "       143., 144., 145., 146., 147., 148., 149., 150., 151., 152., 153.,\n",
       "       154., 155., 156., 157., 158., 159., 160., 161., 162., 163., 164.,\n",
       "       165., 166., 167., 168., 169., 170., 171., 172., 173., 174., 175.,\n",
       "       176., 177., 178., 179., 180., 181., 182., 183., 184., 185., 186.,\n",
       "       187., 188., 189., 190., 191., 192., 193., 194., 195., 196., 197.,\n",
       "       198., 199., 200., 201., 202., 203., 204., 205., 206., 207., 208.,\n",
       "       209., 210., 211., 212., 213., 214., 215., 216., 217., 218., 219.,\n",
       "       220., 221., 222., 223., 224., 225., 226., 227., 228., 229., 230.,\n",
       "       231., 232., 233., 234., 235., 236., 237., 238., 239., 240., 241.,\n",
       "       242., 243., 244., 245., 246., 247., 248., 249., 250., 251., 252.,\n",
       "       253., 254., 255., 256., 257., 258., 259., 260., 261., 262., 263.,\n",
       "       264., 265., 266., 267., 268., 269., 270., 271., 272., 273., 274.,\n",
       "       275., 276., 277., 278., 279., 280., 281., 282., 283., 284., 285.,\n",
       "       286., 287., 288., 289., 290., 291., 292., 293., 294., 295., 296.,\n",
       "       297., 298., 299., 300., 301., 302., 303., 304., 305., 306., 307.,\n",
       "       308., 309., 310., 311., 312., 313., 314., 315., 316., 317., 318.,\n",
       "       319., 320., 321., 322., 323., 324., 325., 326., 327., 328., 329.,\n",
       "       330., 331., 332., 333., 334., 335., 336., 337., 338., 339., 340.,\n",
       "       341., 342., 343., 344., 345., 346., 347., 348., 349., 350., 351.,\n",
       "       352., 353., 354., 355., 356., 357., 358., 359., 360., 361., 362.,\n",
       "       363., 364., 365., 366., 367., 368., 369., 370., 371., 372., 373.,\n",
       "       374., 375., 376., 377., 378., 379., 380., 381., 382., 383., 384.,\n",
       "       385., 386., 387., 388., 389., 390., 391., 392., 393., 394., 395.,\n",
       "       396., 397., 398., 399., 400., 401., 402., 403., 404., 405., 406.,\n",
       "       407., 408., 409., 410., 411., 412., 413., 414., 415., 416., 417.,\n",
       "       418., 419., 420., 421., 422., 423., 424., 425., 426., 427., 428.,\n",
       "       429., 430., 431., 432., 433., 434., 435., 436., 437., 438., 439.,\n",
       "       440., 441., 442., 443., 444., 445., 446., 447., 448., 449., 450.,\n",
       "       451., 452., 453., 454., 455., 456., 457., 458., 459., 460., 461.,\n",
       "       462., 463., 464., 465., 466., 467., 468., 469., 470., 471., 474.,\n",
       "       476., 478.])"
      ]
     },
     "execution_count": 18,
     "metadata": {},
     "output_type": "execute_result"
    }
   ],
   "source": []
  },
  {
   "cell_type": "code",
   "execution_count": null,
   "metadata": {},
   "outputs": [],
   "source": []
  },
  {
   "cell_type": "code",
   "execution_count": null,
   "metadata": {},
   "outputs": [],
   "source": []
  }
 ],
 "metadata": {
  "interpreter": {
   "hash": "aee8b7b246df8f9039afb4144a1f6fd8d2ca17a180786b69acc140d282b71a49"
  },
  "kernelspec": {
   "display_name": "Python 3.9.6 64-bit",
   "name": "python3"
  },
  "language_info": {
   "codemirror_mode": {
    "name": "ipython",
    "version": 3
   },
   "file_extension": ".py",
   "mimetype": "text/x-python",
   "name": "python",
   "nbconvert_exporter": "python",
   "pygments_lexer": "ipython3",
   "version": "3.9.6"
  },
  "orig_nbformat": 4
 },
 "nbformat": 4,
 "nbformat_minor": 2
}
